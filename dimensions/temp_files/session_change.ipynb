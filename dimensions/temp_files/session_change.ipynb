{
 "cells": [
  {
   "cell_type": "code",
   "execution_count": 54,
   "metadata": {},
   "outputs": [],
   "source": [
    "import requests\n",
    "import json\n",
    "\n",
    "url = \"https://app.dimensions.ai/discover/publication/results.json?np=oYXZLCmebQbacy59fETPDfG1ul_OtW0EbvQquIzlZXwhmVpHIgC3wCRc&or_facet_year=2024&or_facet_publication_type=article\"\n",
    "\n",
    "payload = {}\n",
    "headers = {\n",
    "  'Accept': 'application/json',\n",
    "  'Accept-Language': 'en-US,en;q=0.9',\n",
    "  'Cache-Control': 'no-cache, no-store, must-revalidate',\n",
    "  'Connection': 'keep-alive',\n",
    "  'Content-Type': 'application/json',\n",
    "'Cookie' : 'intercom-device-id-ilx5k1fm=99edab8a-a6ab-47e3-bc44-070b8257d181; _gcl_au=1.1.1416844146.1707413904; _gid=GA1.2.1590107742.1707413905; aws-waf-token=7ac190f2-7850-4639-b888-1b60ef0a6171:EQoArSCGj+gJAAAA:kOk/PyXF4Kv75o/biH8ROPm06R/USaobDdV5LJA/9Nh4QR95hnsm4rTI1WIpTDAjDnNJ5mEH7mF0PERX++UXSop6DT+fZxZlXL64D3VAt+3ndFc2tI0wJVAquDGq0QeJWdzgNBATYuDc3Behxb+PWR1OzGV76ePdCcDeOvd2B/KDnc81/+9x5+gjc0jeg4wEnCoBcrbg7Pgwv7IBB9gpUpQ7RrSV0UOByTPD4PyTyrcUcDwhg267eLqe; _ga=GA1.1.1098850320.1707419421; OptanonAlertBoxClosed=2024-02-08T19:10:23.090Z; intercom-session-ilx5k1fm=OUhFbjNVMk94dE1wTnd1Q1dZZ29kSVYxUEpBbjBlSDFkeFk3V041WER0amZmVjQwRklNQ3JOeTF0Z0diRUYzMS0tMHBiR3lKaHRZRGRDZ0FkR21JVVlMdz09--1b4be3a144fda967ae026d7857995995a689701b; _ga_KH7CX71Y5X=GS1.1.1707419421.1.1.1707419475.0.0.0; uber_auth_tkt=45510374bc8e25a87a0bcb0bce1b9228c5da8d3df1e285d7d5ac930e3e638f2ad7e7c3a80effa80c119898dc8355a22e4a0ea597f7cbc5ddec7df98ab92658e065c605b0bi5tYXNoYXlla2hpNDU2QGdtYWlsLmNvbQ%3D%3D!A79bbb7f2e28ab0fc88639fadcb190a!userid_type:b64unicode; uber_auth_tkt=45510374bc8e25a87a0bcb0bce1b9228c5da8d3df1e285d7d5ac930e3e638f2ad7e7c3a80effa80c119898dc8355a22e4a0ea597f7cbc5ddec7df98ab92658e065c605b0bi5tYXNoYXlla2hpNDU2QGdtYWlsLmNvbQ%3D%3D!A79bbb7f2e28ab0fc88639fadcb190a!userid_type:b64unicode; OptanonConsent=isGpcEnabled=0&datestamp=Fri+Feb+09+2024+14%3A51%3A26+GMT%2B0330+(Iran+Standard+Time)&version=202401.2.0&browserGpcFlag=0&isIABGlobal=false&hosts=&consentId=6140ce0d-5f43-490a-afcc-537d77783362&interactionCount=2&landingPath=NotLandingPage&groups=C0001%3A1%2CC0002%3A0%2CC0003%3A0%2CC0004%3A0&AwaitingReconsent=false&geolocation=NL%3BUT; session=jYPMZGPQsUE_hYfmUGzmif0hnWF5TiCIpvHttXpgQlHXvIUgvzFwfLBu6TK6zQWrku43WCC_ugk19YfEuFGze1sxNzA3NDc3NzA1LCAxNzA3NDczMzk4LjA4NDEwODYsIHsiYXV0aGVudGljYXRpb24iOiBudWxsLCAiX2NzcmZ0XyI6ICJkYzE3N2ZjZTYyMzI3ZWVlMDIzZmIxNWY4MDI5MDkzOWQwMzIwOTg2IiwgImF1dGhfbWV0aG9kIjogImRpbWVuc2lvbnMifV0'\n",
    " , 'Expires': '0',\n",
    "  'Operations': 'sticky=rP6jIwDec8LBuNGsdGGOHOIsaJ0r53NmjnNEf7OX',\n",
    "  'Pragma': 'no-cache',\n",
    "  'Referer': 'https://app.dimensions.ai/discover/publication?or_facet_year=2024&or_facet_publication_type=article',\n",
    "  'Sec-Fetch-Dest': 'empty',\n",
    "  'Sec-Fetch-Mode': 'cors',\n",
    "  'Sec-Fetch-Site': 'same-origin',\n",
    "  'User-Agent': 'Mozilla/5.0 (Windows NT 10.0; Win64; x64) AppleWebKit/537.36 (KHTML, like Gecko) Chrome/121.0.0.0 Safari/537.36',\n",
    "  'X-CSRF-Token': 'dc177fce62327eee023fb15f80290939d0320986',\n",
    "  'X-Requested-With': 'XMLHttpRequest',\n",
    "  'sec-ch-ua': '\"Not A(Brand\";v=\"99\", \"Google Chrome\";v=\"121\", \"Chromium\";v=\"121\"',\n",
    "  'sec-ch-ua-mobile': '?0',\n",
    "  'sec-ch-ua-platform': '\"Windows\"'\n",
    "}\n",
    "\n",
    "# response = requests.request(\"GET\", url, headers=headers, data=payload)\n",
    "\n",
    "# print(response.status_code)\n"
   ]
  },
  {
   "cell_type": "code",
   "execution_count": 50,
   "metadata": {},
   "outputs": [
    {
     "data": {
      "text/plain": [
       "{'Accept': 'application/json',\n",
       " 'Accept-Language': 'en-US,en;q=0.9',\n",
       " 'Cache-Control': 'no-cache, no-store, must-revalidate',\n",
       " 'Connection': 'keep-alive',\n",
       " 'Content-Type': 'application/json',\n",
       " 'Cookie': 'intercom-device-id-ilx5k1fm=99edab8a-a6ab-47e3-bc44-070b8257d181; _gcl_au=1.1.1416844146.1707413904; _gid=GA1.2.1590107742.1707413905; aws-waf-token=7ac190f2-7850-4639-b888-1b60ef0a6171:EQoArSCGj+gJAAAA:kOk/PyXF4Kv75o/biH8ROPm06R/USaobDdV5LJA/9Nh4QR95hnsm4rTI1WIpTDAjDnNJ5mEH7mF0PERX++UXSop6DT+fZxZlXL64D3VAt+3ndFc2tI0wJVAquDGq0QeJWdzgNBATYuDc3Behxb+PWR1OzGV76ePdCcDeOvd2B/KDnc81/+9x5+gjc0jeg4wEnCoBcrbg7Pgwv7IBB9gpUpQ7RrSV0UOByTPD4PyTyrcUcDwhg267eLqe; _ga=GA1.1.1098850320.1707419421; OptanonAlertBoxClosed=2024-02-08T19:10:23.090Z; intercom-session-ilx5k1fm=OUhFbjNVMk94dE1wTnd1Q1dZZ29kSVYxUEpBbjBlSDFkeFk3V041WER0amZmVjQwRklNQ3JOeTF0Z0diRUYzMS0tMHBiR3lKaHRZRGRDZ0FkR21JVVlMdz09--1b4be3a144fda967ae026d7857995995a689701b; _ga_KH7CX71Y5X=GS1.1.1707419421.1.1.1707419475.0.0.0; uber_auth_tkt=45510374bc8e25a87a0bcb0bce1b9228c5da8d3df1e285d7d5ac930e3e638f2ad7e7c3a80effa80c119898dc8355a22e4a0ea597f7cbc5ddec7df98ab92658e065c605b0bi5tYXNoYXlla2hpNDU2QGdtYWlsLmNvbQ%3D%3D!A79bbb7f2e28ab0fc88639fadcb190a!userid_type:b64unicode; uber_auth_tkt=45510374bc8e25a87a0bcb0bce1b9228c5da8d3df1e285d7d5ac930e3e638f2ad7e7c3a80effa80c119898dc8355a22e4a0ea597f7cbc5ddec7df98ab92658e065c605b0bi5tYXNoYXlla2hpNDU2QGdtYWlsLmNvbQ%3D%3D!A79bbb7f2e28ab0fc88639fadcb190a!userid_type:b64unicode; OptanonConsent=isGpcEnabled=0&datestamp=Fri+Feb+09+2024+14%3A51%3A26+GMT%2B0330+(Iran+Standard+Time)&version=202401.2.0&browserGpcFlag=0&isIABGlobal=false&hosts=&consentId=6140ce0d-5f43-490a-afcc-537d77783362&interactionCount=2&landingPath=NotLandingPage&groups=C0001%3A1%2CC0002%3A0%2CC0003%3A0%2CC0004%3A0&AwaitingReconsent=false&geolocation=NL%3BUT; session=jYPMZGPQsUE_hYfmUGzmif0hnWF5TiCIpvHttXpgQlHXvIUgvzFwfLBu6TK6zQWrku43WCC_ugk19YfEuFGze1sxNzA3NDc3NzA1LCAxNzA3NDczMzk4LjA4NDEwODYsIHsiYXV0aGVudGljYXRpb24iOiBudWxsLCAiX2NzcmZ0XyI6ICJkYzE3N2ZjZTYyMzI3ZWVlMDIzZmIxNWY4MDI5MDkzOWQwMzIwOTg2IiwgImF1dGhfbWV0aG9kIjogImRpbWVuc2lvbnMifV0',\n",
       " 'Expires': '0',\n",
       " 'Operations': 'sticky=rP6jIwDec8LBuNGsdGGOHOIsaJ0r53NmjnNEf7OX',\n",
       " 'Pragma': 'no-cache',\n",
       " 'Referer': 'https://app.dimensions.ai/discover/publication?or_facet_year=2024&or_facet_publication_type=article',\n",
       " 'Sec-Fetch-Dest': 'empty',\n",
       " 'Sec-Fetch-Mode': 'cors',\n",
       " 'Sec-Fetch-Site': 'same-origin',\n",
       " 'User-Agent': 'Mozilla/5.0 (Windows NT 10.0; Win64; x64) AppleWebKit/537.36 (KHTML, like Gecko) Chrome/121.0.0.0 Safari/537.36',\n",
       " 'X-CSRF-Token': 'dc177fce62327eee023fb15f80290939d0320986',\n",
       " 'X-Requested-With': 'XMLHttpRequest',\n",
       " 'sec-ch-ua': '\"Not A(Brand\";v=\"99\", \"Google Chrome\";v=\"121\", \"Chromium\";v=\"121\"',\n",
       " 'sec-ch-ua-mobile': '?0',\n",
       " 'sec-ch-ua-platform': '\"Windows\"'}"
      ]
     },
     "execution_count": 50,
     "metadata": {},
     "output_type": "execute_result"
    }
   ],
   "source": [
    "headers"
   ]
  },
  {
   "cell_type": "code",
   "execution_count": 51,
   "metadata": {},
   "outputs": [
    {
     "data": {
      "text/plain": [
       "{'Date': 'Fri, 09 Feb 2024 11:27:51 GMT', 'Content-Type': 'application/json', 'Transfer-Encoding': 'chunked', 'Connection': 'keep-alive', 'Access-Control-Allow-Credentials': 'true', 'Content-Encoding': 'gzip', 'Set-Cookie': 'session=z0RpAjjChc4Up2VYbDgFaRCc2Ne3Xfx-e3KnkDcbZyd8y33q4O8NiQcPEV5Dni3kwYvSNw8Z1Hqb3w55QUgZllsxNzA3NDc4MDcxLCAxNzA3NDczMzk4LjA4NDEwODYsIHsiYXV0aGVudGljYXRpb24iOiBudWxsLCAiX2NzcmZ0XyI6ICJkYzE3N2ZjZTYyMzI3ZWVlMDIzZmIxNWY4MDI5MDkzOWQwMzIwOTg2IiwgImF1dGhfbWV0aG9kIjogImRpbWVuc2lvbnMifV0; Path=/; secure; HttpOnly; SameSite=Lax', 'Vary': 'Accept-Encoding', 'X-Content-Type-Options': 'nosniff', 'X-Frame-Options': 'SAMEORIGIN', 'X-Xss-Protection': '1; mode=block'}"
      ]
     },
     "execution_count": 51,
     "metadata": {},
     "output_type": "execute_result"
    }
   ],
   "source": [
    "response.headers"
   ]
  },
  {
   "cell_type": "code",
   "execution_count": 52,
   "metadata": {},
   "outputs": [
    {
     "name": "stdout",
     "output_type": "stream",
     "text": [
      "200\n"
     ]
    },
    {
     "data": {
      "text/plain": [
       "'/discover/publication/results.json?np=j_UbCc8NA7an5g2IvflKhIJrqXxubBdOfHi19z9Od78TTOMXnc0h8nAX'"
      ]
     },
     "execution_count": 52,
     "metadata": {},
     "output_type": "execute_result"
    }
   ],
   "source": [
    "print(response.status_code)\n",
    "data = response.json()\n",
    "data['navigation']['results_json']"
   ]
  },
  {
   "cell_type": "code",
   "execution_count": 56,
   "metadata": {},
   "outputs": [
    {
     "data": {
      "text/plain": [
       "'session=z0RpAjjChc4Up2VYbDgFaRCc2Ne3Xfx-e3KnkDcbZyd8y33q4O8NiQcPEV5Dni3kwYvSNw8Z1Hqb3w55QUgZllsxNzA3NDc4MDcxLCAxNzA3NDczMzk4LjA4NDEwODYsIHsiYXV0aGVudGljYXRpb24iOiBudWxsLCAiX2NzcmZ0XyI6ICJkYzE3N2ZjZTYyMzI3ZWVlMDIzZmIxNWY4MDI5MDkzOWQwMzIwOTg2IiwgImF1dGhfbWV0aG9kIjogImRpbWVuc2lvbnMifV0; Path=/; secure; HttpOnly; SameSite=Lax'"
      ]
     },
     "execution_count": 56,
     "metadata": {},
     "output_type": "execute_result"
    }
   ],
   "source": [
    "response.headers.get('Set-Cookie')"
   ]
  },
  {
   "cell_type": "code",
   "execution_count": 55,
   "metadata": {},
   "outputs": [
    {
     "name": "stdout",
     "output_type": "stream",
     "text": [
      "https://app.dimensions.ai/discover/publication/results.json?np=j_UbCc8NA7an5g2IvflKhIJrqXxubBdOfHi19z9Od78TTOMXnc0h8nAXt&or_facet_year=2024&or_facet_publication_type=article\n"
     ]
    },
    {
     "data": {
      "text/plain": [
       "502"
      ]
     },
     "execution_count": 55,
     "metadata": {},
     "output_type": "execute_result"
    }
   ],
   "source": [
    "import re\n",
    "\n",
    "pattern = r'session=([^;]+)'\n",
    "setcookiesweb = 'session=h19NTxV1bsn3FLkqa5FqvwbTeC5WrbTtQQMHE7YLkLn5qWE__uo1WoU8VQrT715rrIgKpDLVLmBKjy0t6i3LE1sxNzA3NDc3MTE0LCAxNzA3NDczMzk4LjA4NDEwODYsIHsiYXV0aGVudGljYXRpb24iOiBudWxsLCAiX2NzcmZ0XyI6ICJkYzE3N2ZjZTYyMzI3ZWVlMDIzZmIxNWY4MDI5MDkzOWQwMzIwOTg2IiwgImF1dGhfbWV0aG9kIjogImRpbWVuc2lvbnMifV0; Path=/; secure; HttpOnly; SameSite=Lax'\n",
    "match = re.search(pattern, response.headers.get('Set-Cookie'))\n",
    "# match = re.search(pattern, setcookiesweb)\n",
    "\n",
    "\n",
    "if match:\n",
    "    session_value = match.group(1)\n",
    "    pattern = r'session=.*$'\n",
    "    new_string = re.sub(pattern, 'session=' + session_value, headers['Cookie'])\n",
    "\n",
    "else:\n",
    "    print(\"Session value not found in the string.\")\n",
    "headers['Cookie'] = new_string\n",
    "data = response.json()\n",
    "url_np = data['navigation']['results_json']\n",
    "url = f\"https://app.dimensions.ai{url_np}t&or_facet_year=2024&or_facet_publication_type=article\"\n",
    "print(url)\n",
    "\n",
    "response2 = requests.request(\"GET\", url, headers=headers, data=payload)\n",
    "response2.status_code\n"
   ]
  },
  {
   "cell_type": "code",
   "execution_count": null,
   "metadata": {},
   "outputs": [],
   "source": [
    "print(headers)"
   ]
  },
  {
   "cell_type": "code",
   "execution_count": null,
   "metadata": {},
   "outputs": [],
   "source": [
    "https://app.dimensions.ai/discover/publication/results.json?np=grhgVvvhP6O_q81Y-0MxVQpalG7MRiOe1y_MO_Zsn8xLGjJjiAQFBUAZ&or_facet_year=2024&or_facet_publication_type=article"
   ]
  },
  {
   "cell_type": "code",
   "execution_count": 39,
   "metadata": {},
   "outputs": [
    {
     "data": {
      "text/plain": [
       "{'Accept': 'application/json',\n",
       " 'Accept-Language': 'en-US,en;q=0.9',\n",
       " 'Cache-Control': 'no-cache, no-store, must-revalidate',\n",
       " 'Connection': 'keep-alive',\n",
       " 'Content-Type': 'application/json',\n",
       " 'Cookie': 'intercom-device-id-ilx5k1fm=99edab8a-a6ab-47e3-bc44-070b8257d181; _gcl_au=1.1.1416844146.1707413904; _gid=GA1.2.1590107742.1707413905; aws-waf-token=7ac190f2-7850-4639-b888-1b60ef0a6171:EQoArSCGj+gJAAAA:kOk/PyXF4Kv75o/biH8ROPm06R/USaobDdV5LJA/9Nh4QR95hnsm4rTI1WIpTDAjDnNJ5mEH7mF0PERX++UXSop6DT+fZxZlXL64D3VAt+3ndFc2tI0wJVAquDGq0QeJWdzgNBATYuDc3Behxb+PWR1OzGV76ePdCcDeOvd2B/KDnc81/+9x5+gjc0jeg4wEnCoBcrbg7Pgwv7IBB9gpUpQ7RrSV0UOByTPD4PyTyrcUcDwhg267eLqe; _ga=GA1.1.1098850320.1707419421; OptanonAlertBoxClosed=2024-02-08T19:10:23.090Z; intercom-session-ilx5k1fm=OUhFbjNVMk94dE1wTnd1Q1dZZ29kSVYxUEpBbjBlSDFkeFk3V041WER0amZmVjQwRklNQ3JOeTF0Z0diRUYzMS0tMHBiR3lKaHRZRGRDZ0FkR21JVVlMdz09--1b4be3a144fda967ae026d7857995995a689701b; _ga_KH7CX71Y5X=GS1.1.1707419421.1.1.1707419475.0.0.0; uber_auth_tkt=45510374bc8e25a87a0bcb0bce1b9228c5da8d3df1e285d7d5ac930e3e638f2ad7e7c3a80effa80c119898dc8355a22e4a0ea597f7cbc5ddec7df98ab92658e065c605b0bi5tYXNoYXlla2hpNDU2QGdtYWlsLmNvbQ%3D%3D!A79bbb7f2e28ab0fc88639fadcb190a!userid_type:b64unicode; uber_auth_tkt=45510374bc8e25a87a0bcb0bce1b9228c5da8d3df1e285d7d5ac930e3e638f2ad7e7c3a80effa80c119898dc8355a22e4a0ea597f7cbc5ddec7df98ab92658e065c605b0bi5tYXNoYXlla2hpNDU2QGdtYWlsLmNvbQ%3D%3D!A79bbb7f2e28ab0fc88639fadcb190a!userid_type:b64unicode; OptanonConsent=isGpcEnabled=0&datestamp=Fri+Feb+09+2024+14%3A30%3A21+GMT%2B0330+(Iran+Standard+Time)&version=202401.2.0&browserGpcFlag=0&isIABGlobal=false&hosts=&consentId=6140ce0d-5f43-490a-afcc-537d77783362&interactionCount=2&landingPath=NotLandingPage&groups=C0001%3A1%2CC0002%3A0%2CC0003%3A0%2CC0004%3A0&AwaitingReconsent=false&geolocation=NL%3BUT; session=J_WXsvPpSfSsOcxGP9D69bs0NT8HRoQhKbpJNTnXnaDns2jXalY7NekgGfbDSOzV6b4GW7FN3uPG0M1ulySz-lsxNzA3NDc3MTUxLCAxNzA3NDczMzk4LjA4NDEwODYsIHsiYXV0aGVudGljYXRpb24iOiBudWxsLCAiX2NzcmZ0XyI6ICIwOGNjODMxODVmODU4Yzk2YTdlYTc1ODFiZjBhMDExYjE1MTdiZjBiIiwgImF1dGhfbWV0aG9kIjogImRpbWVuc2lvbnMifV0',\n",
       " 'Expires': '0',\n",
       " 'Operations': 'sticky=mwUlyAhekJKZzaamN4ebi1rSDO3VUi5JgIFy7A1k',\n",
       " 'Pragma': 'no-cache',\n",
       " 'Referer': 'https://app.dimensions.ai/discover/publication?or_facet_year=2024&or_facet_publication_type=article',\n",
       " 'Sec-Fetch-Dest': 'empty',\n",
       " 'Sec-Fetch-Mode': 'cors',\n",
       " 'Sec-Fetch-Site': 'same-origin',\n",
       " 'User-Agent': 'Mozilla/5.0 (Windows NT 10.0; Win64; x64) AppleWebKit/537.36 (KHTML, like Gecko) Chrome/121.0.0.0 Safari/537.36',\n",
       " 'X-CSRF-Token': 'dc177fce62327eee023fb15f80290939d0320986',\n",
       " 'X-Requested-With': 'XMLHttpRequest',\n",
       " 'sec-ch-ua': '\"Not A(Brand\";v=\"99\", \"Google Chrome\";v=\"121\", \"Chromium\";v=\"121\"',\n",
       " 'sec-ch-ua-mobile': '?0',\n",
       " 'sec-ch-ua-platform': '\"Windows\"'}"
      ]
     },
     "execution_count": 39,
     "metadata": {},
     "output_type": "execute_result"
    }
   ],
   "source": [
    "headers"
   ]
  },
  {
   "cell_type": "code",
   "execution_count": 41,
   "metadata": {},
   "outputs": [
    {
     "data": {
      "text/plain": [
       "{'Date': 'Fri, 09 Feb 2024 11:12:31 GMT', 'Content-Type': 'application/json', 'Transfer-Encoding': 'chunked', 'Connection': 'keep-alive', 'Access-Control-Allow-Credentials': 'true', 'Content-Encoding': 'gzip', 'Set-Cookie': 'session=J_WXsvPpSfSsOcxGP9D69bs0NT8HRoQhKbpJNTnXnaDns2jXalY7NekgGfbDSOzV6b4GW7FN3uPG0M1ulySz-lsxNzA3NDc3MTUxLCAxNzA3NDczMzk4LjA4NDEwODYsIHsiYXV0aGVudGljYXRpb24iOiBudWxsLCAiX2NzcmZ0XyI6ICIwOGNjODMxODVmODU4Yzk2YTdlYTc1ODFiZjBhMDExYjE1MTdiZjBiIiwgImF1dGhfbWV0aG9kIjogImRpbWVuc2lvbnMifV0; Path=/; secure; HttpOnly; SameSite=Lax', 'Vary': 'Accept-Encoding', 'X-Content-Type-Options': 'nosniff', 'X-Frame-Options': 'SAMEORIGIN', 'X-Xss-Protection': '1; mode=block'}"
      ]
     },
     "execution_count": 41,
     "metadata": {},
     "output_type": "execute_result"
    }
   ],
   "source": [
    "response.headers"
   ]
  },
  {
   "cell_type": "code",
   "execution_count": null,
   "metadata": {},
   "outputs": [],
   "source": [
    "HTTP/1.1 200 OK\n",
    "Date: Fri, 09 Feb 2024 11:01:16 GMT\n",
    "Content-Type: application/json\n",
    "Transfer-Encoding: chunked\n",
    "Connection: keep-alive\n",
    "Access-Control-Allow-Credentials: true\n",
    "Content-Encoding: gzip\n",
    "Set-Cookie: session=a7FzYsF6do_rz0JDADZ99RJgMm3wWZ82lw0H2LVEK04OOixtN7BDouExtSquAA48X5UbvxvRI4-NtLSczu-Ui1sxNzA3NDc2NDc2LCAxNzA3NDczMzk4LjA4NDEwODYsIHsiYXV0aGVudGljYXRpb24iOiBudWxsLCAiX2NzcmZ0XyI6ICJkYzE3N2ZjZTYyMzI3ZWVlMDIzZmIxNWY4MDI5MDkzOWQwMzIwOTg2IiwgImF1dGhfbWV0aG9kIjogImRpbWVuc2lvbnMifV0; Path=/; secure; HttpOnly; SameSite=Lax\n",
    "Vary: Accept-Encoding\n",
    "X-Content-Type-Options: nosniff\n",
    "X-Frame-Options: SAMEORIGIN\n",
    "X-Xss-Protection: 1; mode=block\n",
    "\n"
   ]
  },
  {
   "cell_type": "code",
   "execution_count": null,
   "metadata": {},
   "outputs": [],
   "source": [
    "Accept': 'application/json',\n",
    "Accept-Language': 'en-US,en;q=0.9',\n",
    "Cache-Control': 'no-cache, no-store, must-revalidate',\n",
    "Connection': 'keep-alive',\n",
    "Content-Type': 'application/json',\n",
    "Cookie': 'intercom-device-id-ilx5k1fm=99edab8a-a6ab-47e3-bc44-070b8257d181; _gcl_au=1.1.1416844146.1707413904; _gid=GA1.2.1590107742.1707413905; aws-waf-token=7ac190f2-7850-4639-b888-1b60ef0a6171:EQoArSCGj+gJAAAA:kOk/PyXF4Kv75o/biH8ROPm06R/USaobDdV5LJA/9Nh4QR95hnsm4rTI1WIpTDAjDnNJ5mEH7mF0PERX++UXSop6DT+fZxZlXL64D3VAt+3ndFc2tI0wJVAquDGq0QeJWdzgNBATYuDc3Behxb+PWR1OzGV76ePdCcDeOvd2B/KDnc81/+9x5+gjc0jeg4wEnCoBcrbg7Pgwv7IBB9gpUpQ7RrSV0UOByTPD4PyTyrcUcDwhg267eLqe; _ga=GA1.1.1098850320.1707419421; OptanonAlertBoxClosed=2024-02-08T19:10:23.090Z; intercom-session-ilx5k1fm=OUhFbjNVMk94dE1wTnd1Q1dZZ29kSVYxUEpBbjBlSDFkeFk3V041WER0amZmVjQwRklNQ3JOeTF0Z0diRUYzMS0tMHBiR3lKaHRZRGRDZ0FkR21JVVlMdz09--1b4be3a144fda967ae026d7857995995a689701b; _ga_KH7CX71Y5X=GS1.1.1707419421.1.1.1707419475.0.0.0; uber_auth_tkt=45510374bc8e25a87a0bcb0bce1b9228c5da8d3df1e285d7d5ac930e3e638f2ad7e7c3a80effa80c119898dc8355a22e4a0ea597f7cbc5ddec7df98ab92658e065c605b0bi5tYXNoYXlla2hpNDU2QGdtYWlsLmNvbQ%3D%3D!A79bbb7f2e28ab0fc88639fadcb190a!userid_type:b64unicode; uber_auth_tkt=45510374bc8e25a87a0bcb0bce1b9228c5da8d3df1e285d7d5ac930e3e638f2ad7e7c3a80effa80c119898dc8355a22e4a0ea597f7cbc5ddec7df98ab92658e065c605b0bi5tYXNoYXlla2hpNDU2QGdtYWlsLmNvbQ%3D%3D!A79bbb7f2e28ab0fc88639fadcb190a!userid_type:b64unicode; OptanonConsent=isGpcEnabled=0&datestamp=Fri+Feb+09+2024+14%3A30%3A21+GMT%2B0330+(Iran+Standard+Time)&version=202401.2.0&browserGpcFlag=0&isIABGlobal=false&hosts=&consentId=6140ce0d-5f43-490a-afcc-537d77783362&interactionCount=2&landingPath=NotLandingPage&groups=C0001%3A1%2CC0002%3A0%2CC0003%3A0%2CC0004%3A0&AwaitingReconsent=false&geolocation=NL%3BUT; session=MYmx922gxtB1vV1MbYIW8fq9qsB8aBbwsVqVKcsUjCl9fgRLaNGhy_kg45gk6KWMTQ9KnGA8TddRqbRHJlD0l1sxNzA3NDc2NTIyLCAxNzA3NDczMzk4LjA4NDEwODYsIHsiYXV0aGVudGljYXRpb24iOiBudWxsLCAiX2NzcmZ0XyI6ICIwOGNjODMxODVmODU4Yzk2YTdlYTc1ODFiZjBhMDExYjE1MTdiZjBiIiwgImF1dGhfbWV0aG9kIjogImRpbWVuc2lvbnMifV0',\n",
    "Expires': '0',\n",
    "Operations': 'sticky=mwUlyAhekJKZzaamN4ebi1rSDO3VUi5JgIFy7A1k',\n",
    "Pragma': 'no-cache',\n",
    "Referer': 'https://app.dimensions.ai/discover/publication?or_facet_year=2024&or_facet_publication_type=article',\n",
    "Sec-Fetch-Dest': 'empty',\n",
    "Sec-Fetch-Mode': 'cors',\n",
    "Sec-Fetch-Site': 'same-origin',\n",
    "User-Agent': 'Mozilla/5.0 (Windows NT 10.0; Win64; x64) AppleWebKit/537.36 (KHTML, like Gecko) Chrome/121.0.0.0 Safari/537.36',\n",
    "X-CSRF-Token': 'dc177fce62327eee023fb15f80290939d0320986',\n",
    "X-Requested-With': 'XMLHttpRequest',\n",
    "sec-ch-ua: '\"Not A(Brand\";v=\"99\", \"Google Chrome\";v=\"121\", \"Chromium\";v=\"121\"',\n",
    "sec-ch-ua-mobile: '?0',\n",
    "sec-ch-ua-platform': '\"Windows\""
   ]
  },
  {
   "cell_type": "markdown",
   "metadata": {},
   "source": [
    "test"
   ]
  },
  {
   "cell_type": "code",
   "execution_count": 57,
   "metadata": {},
   "outputs": [
    {
     "name": "stdout",
     "output_type": "stream",
     "text": [
      "{\"subsets_info\": [], \"count\": 489370, \"docs\": [{\"title\": \"BOUWEN AAN EEN BELGISCHE COLLECTIE. Aankopen voor het MSK op de Gentse Salons tijdens het fin-de-si\\u00e8cle\", \"affiliations_json\": \"[{\\\"first_name\\\": \\\"Julie\\\", \\\"last_name\\\": \\\"Landuyt\\\", \\\"raw_affiliation\\\": [\\\"None\\\"], \\\"first_name_original\\\": \\\"\\\", \\\"last_name_original\\\": \\\"\\\", \\\"raw_affiliation_original\\\": [], \\\"initials\\\": \\\"\\\", \\\"corresponding\\\": \\\"\\\", \\\"orcid\\\": [], \\\"current_organization_id\\\": \\\"\\\", \\\"researcher_id\\\": null, \\\"affiliations\\\": [{\\\"name\\\": \\\"None\\\", \\\"id\\\": null, \\\"city\\\": \\\"None\\\", \\\"city_id\\\": 3172215, \\\"state\\\": \\\"Piedmont\\\", \\\"state_code\\\": null, \\\"country\\\": \\\"Italy\\\", \\\"country_code\\\": \\\"IT\\\", \\\"raw_affiliation\\\": \\\"None\\\"}]}]\", \"author_list\": \"Julie Landuyt\", \"issn\": [\"0774-286X\"], \"source_title_id\": \"jour.1024592\", \"journal_title\": \"Handelingen der Maatschappij voor Geschiedenis en Oudheidkunde te Gent\", \"for_2020_2022\": [\"80001\", \"80018\", \"80197\"], \"language\": \"en\", \"abstract_language\": \"en\", \"publisher_source\": \"Ghent University\", \"publisher_place\": \"Ghent, Belgium\", \"publisher\": \"Ghent University\", \"pub_class\": \"Article\", \"aff_city_geonames_ids\": [\"3172215\"], \"aff_country_codes\": [\"IT\"], \"citation_string_year\": 2024, \"created_in_dimensions\": \"2024-01-05T21:14:56Z\", \"doi\": \"10.21825/hmgog.90124\", \"id\": \"pub.1167634664\", \"issue\": \"75\", \"online_pub_date\": \"2024-12-31\", \"pub_date\": \"2024-12-31\", \"pub_year\": 2024, \"volume\": \"2021\", \"times_cited\": 0, \"score\": 1.0, \"affiliations_details\": [{\"first_name\": \"Julie\", \"last_name\": \"Landuyt\", \"raw_affiliation\": [\"None\"], \"first_name_original\": \"\", \"last_name_original\": \"\", \"raw_affiliation_original\": [], \"initials\": \"\", \"corresponding\": \"\", \"orcid\": [], \"current_organization_id\": \"\", \"researcher_id\": null, \"affiliations\": [{\"name\": \"None\", \"id\": null, \"city\": \"None\", \"city_id\": 3172215, \"state\": \"Piedmont\", \"state_code\": null, \"country\": \"Italy\", \"country_code\": \"IT\", \"raw_affiliation\": \"None\"}]}], \"authors_full\": [\"Julie Landuyt\"], \"source_title\": \"Handelingen der Maatschappij voor Geschiedenis en Oudheidkunde te Gent\", \"pub_class_id\": \"article\", \"short_abstract\": \"This is an accepted article with a DOI pre-assigned that is not yet published.\", \"abstract_is_shortened\": false, \"openurl\": null, \"orcid\": {\"api_add_path\": {\"path\": \"/orcid/api/publication/add.json?id=pub.1167634664\"}}, \"altmetric_badge\": {\"value\": \"10.21825/hmgog.90124\", \"id_type\": \"doi\", \"template\": \"dimensions\"}, \"readcube\": {\"doi\": \"10.21825/hmgog.90124\", \"pmid\": null, \"pmc_id\": null, \"arxiv\": null, \"oa-url\": null, \"libkey\": null, \"entityid\": null}, \"navigation\": {\"path\": \"/details/publication/pub.1167634664\", \"abstract_json\": \"/details/sources/publication/pub.1167634664/abstract.json\"}}, {\"title\": \"The Effect of Phenylketonuria on Family Quality of Life\", \"affiliations_json\": \"[{\\\"first_name\\\": \\\"Kostas\\\", \\\"last_name\\\": \\\"Iakovou\\\", \\\"raw_affiliation\\\": [], \\\"first_name_original\\\": \\\"\\\", \\\"last_name_original\\\": \\\"\\\", \\\"raw_affiliation_original\\\": [], \\\"initials\\\": \\\"\\\", \\\"corresponding\\\": \\\"\\\", \\\"orcid\\\": [], \\\"current_organization_id\\\": \\\"\\\", \\\"researcher_id\\\": null, \\\"affiliations\\\": []}]\", \"author_list\": \"Kostas Iakovou\", \"issn\": [\"2643-4512\", \"26434512\"], \"source_title_id\": \"jour.1301637\", \"journal_title\": \"International Archives of Public Health and Community Medicine\", \"language\": \"en\", \"abstract_language\": \"en\", \"publisher_source\": \"ClinMed International Library\", \"publisher_place\": \"Newark, DE, United States\", \"publisher\": \"ClinMed International Library\", \"pub_class\": \"Article\", \"citation_string_year\": 2024, \"created_in_dimensions\": \"2024-01-27T23:22:50Z\", \"doi\": \"10.23937/2643-4512/1710094\", \"id\": \"pub.1168294942\", \"issue\": \"1\", \"online_pub_date\": \"2024-12-31\", \"pub_date\": \"2024-12-31\", \"pub_year\": 2024, \"volume\": \"8\", \"times_cited\": 0, \"score\": 1.0, \"affiliations_details\": [{\"first_name\": \"Kostas\", \"last_name\": \"Iakovou\", \"raw_affiliation\": [], \"first_name_original\": \"\", \"last_name_original\": \"\", \"raw_affiliation_original\": [], \"initials\": \"\", \"corresponding\": \"\", \"orcid\": [], \"current_organization_id\": \"\", \"researcher_id\": null, \"affiliations\": []}], \"authors_full\": [\"Kostas Iakovou\"], \"source_title\": \"International Archives of Public Health and Community Medicine\", \"pub_class_id\": \"article\", \"openurl\": null, \"orcid\": {\"api_add_path\": {\"path\": \"/orcid/api/publication/add.json?id=pub.1168294942\"}}, \"altmetric_badge\": {\"value\": \"10.23937/2643-4512/1710094\", \"id_type\": \"doi\", \"template\": \"dimensions\"}, \"readcube\": {\"doi\": \"10.23937/2643-4512/1710094\", \"pmid\": null, \"pmc_id\": null, \"arxiv\": null, \"oa-url\": null, \"libkey\": null, \"entityid\": null}, \"navigation\": {\"path\": \"/details/publication/pub.1168294942\", \"abstract_json\": \"/details/sources/publication/pub.1168294942/abstract.json\"}}, {\"title\": \"The Effect of Phenylketonuria on Family Quality of Life\", \"affiliations_json\": \"[{\\\"first_name\\\": \\\"Iakovou\\\", \\\"last_name\\\": \\\"Kostas\\\", \\\"raw_affiliation\\\": [], \\\"first_name_original\\\": \\\"\\\", \\\"last_name_original\\\": \\\"\\\", \\\"raw_affiliation_original\\\": [], \\\"initials\\\": \\\"\\\", \\\"corresponding\\\": \\\"\\\", \\\"orcid\\\": [], \\\"current_organization_id\\\": \\\"\\\", \\\"researcher_id\\\": null, \\\"affiliations\\\": []}]\", \"author_list\": \"Iakovou Kostas\", \"issn\": [\"2643-4512\"], \"source_title_id\": \"jour.1301637\", \"journal_title\": \"International Archives of Public Health and Community Medicine\", \"language\": \"en\", \"abstract_language\": \"en\", \"pub_class\": \"Article\", \"cited_dimensions_ids\": [\"pub.1014892222\", \"pub.1111993204\"], \"citation_string_year\": 2024, \"created_in_dimensions\": \"2024-01-27T20:55:11Z\", \"doi\": \"10.23937/2643-4512/1710094\", \"id\": \"pub.1168280459\", \"issue\": \"1\", \"online_pub_date\": \"2024-12-31\", \"pages\": \"94\", \"pub_date\": \"2024-12-31\", \"pub_year\": 2024, \"volume\": \"7\", \"times_cited\": 0, \"score\": 1.0, \"affiliations_details\": [{\"first_name\": \"Iakovou\", \"last_name\": \"Kostas\", \"raw_affiliation\": [], \"first_name_original\": \"\", \"last_name_original\": \"\", \"raw_affiliation_original\": [], \"initials\": \"\", \"corresponding\": \"\", \"orcid\": [], \"current_organization_id\": \"\", \"researcher_id\": null, \"affiliations\": []}], \"authors_full\": [\"Iakovou Kostas\"], \"source_title\": \"International Archives of Public Health and Community Medicine\", \"pub_class_id\": \"article\", \"openurl\": null, \"orcid\": {\"api_add_path\": {\"path\": \"/orcid/api/publication/add.json?id=pub.1168280459\"}}, \"altmetric_badge\": {\"value\": \"10.23937/2643-4512/1710094\", \"id_type\": \"doi\", \"template\": \"dimensions\"}, \"readcube\": {\"doi\": \"10.23937/2643-4512/1710094\", \"pmid\": null, \"pmc_id\": null, \"arxiv\": null, \"oa-url\": null, \"libkey\": null, \"entityid\": null}, \"navigation\": {\"path\": \"/details/publication/pub.1168280459\", \"abstract_json\": \"/details/sources/publication/pub.1168280459/abstract.json\"}}, {\"title\": \"Peran Gereja Dalam Membangun Keimanan Gen Y &amp; Z Pada Era Revolusi Industri 4.0 &amp; Society 5.0\", \"affiliations_json\": \"[{\\\"first_name\\\": \\\"Daniel Pesah\\\", \\\"last_name\\\": \\\"Purwonugroho\\\", \\\"raw_affiliation\\\": [], \\\"first_name_original\\\": \\\"\\\", \\\"last_name_original\\\": \\\"\\\", \\\"raw_affiliation_original\\\": [], \\\"initials\\\": \\\"\\\", \\\"corresponding\\\": \\\"\\\", \\\"orcid\\\": [], \\\"current_organization_id\\\": \\\"\\\", \\\"researcher_id\\\": null, \\\"affiliations\\\": []}]\", \"author_list\": \"Daniel Pesah Purwonugroho\", \"issn\": [\"2797-717X\", \"2797-7676\"], \"source_title_id\": \"jour.1424184\", \"journal_title\": \"Ritornera - Jurnal Teologi Pentakosta Indonesia\", \"language\": \"id\", \"abstract_language\": \"id\", \"publisher_source\": \"Pusat Studi Pentakosta Indonesia\", \"publisher_place\": \"Kab. Sukoharjo, Jawa Tengah, Indonesia\", \"publisher\": \"Pusat Studi Pentakosta Indonesia\", \"pub_class\": \"Article\", \"citation_string_year\": 2024, \"created_in_dimensions\": \"2024-02-02T23:49:28Z\", \"doi\": \"10.54403/rjtpi.v3i3.75\", \"id\": \"pub.1168477632\", \"issue\": \"3\", \"online_pub_date\": \"2024-12-31\", \"pages\": \"182-192\", \"pub_date\": \"2024-12-31\", \"pub_year\": 2024, \"volume\": \"3\", \"times_cited\": 0, \"score\": 1.0, \"affiliations_details\": [{\"first_name\": \"Daniel Pesah\", \"last_name\": \"Purwonugroho\", \"raw_affiliation\": [], \"first_name_original\": \"\", \"last_name_original\": \"\", \"raw_affiliation_original\": [], \"initials\": \"\", \"corresponding\": \"\", \"orcid\": [], \"current_organization_id\": \"\", \"researcher_id\": null, \"affiliations\": []}], \"authors_full\": [\"Daniel Pesah Purwonugroho\"], \"source_title\": \"Ritornera - Jurnal Teologi Pentakosta Indonesia\", \"pub_class_id\": \"article\", \"short_abstract\": \"The faith of Generation Y Z in the midst of the 4.0 and 5.0 industry revolutions is the focal point of this research. The profound and massive phenomenon of the 4.0 Society 5.0 revolutions directly im\", \"abstract_is_shortened\": true, \"openurl\": null, \"orcid\": {\"api_add_path\": {\"path\": \"/orcid/api/publication/add.json?id=pub.1168477632\"}}, \"altmetric_badge\": {\"value\": \"10.54403/rjtpi.v3i3.75\", \"id_type\": \"doi\", \"template\": \"dimensions\"}, \"readcube\": {\"doi\": \"10.54403/rjtpi.v3i3.75\", \"pmid\": null, \"pmc_id\": null, \"arxiv\": null, \"oa-url\": null, \"libkey\": null, \"entityid\": null}, \"navigation\": {\"path\": \"/details/publication/pub.1168477632\", \"abstract_json\": \"/details/sources/publication/pub.1168477632/abstract.json\"}}, {\"title\": \"Yoghurt fortification with Moringa oleifera: nutritional and production aspects\", \"affiliations_json\": \"[{\\\"first_name\\\": \\\"Feyisayo O.\\\", \\\"last_name\\\": \\\"Adepoju\\\", \\\"raw_affiliation\\\": [], \\\"first_name_original\\\": \\\"\\\", \\\"last_name_original\\\": \\\"\\\", \\\"raw_affiliation_original\\\": [], \\\"initials\\\": \\\"\\\", \\\"corresponding\\\": \\\"\\\", \\\"orcid\\\": [\\\"0000-0002-4777-0825\\\"], \\\"current_organization_id\\\": \\\"grid.412761.7\\\", \\\"researcher_id\\\": \\\"ur.012535313107.10\\\", \\\"affiliations\\\": []}]\", \"author_list\": \"Feyisayo O. Adepoju\", \"hrcs_hc_2020\": [\"899\", \"906\", \"894\", \"909\"], \"hrcs_rac_2020\": [\"10303\"], \"rcdc\": [\"388\", \"430\"], \"sdg_2021\": [\"40002\"], \"units_of_assessment\": [\"30006\"], \"researcher_dim_id\": [\"ur.012535313107.10\"], \"issn\": [\"0026-704X\", \"1846-4025\", \"0026704x\", \"18464025\"], \"source_title_id\": \"jour.1013760\", \"journal_title\": \"Mljekarstvo\", \"for_2020_2022\": [\"80001\", \"80002\", \"80029\"], \"language\": \"en\", \"abstract_language\": \"en\", \"linkout_oa\": \"http://dx.doi.org/10.15567/mljekarstvo.2024.0101\", \"publisher_source\": \"Croatian Dairy Union\", \"publisher_place\": \"Zagreb, Croatia\", \"publisher\": \"Croatian Dairy Union\", \"pub_class\": \"Article\", \"citation_string_year\": 2024, \"created_in_dimensions\": \"2024-01-02T22:07:16Z\", \"doi\": \"10.15567/mljekarstvo.2024.0101\", \"id\": \"pub.1167556177\", \"online_pub_date\": \"2024-12-31\", \"pages\": \"3-21\", \"print_pub_date\": \"2024-12-31\", \"pub_date\": \"2024-12-31\", \"pub_year\": 2024, \"times_cited\": 0, \"score\": 1.0, \"affiliations_details\": [{\"first_name\": \"Feyisayo O.\", \"last_name\": \"Adepoju\", \"raw_affiliation\": [], \"first_name_original\": \"\", \"last_name_original\": \"\", \"raw_affiliation_original\": [], \"initials\": \"\", \"corresponding\": \"\", \"orcid\": [\"0000-0002-4777-0825\"], \"current_organization_id\": \"grid.412761.7\", \"researcher_id\": \"ur.012535313107.10\", \"affiliations\": []}], \"authors_full\": [\"Feyisayo O. Adepoju\"], \"source_title\": \"Mljekarstvo\", \"pub_class_id\": \"article\", \"short_abstract\": \"Yoghurt is a nutrient-dense dairy food product produced by lactic acid bacteria that enhances digestion and nutrient absorption, as well as sustains gut flora. However, it is a low-phenolic food. In a\", \"abstract_is_shortened\": true, \"openurl\": null, \"orcid\": {\"api_add_path\": {\"path\": \"/orcid/api/publication/add.json?id=pub.1167556177\"}}, \"altmetric_badge\": {\"value\": \"10.15567/mljekarstvo.2024.0101\", \"id_type\": \"doi\", \"template\": \"dimensions\"}, \"readcube\": {\"doi\": \"10.15567/mljekarstvo.2024.0101\", \"pmid\": null, \"pmc_id\": null, \"arxiv\": null, \"oa-url\": \"http://dx.doi.org/10.15567/mljekarstvo.2024.0101\", \"libkey\": null, \"entityid\": null}, \"navigation\": {\"path\": \"/details/publication/pub.1167556177\", \"abstract_json\": \"/details/sources/publication/pub.1167556177/abstract.json\"}}, {\"title\": \"\\u0623\\u062b\\u0631 \\u0627\\u0644\\u0639\\u0644\\u0627\\u0642\\u0629 \\u0627\\u0644\\u062a\\u0628\\u0627\\u062f\\u0644\\u064a\\u0629(\\u0627\\u0644\\u0642\\u0627\\u0626\\u062f - \\u0627\\u0644\\u0639\\u0636\\u0648) \\u0639\\u0644\\u064a \\u0627\\u0644\\u0627\\u0628\\u062f\\u0627\\u0639 \\u0627\\u0644\\u0627\\u062f\\u0627\\u0631\\u064a \\u0644\\u062f\\u064a \\u0627\\u0644\\u0639\\u0627\\u0645\\u0644\\u064a\\u0646 \\u0628\\u0627\\u0644\\u0647\\u064a\\u0626\\u0629 \\u0627\\u0644\\u0639\\u0627\\u0645\\u0629 \\u0644\\u0644\\u0627\\u0633\\u062a\\u062b\\u0645\\u0627\\u0631 \\u0648\\u0627\\u0644\\u0645\\u0646\\u0627\\u0637\\u0642 \\u0627\\u0644\\u062d\\u0631\\u0629\", \"affiliations_json\": \"[{\\\"first_name\\\": \\\"\\\\u0645\\\\u062d\\\\u0645\\\\u062f \\\\u062c\\\\u0645\\\\u0627\\\\u0644 \\\\u0645\\\\u062d\\\\u0645\\\\u062f \\\\u0639\\\\u0628\\\\u062f\\\\u0627\\\\u0644\\\\u0647\\\\u0627\\\\u062f\\\\u064a\\\", \\\"last_name\\\": \\\"\\\\u0639\\\\u0628\\\\u062f\\\\u0627\\\\u0644\\\\u0647\\\\u0627\\\\u062f\\\\u064a\\\", \\\"raw_affiliation\\\": [], \\\"first_name_original\\\": \\\"\\\", \\\"last_name_original\\\": \\\"\\\", \\\"raw_affiliation_original\\\": [], \\\"initials\\\": \\\"\\\", \\\"corresponding\\\": \\\"\\\", \\\"orcid\\\": [], \\\"current_organization_id\\\": \\\"\\\", \\\"researcher_id\\\": \\\"ur.011343521024.09\\\", \\\"affiliations\\\": []}]\", \"author_list\": \"\\u0645\\u062d\\u0645\\u062f \\u062c\\u0645\\u0627\\u0644 \\u0645\\u062d\\u0645\\u062f \\u0639\\u0628\\u062f\\u0627\\u0644\\u0647\\u0627\\u062f\\u064a \\u0639\\u0628\\u062f\\u0627\\u0644\\u0647\\u0627\\u062f\\u064a\", \"researcher_dim_id\": [\"ur.011343521024.09\"], \"issn\": [\"1110-5453\", \"2663-4473\"], \"source_title_id\": \"jour.1355486\", \"journal_title\": \"\\u0627\\u0644\\u0645\\u062c\\u0644\\u0629 \\u0627\\u0644\\u0639\\u0631\\u0628\\u06cc\\u0629 \\u0644\\u0644\\u0625\\u062f\\u0627\\u0631\\u0629\", \"language\": \"ar\", \"abstract_language\": \"ar\", \"linkout_oa\": \"https://aja.journals.ekb.eg/article_202304_899d4525b5bd88bcb76b21b042d44498.pdf\", \"publisher_source\": \"Egypts Presidential Specialized Council for Education and Scientific Research\", \"publisher_place\": \"Aurora, Ontario, Canada\", \"publisher\": \"Egypts Presidential Specialized Council for Education and Scientific Research\", \"pub_class\": \"Article\", \"journal_title_original\": \"\\u0627\\u0644\\u0645\\u062c\\u0644\\u0629 \\u0627\\u0644\\u0639\\u0631\\u0628\\u064a\\u0629 \\u0644\\u0644\\u0625\\u062f\\u0627\\u0631\\u0629\", \"cited_dimensions_ids\": [\"pub.1020937604\", \"pub.1070008714\"], \"citation_string_year\": 2024, \"created_in_dimensions\": \"2021-11-17T20:12:22Z\", \"doi\": \"10.21608/aja.2021.94151.1150\", \"id\": \"pub.1142595523\", \"issue\": \"0\", \"online_pub_date\": \"2024-12-31\", \"pages\": \"0-0\", \"print_pub_date\": \"2024-12-31\", \"pub_date\": \"2024-12-31\", \"pub_year\": 2024, \"volume\": \"0\", \"times_cited\": 0, \"score\": 1.0, \"affiliations_details\": [{\"first_name\": \"\\u0645\\u062d\\u0645\\u062f \\u062c\\u0645\\u0627\\u0644 \\u0645\\u062d\\u0645\\u062f \\u0639\\u0628\\u062f\\u0627\\u0644\\u0647\\u0627\\u062f\\u064a\", \"last_name\": \"\\u0639\\u0628\\u062f\\u0627\\u0644\\u0647\\u0627\\u062f\\u064a\", \"raw_affiliation\": [], \"first_name_original\": \"\", \"last_name_original\": \"\", \"raw_affiliation_original\": [], \"initials\": \"\", \"corresponding\": \"\", \"orcid\": [], \"current_organization_id\": \"\", \"researcher_id\": \"ur.011343521024.09\", \"affiliations\": []}], \"authors_full\": [\"\\u0645\\u062d\\u0645\\u062f \\u062c\\u0645\\u0627\\u0644 \\u0645\\u062d\\u0645\\u062f \\u0639\\u0628\\u062f\\u0627\\u0644\\u0647\\u0627\\u062f\\u064a \\u0639\\u0628\\u062f\\u0627\\u0644\\u0647\\u0627\\u062f\\u064a\"], \"source_title\": \"\\u0627\\u0644\\u0645\\u062c\\u0644\\u0629 \\u0627\\u0644\\u0639\\u0631\\u0628\\u06cc\\u0629 \\u0644\\u0644\\u0625\\u062f\\u0627\\u0631\\u0629\", \"pub_class_id\": \"article\", \"short_abstract\": \"\\u062a\\u0647\\u062f\\u0641 \\u0647\\u0630\\u0647 \\u0627\\u0644\\u062f\\u0631\\u0627\\u0633\\u0629 \\u0627\\u0644\\u0649 \\u0645\\u0639\\u0631\\u0641\\u0629 \\u0623\\u062b\\u0631 \\u0627\\u0644\\u0639\\u0644\\u0627\\u0642\\u0629 \\u0627\\u0644\\u062a\\u0628\\u0627\\u062f\\u0644\\u064a\\u0629 (\\u0627\\u0644\\u0642\\u0627\\u0626\\u062f - \\u0627\\u0644\\u0639\\u0636\\u0648) \\u0639\\u0644\\u064a \\u0627\\u0644\\u0627\\u0628\\u062f\\u0627\\u0639 \\u0627\\u0644\\u0627\\u062f\\u0627\\u0631\\u064a \\u0644\\u062f\\u064a \\u0627\\u0644\\u0639\\u0627\\u0645\\u0644\\u064a\\u0646 \\u0628\\u0627\\u0644\\u0647\\u064a\\u0626\\u0629 \\u0627\\u0644\\u0639\\u0627\\u0645\\u0629 \\u0644\\u0644\\u0627\\u0633\\u062a\\u062b\\u0645\\u0627\\u0631 \\u0648\\u0627\\u0644\\u0645\\u0646\\u0627\\u0637\\u0642 \\u0627\\u0644\\u062d\\u0631\\u0629 \\u060c\\u0648\\u062a\\u062d\\u062f\\u0628\\u062f \\u0645\\u0634\\u06a9\\u0644\\u0629 \\u0627\\u0644\\u062f\\u0631\\u0627\\u0633\\u0629 \\u0641\\u064a \\u0627\\u0644\\u062a\\u0633\\u0627\\u0624\\u0644 \\u0627\\u0644\\u062a\\u0627\\u0644\\u064a : \\u0645\\u0627 \\u0623\\u062b\\u0631 \\u0627\\u0644\\u0639\\u0644\\u0627\\u0642\\u0629 \\u0627\\u0644\\u062a\\u0628\", \"abstract_is_shortened\": true, \"openurl\": null, \"orcid\": {\"api_add_path\": {\"path\": \"/orcid/api/publication/add.json?id=pub.1142595523\"}}, \"altmetric_badge\": {\"value\": \"10.21608/aja.2021.94151.1150\", \"id_type\": \"doi\", \"template\": \"dimensions\"}, \"readcube\": {\"doi\": \"10.21608/aja.2021.94151.1150\", \"pmid\": null, \"pmc_id\": null, \"arxiv\": null, \"oa-url\": \"https://aja.journals.ekb.eg/article_202304_899d4525b5bd88bcb76b21b042d44498.pdf\", \"libkey\": null, \"entityid\": null}, \"navigation\": {\"path\": \"/details/publication/pub.1142595523\", \"abstract_json\": \"/details/sources/publication/pub.1142595523/abstract.json\"}}, {\"title\": \"Effectiveness of Basak (Adhatoda vasica) Leaf Extract on Growth Performance and Heamato-Biochemical Profile of Sonali Chicken\", \"rcdc\": [\"388\"], \"units_of_assessment\": [\"30006\"], \"issn\": [\"2663-6905\", \"2663-6913\"], \"source_title_id\": \"jour.1367951\", \"journal_title\": \"American Journal of Pure and Applied Biosciences\", \"for_2020_2022\": [\"80001\", \"80026\"], \"language\": \"en\", \"abstract_language\": \"en\", \"publisher_source\": \"Universe Publishing Group - UniversePG\", \"publisher_place\": \"Savar, Dhaka\", \"publisher\": \"Universe Publishing Group - UniversePG\", \"pub_class\": \"Article\", \"citation_string_year\": 2024, \"created_in_dimensions\": \"2024-01-14T23:13:21Z\", \"doi\": \"10.34104/ajpab.023.01630172\", \"id\": \"pub.1167918764\", \"online_pub_date\": \"2024-12-31\", \"pages\": \"163-172\", \"print_pub_date\": \"2024-12-31\", \"pub_date\": \"2024-12-31\", \"pub_year\": 2024, \"times_cited\": 0, \"score\": 1.0, \"affiliations_details\": [], \"authors_full\": [], \"source_title\": \"American Journal of Pure and Applied Biosciences\", \"pub_class_id\": \"article\", \"short_abstract\": \"This research was done to find out how supplementing with basak (Adhatoda vasica) leaf extract affected Sonali chickens\\u2019 growth performance and carcass qualities. 180 chickens in all were divided into\", \"abstract_is_shortened\": true, \"openurl\": null, \"orcid\": {\"api_add_path\": {\"path\": \"/orcid/api/publication/add.json?id=pub.1167918764\"}}, \"altmetric_badge\": {\"value\": \"10.34104/ajpab.023.01630172\", \"id_type\": \"doi\", \"template\": \"dimensions\"}, \"readcube\": {\"doi\": \"10.34104/ajpab.023.01630172\", \"pmid\": null, \"pmc_id\": null, \"arxiv\": null, \"oa-url\": null, \"libkey\": null, \"entityid\": null}, \"navigation\": {\"path\": \"/details/publication/pub.1167918764\", \"abstract_json\": \"/details/sources/publication/pub.1167918764/abstract.json\"}}, {\"title\": \"ATUA\\u00c7\\u00c3O DO PERITO CONT\\u00c1BIL NA JUSTI\\u00c7A DO TRABALHO\", \"affiliations_json\": \"[{\\\"first_name\\\": \\\"Anderson\\\", \\\"last_name\\\": \\\"Anacleto Cardoso\\\", \\\"raw_affiliation\\\": [], \\\"first_name_original\\\": \\\"\\\", \\\"last_name_original\\\": \\\"\\\", \\\"raw_affiliation_original\\\": [], \\\"initials\\\": \\\"\\\", \\\"corresponding\\\": \\\"\\\", \\\"orcid\\\": [], \\\"current_organization_id\\\": \\\"\\\", \\\"researcher_id\\\": null, \\\"affiliations\\\": []}, {\\\"first_name\\\": \\\"Bruno\\\", \\\"last_name\\\": \\\"Silveira de Medeiros Barbosa\\\", \\\"raw_affiliation\\\": [], \\\"first_name_original\\\": \\\"\\\", \\\"last_name_original\\\": \\\"\\\", \\\"raw_affiliation_original\\\": [], \\\"initials\\\": \\\"\\\", \\\"corresponding\\\": \\\"\\\", \\\"orcid\\\": null, \\\"current_organization_id\\\": null, \\\"researcher_id\\\": \\\"ur.013403206064.25\\\", \\\"affiliations\\\": []}, {\\\"first_name\\\": \\\"Francisco\\\", \\\"last_name\\\": \\\"Botelho da Silva\\\", \\\"raw_affiliation\\\": [], \\\"first_name_original\\\": \\\"\\\", \\\"last_name_original\\\": \\\"\\\", \\\"raw_affiliation_original\\\": [], \\\"initials\\\": \\\"\\\", \\\"corresponding\\\": \\\"\\\", \\\"orcid\\\": [], \\\"current_organization_id\\\": \\\"\\\", \\\"researcher_id\\\": null, \\\"affiliations\\\": []}, {\\\"first_name\\\": \\\"Gerson\\\", \\\"last_name\\\": \\\"do Nascimento\\\", \\\"raw_affiliation\\\": [], \\\"first_name_original\\\": \\\"\\\", \\\"last_name_original\\\": \\\"\\\", \\\"raw_affiliation_original\\\": [], \\\"initials\\\": \\\"\\\", \\\"corresponding\\\": \\\"\\\", \\\"orcid\\\": null, \\\"current_organization_id\\\": null, \\\"researcher_id\\\": \\\"ur.013537522570.05\\\", \\\"affiliations\\\": []}, {\\\"first_name\\\": \\\"Mauro\\\", \\\"last_name\\\": \\\"Lucio Batista Cazarotti\\\", \\\"raw_affiliation\\\": [], \\\"first_name_original\\\": \\\"\\\", \\\"last_name_original\\\": \\\"\\\", \\\"raw_affiliation_original\\\": [], \\\"initials\\\": \\\"\\\", \\\"corresponding\\\": \\\"\\\", \\\"orcid\\\": null, \\\"current_organization_id\\\": null, \\\"researcher_id\\\": \\\"ur.010013714114.48\\\", \\\"affiliations\\\": []}, {\\\"first_name\\\": \\\"Yasmin\\\", \\\"last_name\\\": \\\"Costa da Silva\\\", \\\"raw_affiliation\\\": [], \\\"first_name_original\\\": \\\"\\\", \\\"last_name_original\\\": \\\"\\\", \\\"raw_affiliation_original\\\": [], \\\"initials\\\": \\\"\\\", \\\"corresponding\\\": \\\"\\\", \\\"orcid\\\": [], \\\"current_organization_id\\\": \\\"\\\", \\\"researcher_id\\\": null, \\\"affiliations\\\": []}]\", \"author_list\": \"Anderson Anacleto Cardoso, Bruno Silveira de Medeiros Barbosa, Francisco Botelho da Silva, Gerson do Nascimento, Mauro Lucio Batista Cazarotti, Yasmin Costa da Silva\", \"researcher_dim_id\": [\"ur.013403206064.25\", \"ur.013537522570.05\", \"ur.010013714114.48\"], \"issn\": [\"2595-9603\", \"2595-9611\"], \"source_title_id\": \"jour.1407537\", \"journal_title\": \"Revista Mais Educa\\u00e7\\u00e3o\", \"language\": \"pt\", \"abstract_language\": \"pt\", \"publisher_source\": \"Revista Mais Educacao\", \"publisher_place\": \"Sao Caetano do Sul, SP, Brazil\", \"publisher\": \"Revista Mais Educacao\", \"pub_class\": \"Article\", \"citation_string_year\": 2024, \"created_in_dimensions\": \"2024-01-06T23:25:49Z\", \"doi\": \"10.51778/2595-9611.v6i10p119-134\", \"id\": \"pub.1167696762\", \"issue\": \"10 - Dezembro 2023\", \"online_pub_date\": \"2024-12-31\", \"pages\": \"119-134\", \"pub_date\": \"2024-12-31\", \"pub_year\": 2024, \"volume\": \"6\", \"times_cited\": 0, \"score\": 1.0, \"affiliations_details\": [{\"first_name\": \"Anderson\", \"last_name\": \"Anacleto Cardoso\", \"raw_affiliation\": [], \"first_name_original\": \"\", \"last_name_original\": \"\", \"raw_affiliation_original\": [], \"initials\": \"\", \"corresponding\": \"\", \"orcid\": [], \"current_organization_id\": \"\", \"researcher_id\": null, \"affiliations\": []}, {\"first_name\": \"Bruno\", \"last_name\": \"Silveira de Medeiros Barbosa\", \"raw_affiliation\": [], \"first_name_original\": \"\", \"last_name_original\": \"\", \"raw_affiliation_original\": [], \"initials\": \"\", \"corresponding\": \"\", \"orcid\": null, \"current_organization_id\": null, \"researcher_id\": \"ur.013403206064.25\", \"affiliations\": []}, {\"first_name\": \"Francisco\", \"last_name\": \"Botelho da Silva\", \"raw_affiliation\": [], \"first_name_original\": \"\", \"last_name_original\": \"\", \"raw_affiliation_original\": [], \"initials\": \"\", \"corresponding\": \"\", \"orcid\": [], \"current_organization_id\": \"\", \"researcher_id\": null, \"affiliations\": []}, {\"first_name\": \"Gerson\", \"last_name\": \"do Nascimento\", \"raw_affiliation\": [], \"first_name_original\": \"\", \"last_name_original\": \"\", \"raw_affiliation_original\": [], \"initials\": \"\", \"corresponding\": \"\", \"orcid\": null, \"current_organization_id\": null, \"researcher_id\": \"ur.013537522570.05\", \"affiliations\": []}, {\"first_name\": \"Mauro\", \"last_name\": \"Lucio Batista Cazarotti\", \"raw_affiliation\": [], \"first_name_original\": \"\", \"last_name_original\": \"\", \"raw_affiliation_original\": [], \"initials\": \"\", \"corresponding\": \"\", \"orcid\": null, \"current_organization_id\": null, \"researcher_id\": \"ur.010013714114.48\", \"affiliations\": []}, {\"first_name\": \"Yasmin\", \"last_name\": \"Costa da Silva\", \"raw_affiliation\": [], \"first_name_original\": \"\", \"last_name_original\": \"\", \"raw_affiliation_original\": [], \"initials\": \"\", \"corresponding\": \"\", \"orcid\": [], \"current_organization_id\": \"\", \"researcher_id\": null, \"affiliations\": []}], \"authors_full\": [\"Anderson Anacleto Cardoso\", \"Bruno Silveira de Medeiros Barbosa\", \"Francisco Botelho da Silva\", \"Gerson do Nascimento\", \"Mauro Lucio Batista Cazarotti\", \"Yasmin Costa da Silva\"], \"source_title\": \"Revista Mais Educa\\u00e7\\u00e3o\", \"pub_class_id\": \"article\", \"short_abstract\": \"Quando o comando judicial transitado em julgado \\u00e9 tido como il\\u00edquido, ou seja, n\\u00e3o fixa os valores devidos na a\\u00e7\\u00e3o, urge a necessidade de elabora\\u00e7\\u00e3o de c\\u00e1lculos para que se produzam os feitos monet\\u00e1ri\", \"abstract_is_shortened\": true, \"openurl\": null, \"orcid\": {\"api_add_path\": {\"path\": \"/orcid/api/publication/add.json?id=pub.1167696762\"}}, \"altmetric_badge\": {\"value\": \"10.51778/2595-9611.v6i10p119-134\", \"id_type\": \"doi\", \"template\": \"dimensions\"}, \"readcube\": {\"doi\": \"10.51778/2595-9611.v6i10p119-134\", \"pmid\": null, \"pmc_id\": null, \"arxiv\": null, \"oa-url\": null, \"libkey\": null, \"entityid\": null}, \"navigation\": {\"path\": \"/details/publication/pub.1167696762\", \"abstract_json\": \"/details/sources/publication/pub.1167696762/abstract.json\"}}, {\"title\": \"AN\\u00c1LISE DE PER\\u00cdCIA JUDICIAL: APURA\\u00c7\\u00c3O CONT\\u00c1BIL DE C\\u00c1LCULO TRABALHISTA\", \"affiliations_json\": \"[{\\\"first_name\\\": \\\"Anderson\\\", \\\"last_name\\\": \\\"Anacleto Cardoso\\\", \\\"raw_affiliation\\\": [], \\\"first_name_original\\\": \\\"\\\", \\\"last_name_original\\\": \\\"\\\", \\\"raw_affiliation_original\\\": [], \\\"initials\\\": \\\"\\\", \\\"corresponding\\\": \\\"\\\", \\\"orcid\\\": [], \\\"current_organization_id\\\": \\\"\\\", \\\"researcher_id\\\": null, \\\"affiliations\\\": []}, {\\\"first_name\\\": \\\"Bruno\\\", \\\"last_name\\\": \\\"Silveira de Medeiros Barbosa\\\", \\\"raw_affiliation\\\": [], \\\"first_name_original\\\": \\\"\\\", \\\"last_name_original\\\": \\\"\\\", \\\"raw_affiliation_original\\\": [], \\\"initials\\\": \\\"\\\", \\\"corresponding\\\": \\\"\\\", \\\"orcid\\\": null, \\\"current_organization_id\\\": null, \\\"researcher_id\\\": \\\"ur.013403206064.25\\\", \\\"affiliations\\\": []}, {\\\"first_name\\\": \\\"Francisco\\\", \\\"last_name\\\": \\\"Botelho da Silva\\\", \\\"raw_affiliation\\\": [], \\\"first_name_original\\\": \\\"\\\", \\\"last_name_original\\\": \\\"\\\", \\\"raw_affiliation_original\\\": [], \\\"initials\\\": \\\"\\\", \\\"corresponding\\\": \\\"\\\", \\\"orcid\\\": [], \\\"current_organization_id\\\": \\\"\\\", \\\"researcher_id\\\": null, \\\"affiliations\\\": []}, {\\\"first_name\\\": \\\"Gerson\\\", \\\"last_name\\\": \\\"do Nascimento\\\", \\\"raw_affiliation\\\": [], \\\"first_name_original\\\": \\\"\\\", \\\"last_name_original\\\": \\\"\\\", \\\"raw_affiliation_original\\\": [], \\\"initials\\\": \\\"\\\", \\\"corresponding\\\": \\\"\\\", \\\"orcid\\\": null, \\\"current_organization_id\\\": null, \\\"researcher_id\\\": \\\"ur.013537522570.05\\\", \\\"affiliations\\\": []}, {\\\"first_name\\\": \\\"Mauro\\\", \\\"last_name\\\": \\\"Lucio Batista Cazarotti\\\", \\\"raw_affiliation\\\": [], \\\"first_name_original\\\": \\\"\\\", \\\"last_name_original\\\": \\\"\\\", \\\"raw_affiliation_original\\\": [], \\\"initials\\\": \\\"\\\", \\\"corresponding\\\": \\\"\\\", \\\"orcid\\\": null, \\\"current_organization_id\\\": null, \\\"researcher_id\\\": \\\"ur.010013714114.48\\\", \\\"affiliations\\\": []}, {\\\"first_name\\\": \\\"Yasmin\\\", \\\"last_name\\\": \\\"Costa da Silva\\\", \\\"raw_affiliation\\\": [], \\\"first_name_original\\\": \\\"\\\", \\\"last_name_original\\\": \\\"\\\", \\\"raw_affiliation_original\\\": [], \\\"initials\\\": \\\"\\\", \\\"corresponding\\\": \\\"\\\", \\\"orcid\\\": [], \\\"current_organization_id\\\": \\\"\\\", \\\"researcher_id\\\": null, \\\"affiliations\\\": []}]\", \"author_list\": \"Anderson Anacleto Cardoso, Bruno Silveira de Medeiros Barbosa, Francisco Botelho da Silva, Gerson do Nascimento, Mauro Lucio Batista Cazarotti, Yasmin Costa da Silva\", \"researcher_dim_id\": [\"ur.013403206064.25\", \"ur.013537522570.05\", \"ur.010013714114.48\"], \"issn\": [\"2595-9603\", \"2595-9611\"], \"source_title_id\": \"jour.1407537\", \"journal_title\": \"Revista Mais Educa\\u00e7\\u00e3o\", \"language\": \"pt\", \"abstract_language\": \"pt\", \"publisher_source\": \"Revista Mais Educacao\", \"publisher_place\": \"Sao Caetano do Sul, SP, Brazil\", \"publisher\": \"Revista Mais Educacao\", \"pub_class\": \"Article\", \"citation_string_year\": 2024, \"created_in_dimensions\": \"2024-01-06T23:25:49Z\", \"doi\": \"10.51778/2595-9611.v6i10p135-159\", \"id\": \"pub.1167696763\", \"issue\": \"10 - Dezembro 2023\", \"online_pub_date\": \"2024-12-31\", \"pages\": \"135-159\", \"pub_date\": \"2024-12-31\", \"pub_year\": 2024, \"volume\": \"6\", \"times_cited\": 0, \"score\": 1.0, \"affiliations_details\": [{\"first_name\": \"Anderson\", \"last_name\": \"Anacleto Cardoso\", \"raw_affiliation\": [], \"first_name_original\": \"\", \"last_name_original\": \"\", \"raw_affiliation_original\": [], \"initials\": \"\", \"corresponding\": \"\", \"orcid\": [], \"current_organization_id\": \"\", \"researcher_id\": null, \"affiliations\": []}, {\"first_name\": \"Bruno\", \"last_name\": \"Silveira de Medeiros Barbosa\", \"raw_affiliation\": [], \"first_name_original\": \"\", \"last_name_original\": \"\", \"raw_affiliation_original\": [], \"initials\": \"\", \"corresponding\": \"\", \"orcid\": null, \"current_organization_id\": null, \"researcher_id\": \"ur.013403206064.25\", \"affiliations\": []}, {\"first_name\": \"Francisco\", \"last_name\": \"Botelho da Silva\", \"raw_affiliation\": [], \"first_name_original\": \"\", \"last_name_original\": \"\", \"raw_affiliation_original\": [], \"initials\": \"\", \"corresponding\": \"\", \"orcid\": [], \"current_organization_id\": \"\", \"researcher_id\": null, \"affiliations\": []}, {\"first_name\": \"Gerson\", \"last_name\": \"do Nascimento\", \"raw_affiliation\": [], \"first_name_original\": \"\", \"last_name_original\": \"\", \"raw_affiliation_original\": [], \"initials\": \"\", \"corresponding\": \"\", \"orcid\": null, \"current_organization_id\": null, \"researcher_id\": \"ur.013537522570.05\", \"affiliations\": []}, {\"first_name\": \"Mauro\", \"last_name\": \"Lucio Batista Cazarotti\", \"raw_affiliation\": [], \"first_name_original\": \"\", \"last_name_original\": \"\", \"raw_affiliation_original\": [], \"initials\": \"\", \"corresponding\": \"\", \"orcid\": null, \"current_organization_id\": null, \"researcher_id\": \"ur.010013714114.48\", \"affiliations\": []}, {\"first_name\": \"Yasmin\", \"last_name\": \"Costa da Silva\", \"raw_affiliation\": [], \"first_name_original\": \"\", \"last_name_original\": \"\", \"raw_affiliation_original\": [], \"initials\": \"\", \"corresponding\": \"\", \"orcid\": [], \"current_organization_id\": \"\", \"researcher_id\": null, \"affiliations\": []}], \"authors_full\": [\"Anderson Anacleto Cardoso\", \"Bruno Silveira de Medeiros Barbosa\", \"Francisco Botelho da Silva\", \"Gerson do Nascimento\", \"Mauro Lucio Batista Cazarotti\", \"Yasmin Costa da Silva\"], \"source_title\": \"Revista Mais Educa\\u00e7\\u00e3o\", \"pub_class_id\": \"article\", \"short_abstract\": \"O presente trabalho busca demonstrar que 0 perito deve examinar com zelo as decis\\u00f5es judiciais constantes nos autos, levando em considera\\u00e7\\u00e3o alguns princ\\u00edpios fundamentais, dos quais se destacam o pri\", \"abstract_is_shortened\": true, \"openurl\": null, \"orcid\": {\"api_add_path\": {\"path\": \"/orcid/api/publication/add.json?id=pub.1167696763\"}}, \"altmetric_badge\": {\"value\": \"10.51778/2595-9611.v6i10p135-159\", \"id_type\": \"doi\", \"template\": \"dimensions\"}, \"readcube\": {\"doi\": \"10.51778/2595-9611.v6i10p135-159\", \"pmid\": null, \"pmc_id\": null, \"arxiv\": null, \"oa-url\": null, \"libkey\": null, \"entityid\": null}, \"navigation\": {\"path\": \"/details/publication/pub.1167696763\", \"abstract_json\": \"/details/sources/publication/pub.1167696763/abstract.json\"}}, {\"title\": \"Association of Sleep Disturbances with the Development of Cognitive Impairment: A Systematic Review\", \"affiliations_json\": \"[{\\\"first_name\\\": \\\"Negroni\\\", \\\"last_name\\\": \\\"Davide\\\", \\\"raw_affiliation\\\": [], \\\"first_name_original\\\": \\\"\\\", \\\"last_name_original\\\": \\\"\\\", \\\"raw_affiliation_original\\\": [], \\\"initials\\\": \\\"\\\", \\\"corresponding\\\": \\\"\\\", \\\"orcid\\\": [], \\\"current_organization_id\\\": \\\"\\\", \\\"researcher_id\\\": null, \\\"affiliations\\\": []}, {\\\"first_name\\\": \\\"Minozzi\\\", \\\"last_name\\\": \\\"Silvia\\\", \\\"raw_affiliation\\\": [], \\\"first_name_original\\\": \\\"\\\", \\\"last_name_original\\\": \\\"\\\", \\\"raw_affiliation_original\\\": [], \\\"initials\\\": \\\"\\\", \\\"corresponding\\\": \\\"\\\", \\\"orcid\\\": [], \\\"current_organization_id\\\": \\\"\\\", \\\"researcher_id\\\": null, \\\"affiliations\\\": []}, {\\\"first_name\\\": \\\"Gonzalez-Lorenzo\\\", \\\"last_name\\\": \\\"Marien\\\", \\\"raw_affiliation\\\": [], \\\"first_name_original\\\": \\\"\\\", \\\"last_name_original\\\": \\\"\\\", \\\"raw_affiliation_original\\\": [], \\\"initials\\\": \\\"\\\", \\\"corresponding\\\": \\\"\\\", \\\"orcid\\\": [], \\\"current_organization_id\\\": \\\"\\\", \\\"researcher_id\\\": null, \\\"affiliations\\\": []}, {\\\"first_name\\\": \\\"Fortuna\\\", \\\"last_name\\\": \\\"Gaetano Federico\\\", \\\"raw_affiliation\\\": [], \\\"first_name_original\\\": \\\"\\\", \\\"last_name_original\\\": \\\"\\\", \\\"raw_affiliation_original\\\": [], \\\"initials\\\": \\\"\\\", \\\"corresponding\\\": \\\"\\\", \\\"orcid\\\": [], \\\"current_organization_id\\\": \\\"\\\", \\\"researcher_id\\\": null, \\\"affiliations\\\": []}, {\\\"first_name\\\": \\\"Mazzini\\\", \\\"last_name\\\": \\\"Letizia\\\", \\\"raw_affiliation\\\": [], \\\"first_name_original\\\": \\\"\\\", \\\"last_name_original\\\": \\\"\\\", \\\"raw_affiliation_original\\\": [], \\\"initials\\\": \\\"\\\", \\\"corresponding\\\": \\\"\\\", \\\"orcid\\\": [], \\\"current_organization_id\\\": \\\"\\\", \\\"researcher_id\\\": null, \\\"affiliations\\\": []}, {\\\"first_name\\\": \\\"Stecco\\\", \\\"last_name\\\": \\\"Alessandro\\\", \\\"raw_affiliation\\\": [], \\\"first_name_original\\\": \\\"\\\", \\\"last_name_original\\\": \\\"\\\", \\\"raw_affiliation_original\\\": [], \\\"initials\\\": \\\"\\\", \\\"corresponding\\\": \\\"\\\", \\\"orcid\\\": null, \\\"current_organization_id\\\": null, \\\"researcher_id\\\": \\\"ur.012373572541.63\\\", \\\"affiliations\\\": []}]\", \"author_list\": \"Negroni Davide, Minozzi Silvia, Gonzalez-Lorenzo Marien, Fortuna Gaetano Federico, Mazzini Letizia, Stecco Alessandro\", \"researcher_dim_id\": [\"ur.012373572541.63\"], \"issn\": [\"2572-4053\"], \"source_title_id\": \"jour.1284354\", \"journal_title\": \"Journal of Sleep Disorders and Management\", \"language\": \"en\", \"abstract_language\": \"en\", \"publisher_source\": \"ClinMed International Library\", \"publisher_place\": \"Newark, DE, United States\", \"publisher\": \"ClinMed International Library\", \"pub_class\": \"Article\", \"cited_dimensions_ids\": [\"pub.1163139331\", \"pub.1157394614\", \"pub.1078206501\", \"pub.1107663047\", \"pub.1109803058\", \"pub.1129053681\", \"pub.1073065965\", \"pub.1046609893\", \"pub.1137326783\", \"pub.1133739910\", \"pub.1131242414\", \"pub.1032308193\", \"pub.1059623347\", \"pub.1104106591\", \"pub.1084528784\", \"pub.1132872777\", \"pub.1002554654\", \"pub.1063342089\", \"pub.1045279909\", \"pub.1083684923\", \"pub.1001951503\", \"pub.1078146095\", \"pub.1020097271\", \"pub.1073065957\", \"pub.1114104291\", \"pub.1076872149\", \"pub.1000736772\", \"pub.1136927873\", \"pub.1113355196\", \"pub.1085434747\", \"pub.1041629876\", \"pub.1017059280\", \"pub.1085199500\", \"pub.1053533357\", \"pub.1021734070\"], \"citation_string_year\": 2024, \"created_in_dimensions\": \"2024-01-27T20:55:11Z\", \"doi\": \"10.23937/2572-4053.1510042\", \"id\": \"pub.1168275156\", \"issue\": \"1\", \"online_pub_date\": \"2024-12-31\", \"pages\": \"42\", \"pub_date\": \"2024-12-31\", \"pub_year\": 2024, \"volume\": \"9\", \"times_cited\": 0, \"score\": 1.0, \"affiliations_details\": [{\"first_name\": \"Negroni\", \"last_name\": \"Davide\", \"raw_affiliation\": [], \"first_name_original\": \"\", \"last_name_original\": \"\", \"raw_affiliation_original\": [], \"initials\": \"\", \"corresponding\": \"\", \"orcid\": [], \"current_organization_id\": \"\", \"researcher_id\": null, \"affiliations\": []}, {\"first_name\": \"Minozzi\", \"last_name\": \"Silvia\", \"raw_affiliation\": [], \"first_name_original\": \"\", \"last_name_original\": \"\", \"raw_affiliation_original\": [], \"initials\": \"\", \"corresponding\": \"\", \"orcid\": [], \"current_organization_id\": \"\", \"researcher_id\": null, \"affiliations\": []}, {\"first_name\": \"Gonzalez-Lorenzo\", \"last_name\": \"Marien\", \"raw_affiliation\": [], \"first_name_original\": \"\", \"last_name_original\": \"\", \"raw_affiliation_original\": [], \"initials\": \"\", \"corresponding\": \"\", \"orcid\": [], \"current_organization_id\": \"\", \"researcher_id\": null, \"affiliations\": []}, {\"first_name\": \"Fortuna\", \"last_name\": \"Gaetano Federico\", \"raw_affiliation\": [], \"first_name_original\": \"\", \"last_name_original\": \"\", \"raw_affiliation_original\": [], \"initials\": \"\", \"corresponding\": \"\", \"orcid\": [], \"current_organization_id\": \"\", \"researcher_id\": null, \"affiliations\": []}, {\"first_name\": \"Mazzini\", \"last_name\": \"Letizia\", \"raw_affiliation\": [], \"first_name_original\": \"\", \"last_name_original\": \"\", \"raw_affiliation_original\": [], \"initials\": \"\", \"corresponding\": \"\", \"orcid\": [], \"current_organization_id\": \"\", \"researcher_id\": null, \"affiliations\": []}, {\"first_name\": \"Stecco\", \"last_name\": \"Alessandro\", \"raw_affiliation\": [], \"first_name_original\": \"\", \"last_name_original\": \"\", \"raw_affiliation_original\": [], \"initials\": \"\", \"corresponding\": \"\", \"orcid\": null, \"current_organization_id\": null, \"researcher_id\": \"ur.012373572541.63\", \"affiliations\": []}], \"authors_full\": [\"Negroni Davide\", \"Minozzi Silvia\", \"Gonzalez-Lorenzo Marien\", \"Fortuna Gaetano Federico\", \"Mazzini Letizia\", \"Stecco Alessandro\"], \"source_title\": \"Journal of Sleep Disorders and Management\", \"pub_class_id\": \"article\", \"openurl\": null, \"orcid\": {\"api_add_path\": {\"path\": \"/orcid/api/publication/add.json?id=pub.1168275156\"}}, \"altmetric_badge\": {\"value\": \"10.23937/2572-4053.1510042\", \"id_type\": \"doi\", \"template\": \"dimensions\"}, \"readcube\": {\"doi\": \"10.23937/2572-4053.1510042\", \"pmid\": null, \"pmc_id\": null, \"arxiv\": null, \"oa-url\": null, \"libkey\": null, \"entityid\": null}, \"navigation\": {\"path\": \"/details/publication/pub.1168275156\", \"abstract_json\": \"/details/sources/publication/pub.1168275156/abstract.json\"}}, {\"title\": \"Knowledge creation and economic growth: the importance of basic research\", \"affiliations_json\": \"[{\\\"first_name\\\": \\\"Clement\\\", \\\"last_name\\\": \\\"Moyo\\\", \\\"raw_affiliation\\\": [\\\"Department of Economics, Nelson Mandela University, Gqeberha, South Africa\\\"], \\\"first_name_original\\\": \\\"\\\", \\\"last_name_original\\\": \\\"\\\", \\\"raw_affiliation_original\\\": [], \\\"initials\\\": \\\"\\\", \\\"corresponding\\\": true, \\\"orcid\\\": [], \\\"current_organization_id\\\": \\\"\\\", \\\"researcher_id\\\": null, \\\"affiliations\\\": [{\\\"id\\\": \\\"grid.412139.c\\\", \\\"name\\\": \\\"Nelson Mandela University\\\", \\\"city\\\": \\\"Port Elizabeth\\\", \\\"city_id\\\": 964420, \\\"country\\\": \\\"South Africa\\\", \\\"country_code\\\": \\\"ZA\\\", \\\"state\\\": null, \\\"state_code\\\": null, \\\"raw_affiliation\\\": \\\"Department of Economics, Nelson Mandela University, Gqeberha, South Africa\\\"}]}, {\\\"first_name\\\": \\\"Andrew\\\", \\\"last_name\\\": \\\"Phiri\\\", \\\"raw_affiliation\\\": [\\\"Department of Economics, Nelson Mandela University, Gqeberha, South Africa\\\"], \\\"first_name_original\\\": \\\"\\\", \\\"last_name_original\\\": \\\"\\\", \\\"raw_affiliation_original\\\": [], \\\"initials\\\": \\\"\\\", \\\"corresponding\\\": \\\"\\\", \\\"orcid\\\": [], \\\"current_organization_id\\\": \\\"\\\", \\\"researcher_id\\\": null, \\\"affiliations\\\": [{\\\"id\\\": \\\"grid.412139.c\\\", \\\"name\\\": \\\"Nelson Mandela University\\\", \\\"city\\\": \\\"Port Elizabeth\\\", \\\"city_id\\\": 964420, \\\"country\\\": \\\"South Africa\\\", \\\"country_code\\\": \\\"ZA\\\", \\\"state\\\": null, \\\"state_code\\\": null, \\\"raw_affiliation\\\": \\\"Department of Economics, Nelson Mandela University, Gqeberha, South Africa\\\"}]}]\", \"author_list\": \"Clement Moyo, Andrew Phiri\", \"sdg_2021\": [\"40008\"], \"units_of_assessment\": [\"30017\"], \"issn\": [\"2331-1886\"], \"source_title_id\": \"jour.1150849\", \"journal_title\": \"Cogent Social Sciences\", \"for_2020_2022\": [\"80017\", \"80189\"], \"language\": \"en\", \"abstract_language\": \"en\", \"linkout_oa\": \"http://dx.doi.org/10.1080/23311886.2024.2309714\", \"pub_class\": \"Article\", \"cited_dimensions_ids\": [\"pub.1041046176\", \"pub.1033523455\", \"pub.1039052181\", \"pub.1058575206\", \"pub.1040721947\", \"pub.1106188318\", \"pub.1007898965\", \"pub.1034348984\", \"pub.1038515158\", \"pub.1058574901\", \"pub.1091878839\", \"pub.1106022889\", \"pub.1046148399\", \"pub.1040676707\", \"pub.1010221629\", \"pub.1050985762\", \"pub.1137411599\", \"pub.1125078781\", \"pub.1130538902\", \"pub.1022045642\", \"pub.1125859738\", \"pub.1110458978\", \"pub.1102208826\", \"pub.1013480308\", \"pub.1048132669\", \"pub.1072967223\", \"pub.1008594158\", \"pub.1146482786\", \"pub.1018999323\", \"pub.1146920045\", \"pub.1003851449\", \"pub.1020076381\", \"pub.1070145900\", \"pub.1052712914\", \"pub.1064528115\", \"pub.1040293543\", \"pub.1108475210\", \"pub.1145951426\", \"pub.1143786335\", \"pub.1069625691\", \"pub.1128672181\", \"pub.1042498885\", \"pub.1122626025\", \"pub.1069867623\", \"pub.1125956483\", \"pub.1144789076\", \"pub.1006035902\", \"pub.1117404697\"], \"aff_city_geonames_ids\": [\"964420\"], \"aff_country_codes\": [\"ZA\"], \"aff_org_id\": [\"grid.412139.c\"], \"citation_string_year\": 2024, \"created_in_dimensions\": \"2024-02-04T20:42:05Z\", \"doi\": \"10.1080/23311886.2024.2309714\", \"id\": \"pub.1168534069\", \"issue\": \"1\", \"pages\": \"2309714\", \"print_pub_date\": \"2024-12-31\", \"pub_date\": \"2024-12-31\", \"pub_year\": 2024, \"volume\": \"10\", \"times_cited\": 0, \"score\": 1.0, \"affiliations_details\": [{\"first_name\": \"Clement\", \"last_name\": \"Moyo\", \"raw_affiliation\": [\"Department of Economics, Nelson Mandela University, Gqeberha, South Africa\"], \"first_name_original\": \"\", \"last_name_original\": \"\", \"raw_affiliation_original\": [], \"initials\": \"\", \"corresponding\": true, \"orcid\": [], \"current_organization_id\": \"\", \"researcher_id\": null, \"affiliations\": [{\"id\": \"grid.412139.c\", \"name\": \"Nelson Mandela University\", \"city\": \"Port Elizabeth\", \"city_id\": 964420, \"country\": \"South Africa\", \"country_code\": \"ZA\", \"state\": null, \"state_code\": null, \"raw_affiliation\": \"Department of Economics, Nelson Mandela University, Gqeberha, South Africa\"}]}, {\"first_name\": \"Andrew\", \"last_name\": \"Phiri\", \"raw_affiliation\": [\"Department of Economics, Nelson Mandela University, Gqeberha, South Africa\"], \"first_name_original\": \"\", \"last_name_original\": \"\", \"raw_affiliation_original\": [], \"initials\": \"\", \"corresponding\": \"\", \"orcid\": [], \"current_organization_id\": \"\", \"researcher_id\": null, \"affiliations\": [{\"id\": \"grid.412139.c\", \"name\": \"Nelson Mandela University\", \"city\": \"Port Elizabeth\", \"city_id\": 964420, \"country\": \"South Africa\", \"country_code\": \"ZA\", \"state\": null, \"state_code\": null, \"raw_affiliation\": \"Department of Economics, Nelson Mandela University, Gqeberha, South Africa\"}]}], \"authors_full\": [\"Clement Moyo\", \"Andrew Phiri\"], \"source_title\": \"Cogent Social Sciences\", \"pub_class_id\": \"article\", \"short_abstract\": \"Economic growth continues to be a crucial determinant of the achievement of socioeconomic goals. Therefore, the observed declines in economic growth and productivity levels over the last few decades h\", \"abstract_is_shortened\": true, \"openurl\": null, \"orcid\": {\"api_add_path\": {\"path\": \"/orcid/api/publication/add.json?id=pub.1168534069\"}}, \"altmetric_badge\": {\"value\": \"10.1080/23311886.2024.2309714\", \"id_type\": \"doi\", \"template\": \"dimensions\"}, \"readcube\": {\"doi\": \"10.1080/23311886.2024.2309714\", \"pmid\": null, \"pmc_id\": null, \"arxiv\": null, \"oa-url\": \"http://dx.doi.org/10.1080/23311886.2024.2309714\", \"libkey\": null, \"entityid\": null}, \"navigation\": {\"path\": \"/details/publication/pub.1168534069\", \"abstract_json\": \"/details/sources/publication/pub.1168534069/abstract.json\"}}, {\"title\": \"Changes in texture profile and mineral content of ultrafiltered white cheese produced using different salt concentrations\", \"affiliations_json\": \"[{\\\"first_name\\\": \\\"Mostafa\\\", \\\"last_name\\\": \\\"Soltani\\\", \\\"raw_affiliation\\\": [], \\\"first_name_original\\\": \\\"\\\", \\\"last_name_original\\\": \\\"\\\", \\\"raw_affiliation_original\\\": [], \\\"initials\\\": \\\"\\\", \\\"corresponding\\\": \\\"\\\", \\\"orcid\\\": [], \\\"current_organization_id\\\": \\\"\\\", \\\"researcher_id\\\": null, \\\"affiliations\\\": []}]\", \"author_list\": \"Mostafa Soltani\", \"units_of_assessment\": [\"30006\"], \"issn\": [\"0026-704X\", \"1846-4025\", \"0026704x\", \"18464025\"], \"source_title_id\": \"jour.1013760\", \"journal_title\": \"Mljekarstvo\", \"for_2020_2022\": [\"80001\", \"80029\"], \"language\": \"en\", \"abstract_language\": \"en\", \"linkout_oa\": \"http://dx.doi.org/10.15567/mljekarstvo.2024.0105\", \"publisher_source\": \"Croatian Dairy Union\", \"publisher_place\": \"Zagreb, Croatia\", \"publisher\": \"Croatian Dairy Union\", \"pub_class\": \"Article\", \"citation_string_year\": 2024, \"created_in_dimensions\": \"2024-01-02T22:07:16Z\", \"doi\": \"10.15567/mljekarstvo.2024.0105\", \"id\": \"pub.1167556181\", \"online_pub_date\": \"2024-12-31\", \"pages\": \"64-74\", \"print_pub_date\": \"2024-12-31\", \"pub_date\": \"2024-12-31\", \"pub_year\": 2024, \"times_cited\": 0, \"score\": 1.0, \"affiliations_details\": [{\"first_name\": \"Mostafa\", \"last_name\": \"Soltani\", \"raw_affiliation\": [], \"first_name_original\": \"\", \"last_name_original\": \"\", \"raw_affiliation_original\": [], \"initials\": \"\", \"corresponding\": \"\", \"orcid\": [], \"current_organization_id\": \"\", \"researcher_id\": null, \"affiliations\": []}], \"authors_full\": [\"Mostafa Soltani\"], \"source_title\": \"Mljekarstvo\", \"pub_class_id\": \"article\", \"short_abstract\": \"Ultrafiltered (UF) white cheese is one of the most consumed types of cheese and characterized by mild flavour and semi-hard texture. The aim of this research was to investigate the effect of salt conc\", \"abstract_is_shortened\": true, \"openurl\": null, \"orcid\": {\"api_add_path\": {\"path\": \"/orcid/api/publication/add.json?id=pub.1167556181\"}}, \"altmetric_badge\": {\"value\": \"10.15567/mljekarstvo.2024.0105\", \"id_type\": \"doi\", \"template\": \"dimensions\"}, \"readcube\": {\"doi\": \"10.15567/mljekarstvo.2024.0105\", \"pmid\": null, \"pmc_id\": null, \"arxiv\": null, \"oa-url\": \"http://dx.doi.org/10.15567/mljekarstvo.2024.0105\", \"libkey\": null, \"entityid\": null}, \"navigation\": {\"path\": \"/details/publication/pub.1167556181\", \"abstract_json\": \"/details/sources/publication/pub.1167556181/abstract.json\"}}, {\"title\": \"The effect of body condition score in the transition period on milk, fertility, and health traits of Holstein cows\", \"affiliations_json\": \"[{\\\"first_name\\\": \\\"Ariadna V.\\\", \\\"last_name\\\": \\\"Alvarado\\\", \\\"raw_affiliation\\\": [], \\\"first_name_original\\\": \\\"\\\", \\\"last_name_original\\\": \\\"\\\", \\\"raw_affiliation_original\\\": [], \\\"initials\\\": \\\"\\\", \\\"corresponding\\\": \\\"\\\", \\\"orcid\\\": [], \\\"current_organization_id\\\": \\\"\\\", \\\"researcher_id\\\": null, \\\"affiliations\\\": []}]\", \"author_list\": \"Ariadna V. Alvarado\", \"units_of_assessment\": [\"30006\"], \"issn\": [\"0026-704X\", \"1846-4025\", \"0026704x\", \"18464025\"], \"source_title_id\": \"jour.1013760\", \"journal_title\": \"Mljekarstvo\", \"for_2020_2022\": [\"80001\", \"80026\"], \"language\": \"en\", \"abstract_language\": \"en\", \"linkout_oa\": \"http://dx.doi.org/10.15567/mljekarstvo.2024.0106\", \"publisher_source\": \"Croatian Dairy Union\", \"publisher_place\": \"Zagreb, Croatia\", \"publisher\": \"Croatian Dairy Union\", \"pub_class\": \"Article\", \"citation_string_year\": 2024, \"created_in_dimensions\": \"2024-01-02T22:07:16Z\", \"doi\": \"10.15567/mljekarstvo.2024.0106\", \"id\": \"pub.1167556182\", \"online_pub_date\": \"2024-12-31\", \"pages\": \"75-86\", \"print_pub_date\": \"2024-12-31\", \"pub_date\": \"2024-12-31\", \"pub_year\": 2024, \"times_cited\": 0, \"score\": 1.0, \"affiliations_details\": [{\"first_name\": \"Ariadna V.\", \"last_name\": \"Alvarado\", \"raw_affiliation\": [], \"first_name_original\": \"\", \"last_name_original\": \"\", \"raw_affiliation_original\": [], \"initials\": \"\", \"corresponding\": \"\", \"orcid\": [], \"current_organization_id\": \"\", \"researcher_id\": null, \"affiliations\": []}], \"authors_full\": [\"Ariadna V. Alvarado\"], \"source_title\": \"Mljekarstvo\", \"pub_class_id\": \"article\", \"short_abstract\": \"This study aimed to investigate the relationship between measures of body condition score (BCS) during the transition period and milk yield, reproductive performance, and occurrence of metritis and ke\", \"abstract_is_shortened\": true, \"openurl\": null, \"orcid\": {\"api_add_path\": {\"path\": \"/orcid/api/publication/add.json?id=pub.1167556182\"}}, \"altmetric_badge\": {\"value\": \"10.15567/mljekarstvo.2024.0106\", \"id_type\": \"doi\", \"template\": \"dimensions\"}, \"readcube\": {\"doi\": \"10.15567/mljekarstvo.2024.0106\", \"pmid\": null, \"pmc_id\": null, \"arxiv\": null, \"oa-url\": \"http://dx.doi.org/10.15567/mljekarstvo.2024.0106\", \"libkey\": null, \"entityid\": null}, \"navigation\": {\"path\": \"/details/publication/pub.1167556182\", \"abstract_json\": \"/details/sources/publication/pub.1167556182/abstract.json\"}}, {\"title\": \"Does monetary poverty reduction through gender empowerment work?\", \"affiliations_json\": \"[{\\\"first_name\\\": \\\"Isaac\\\", \\\"last_name\\\": \\\"Boadi\\\", \\\"raw_affiliation\\\": [\\\"Banking and Finance, University of Professional Studies, Accra, Ghana\\\"], \\\"first_name_original\\\": \\\"\\\", \\\"last_name_original\\\": \\\"\\\", \\\"raw_affiliation_original\\\": [], \\\"initials\\\": \\\"\\\", \\\"corresponding\\\": \\\"\\\", \\\"orcid\\\": [], \\\"current_organization_id\\\": \\\"\\\", \\\"researcher_id\\\": null, \\\"affiliations\\\": [{\\\"id\\\": \\\"grid.460786.b\\\", \\\"name\\\": \\\"University of Professional Studies\\\", \\\"city\\\": \\\"Accra\\\", \\\"city_id\\\": 2306104, \\\"country\\\": \\\"Ghana\\\", \\\"country_code\\\": \\\"GH\\\", \\\"state\\\": null, \\\"state_code\\\": null, \\\"raw_affiliation\\\": \\\"Banking and Finance, University of Professional Studies, Accra, Ghana\\\"}]}, {\\\"first_name\\\": \\\"Ernest\\\", \\\"last_name\\\": \\\"Sogah\\\", \\\"raw_affiliation\\\": [\\\"Banking and Finance, University of Professional Studies, Accra, Ghana\\\"], \\\"first_name_original\\\": \\\"\\\", \\\"last_name_original\\\": \\\"\\\", \\\"raw_affiliation_original\\\": [], \\\"initials\\\": \\\"\\\", \\\"corresponding\\\": true, \\\"orcid\\\": [], \\\"current_organization_id\\\": \\\"\\\", \\\"researcher_id\\\": null, \\\"affiliations\\\": [{\\\"id\\\": \\\"grid.460786.b\\\", \\\"name\\\": \\\"University of Professional Studies\\\", \\\"city\\\": \\\"Accra\\\", \\\"city_id\\\": 2306104, \\\"country\\\": \\\"Ghana\\\", \\\"country_code\\\": \\\"GH\\\", \\\"state\\\": null, \\\"state_code\\\": null, \\\"raw_affiliation\\\": \\\"Banking and Finance, University of Professional Studies, Accra, Ghana\\\"}]}, {\\\"first_name\\\": \\\"Erick Kofi\\\", \\\"last_name\\\": \\\"Boadi\\\", \\\"raw_affiliation\\\": [\\\"Banking and Finance, University of Professional Studies, Accra, Ghana\\\"], \\\"first_name_original\\\": \\\"\\\", \\\"last_name_original\\\": \\\"\\\", \\\"raw_affiliation_original\\\": [], \\\"initials\\\": \\\"\\\", \\\"corresponding\\\": \\\"\\\", \\\"orcid\\\": [], \\\"current_organization_id\\\": \\\"\\\", \\\"researcher_id\\\": null, \\\"affiliations\\\": [{\\\"id\\\": \\\"grid.460786.b\\\", \\\"name\\\": \\\"University of Professional Studies\\\", \\\"city\\\": \\\"Accra\\\", \\\"city_id\\\": 2306104, \\\"country\\\": \\\"Ghana\\\", \\\"country_code\\\": \\\"GH\\\", \\\"state\\\": null, \\\"state_code\\\": null, \\\"raw_affiliation\\\": \\\"Banking and Finance, University of Professional Studies, Accra, Ghana\\\"}]}, {\\\"first_name\\\": \\\"Freeman Christian\\\", \\\"last_name\\\": \\\"Gborse\\\", \\\"raw_affiliation\\\": [\\\"Banking and Finance, University of Professional Studies, Accra, Ghana\\\"], \\\"first_name_original\\\": \\\"\\\", \\\"last_name_original\\\": \\\"\\\", \\\"raw_affiliation_original\\\": [], \\\"initials\\\": \\\"\\\", \\\"corresponding\\\": \\\"\\\", \\\"orcid\\\": [], \\\"current_organization_id\\\": \\\"\\\", \\\"researcher_id\\\": null, \\\"affiliations\\\": [{\\\"id\\\": \\\"grid.460786.b\\\", \\\"name\\\": \\\"University of Professional Studies\\\", \\\"city\\\": \\\"Accra\\\", \\\"city_id\\\": 2306104, \\\"country\\\": \\\"Ghana\\\", \\\"country_code\\\": \\\"GH\\\", \\\"state\\\": null, \\\"state_code\\\": null, \\\"raw_affiliation\\\": \\\"Banking and Finance, University of Professional Studies, Accra, Ghana\\\"}]}, {\\\"first_name\\\": \\\"John Kwaku Mensah\\\", \\\"last_name\\\": \\\"Mawutor\\\", \\\"raw_affiliation\\\": [\\\"Banking and Finance, University of Professional Studies, Accra, Ghana\\\"], \\\"first_name_original\\\": \\\"\\\", \\\"last_name_original\\\": \\\"\\\", \\\"raw_affiliation_original\\\": [], \\\"initials\\\": \\\"\\\", \\\"corresponding\\\": \\\"\\\", \\\"orcid\\\": [], \\\"current_organization_id\\\": \\\"\\\", \\\"researcher_id\\\": null, \\\"affiliations\\\": [{\\\"id\\\": \\\"grid.460786.b\\\", \\\"name\\\": \\\"University of Professional Studies\\\", \\\"city\\\": \\\"Accra\\\", \\\"city_id\\\": 2306104, \\\"country\\\": \\\"Ghana\\\", \\\"country_code\\\": \\\"GH\\\", \\\"state\\\": null, \\\"state_code\\\": null, \\\"raw_affiliation\\\": \\\"Banking and Finance, University of Professional Studies, Accra, Ghana\\\"}]}]\", \"author_list\": \"Isaac Boadi, Ernest Sogah, Erick Kofi Boadi, Freeman Christian Gborse, John Kwaku Mensah Mawutor\", \"health_research_areas\": [\"3903\"], \"rcdc\": [\"497\", \"498\"], \"sdg_2021\": [\"40010\", \"40001\", \"40005\"], \"units_of_assessment\": [\"30022\"], \"issn\": [\"2331-1886\"], \"source_title_id\": \"jour.1150849\", \"journal_title\": \"Cogent Social Sciences\", \"for_2020_2022\": [\"80152\", \"80015\"], \"language\": \"en\", \"abstract_language\": \"en\", \"linkout_oa\": \"http://dx.doi.org/10.1080/23311886.2024.2307696\", \"pub_class\": \"Article\", \"cited_dimensions_ids\": [\"pub.1133617727\", \"pub.1085080634\", \"pub.1058528698\", \"pub.1090472370\", \"pub.1036449435\", \"pub.1103356560\", \"pub.1048762864\", \"pub.1143442194\", \"pub.1025739926\", \"pub.1093106868\", \"pub.1044431786\", \"pub.1026531288\", \"pub.1044115741\", \"pub.1124488022\", \"pub.1046998771\", \"pub.1005411276\", \"pub.1047658658\", \"pub.1112321720\", \"pub.1064654859\", \"pub.1092872822\", \"pub.1037288319\", \"pub.1042279957\", \"pub.1033938304\", \"pub.1031164831\", \"pub.1085565965\", \"pub.1020320301\", \"pub.1145982130\", \"pub.1009614635\", \"pub.1156536037\", \"pub.1038437250\", \"pub.1058575206\", \"pub.1064032579\", \"pub.1000670314\", \"pub.1042220331\", \"pub.1141731269\", \"pub.1069768974\", \"pub.1028981358\", \"pub.1050717656\", \"pub.1144382266\", \"pub.1015838036\", \"pub.1125413588\", \"pub.1149949926\", \"pub.1033339108\"], \"aff_city_geonames_ids\": [\"2306104\"], \"aff_country_codes\": [\"GH\"], \"aff_org_id\": [\"grid.460786.b\"], \"citation_string_year\": 2024, \"created_in_dimensions\": \"2024-02-04T20:42:05Z\", \"doi\": \"10.1080/23311886.2024.2307696\", \"id\": \"pub.1168539172\", \"issue\": \"1\", \"pages\": \"2307696\", \"print_pub_date\": \"2024-12-31\", \"pub_date\": \"2024-12-31\", \"pub_year\": 2024, \"volume\": \"10\", \"times_cited\": 0, \"score\": 1.0, \"affiliations_details\": [{\"first_name\": \"Isaac\", \"last_name\": \"Boadi\", \"raw_affiliation\": [\"Banking and Finance, University of Professional Studies, Accra, Ghana\"], \"first_name_original\": \"\", \"last_name_original\": \"\", \"raw_affiliation_original\": [], \"initials\": \"\", \"corresponding\": \"\", \"orcid\": [], \"current_organization_id\": \"\", \"researcher_id\": null, \"affiliations\": [{\"id\": \"grid.460786.b\", \"name\": \"University of Professional Studies\", \"city\": \"Accra\", \"city_id\": 2306104, \"country\": \"Ghana\", \"country_code\": \"GH\", \"state\": null, \"state_code\": null, \"raw_affiliation\": \"Banking and Finance, University of Professional Studies, Accra, Ghana\"}]}, {\"first_name\": \"Ernest\", \"last_name\": \"Sogah\", \"raw_affiliation\": [\"Banking and Finance, University of Professional Studies, Accra, Ghana\"], \"first_name_original\": \"\", \"last_name_original\": \"\", \"raw_affiliation_original\": [], \"initials\": \"\", \"corresponding\": true, \"orcid\": [], \"current_organization_id\": \"\", \"researcher_id\": null, \"affiliations\": [{\"id\": \"grid.460786.b\", \"name\": \"University of Professional Studies\", \"city\": \"Accra\", \"city_id\": 2306104, \"country\": \"Ghana\", \"country_code\": \"GH\", \"state\": null, \"state_code\": null, \"raw_affiliation\": \"Banking and Finance, University of Professional Studies, Accra, Ghana\"}]}, {\"first_name\": \"Erick Kofi\", \"last_name\": \"Boadi\", \"raw_affiliation\": [\"Banking and Finance, University of Professional Studies, Accra, Ghana\"], \"first_name_original\": \"\", \"last_name_original\": \"\", \"raw_affiliation_original\": [], \"initials\": \"\", \"corresponding\": \"\", \"orcid\": [], \"current_organization_id\": \"\", \"researcher_id\": null, \"affiliations\": [{\"id\": \"grid.460786.b\", \"name\": \"University of Professional Studies\", \"city\": \"Accra\", \"city_id\": 2306104, \"country\": \"Ghana\", \"country_code\": \"GH\", \"state\": null, \"state_code\": null, \"raw_affiliation\": \"Banking and Finance, University of Professional Studies, Accra, Ghana\"}]}, {\"first_name\": \"Freeman Christian\", \"last_name\": \"Gborse\", \"raw_affiliation\": [\"Banking and Finance, University of Professional Studies, Accra, Ghana\"], \"first_name_original\": \"\", \"last_name_original\": \"\", \"raw_affiliation_original\": [], \"initials\": \"\", \"corresponding\": \"\", \"orcid\": [], \"current_organization_id\": \"\", \"researcher_id\": null, \"affiliations\": [{\"id\": \"grid.460786.b\", \"name\": \"University of Professional Studies\", \"city\": \"Accra\", \"city_id\": 2306104, \"country\": \"Ghana\", \"country_code\": \"GH\", \"state\": null, \"state_code\": null, \"raw_affiliation\": \"Banking and Finance, University of Professional Studies, Accra, Ghana\"}]}, {\"first_name\": \"John Kwaku Mensah\", \"last_name\": \"Mawutor\", \"raw_affiliation\": [\"Banking and Finance, University of Professional Studies, Accra, Ghana\"], \"first_name_original\": \"\", \"last_name_original\": \"\", \"raw_affiliation_original\": [], \"initials\": \"\", \"corresponding\": \"\", \"orcid\": [], \"current_organization_id\": \"\", \"researcher_id\": null, \"affiliations\": [{\"id\": \"grid.460786.b\", \"name\": \"University of Professional Studies\", \"city\": \"Accra\", \"city_id\": 2306104, \"country\": \"Ghana\", \"country_code\": \"GH\", \"state\": null, \"state_code\": null, \"raw_affiliation\": \"Banking and Finance, University of Professional Studies, Accra, Ghana\"}]}], \"authors_full\": [\"Isaac Boadi\", \"Ernest Sogah\", \"Erick Kofi Boadi\", \"Freeman Christian Gborse\", \"John Kwaku Mensah Mawutor\"], \"source_title\": \"Cogent Social Sciences\", \"pub_class_id\": \"article\", \"short_abstract\": \"Monetary poverty, characterized by the lack of financial resources necessary to meet basic human needs and participate fully in society, continues to be a pressing issue on a global scale. Despite var\", \"abstract_is_shortened\": true, \"openurl\": null, \"orcid\": {\"api_add_path\": {\"path\": \"/orcid/api/publication/add.json?id=pub.1168539172\"}}, \"altmetric_badge\": {\"value\": \"10.1080/23311886.2024.2307696\", \"id_type\": \"doi\", \"template\": \"dimensions\"}, \"readcube\": {\"doi\": \"10.1080/23311886.2024.2307696\", \"pmid\": null, \"pmc_id\": null, \"arxiv\": null, \"oa-url\": \"http://dx.doi.org/10.1080/23311886.2024.2307696\", \"libkey\": null, \"entityid\": null}, \"navigation\": {\"path\": \"/details/publication/pub.1168539172\", \"abstract_json\": \"/details/sources/publication/pub.1168539172/abstract.json\"}}, {\"title\": \"The Effectiveness of Two Hydroponically Fodder Production of Alfalfa (Medicago sativa L.) as Compared to Open Field System in Mount Lebanon\", \"affiliations_json\": \"[{\\\"first_name\\\": \\\"Edouard\\\", \\\"last_name\\\": \\\"Tabet\\\", \\\"raw_affiliation\\\": [], \\\"first_name_original\\\": \\\"\\\", \\\"last_name_original\\\": \\\"\\\", \\\"raw_affiliation_original\\\": [], \\\"initials\\\": \\\"\\\", \\\"corresponding\\\": \\\"\\\", \\\"orcid\\\": null, \\\"current_organization_id\\\": null, \\\"researcher_id\\\": \\\"ur.0714724515.67\\\", \\\"affiliations\\\": []}, {\\\"first_name\\\": \\\"Carole\\\", \\\"last_name\\\": \\\"Nachar\\\", \\\"raw_affiliation\\\": [], \\\"first_name_original\\\": \\\"\\\", \\\"last_name_original\\\": \\\"\\\", \\\"raw_affiliation_original\\\": [], \\\"initials\\\": \\\"\\\", \\\"corresponding\\\": \\\"\\\", \\\"orcid\\\": [], \\\"current_organization_id\\\": \\\"\\\", \\\"researcher_id\\\": null, \\\"affiliations\\\": []}, {\\\"first_name\\\": \\\"Khaled EL\\\", \\\"last_name\\\": \\\"Omari\\\", \\\"raw_affiliation\\\": [], \\\"first_name_original\\\": \\\"\\\", \\\"last_name_original\\\": \\\"\\\", \\\"raw_affiliation_original\\\": [], \\\"initials\\\": \\\"\\\", \\\"corresponding\\\": \\\"\\\", \\\"orcid\\\": null, \\\"current_organization_id\\\": \\\"grid.411324.1\\\", \\\"researcher_id\\\": \\\"ur.07664512227.23\\\", \\\"affiliations\\\": []}, {\\\"first_name\\\": \\\"Chadi\\\", \\\"last_name\\\": \\\"Hosri\\\", \\\"raw_affiliation\\\": [], \\\"first_name_original\\\": \\\"\\\", \\\"last_name_original\\\": \\\"\\\", \\\"raw_affiliation_original\\\": [], \\\"initials\\\": \\\"\\\", \\\"corresponding\\\": \\\"\\\", \\\"orcid\\\": [\\\"0000-0001-6015-5395\\\"], \\\"current_organization_id\\\": \\\"grid.411324.1\\\", \\\"researcher_id\\\": \\\"ur.010277227277.85\\\", \\\"affiliations\\\": []}, {\\\"first_name\\\": \\\"Suzy\\\", \\\"last_name\\\": \\\"Rouphael\\\", \\\"raw_affiliation\\\": [], \\\"first_name_original\\\": \\\"\\\", \\\"last_name_original\\\": \\\"\\\", \\\"raw_affiliation_original\\\": [], \\\"initials\\\": \\\"\\\", \\\"corresponding\\\": \\\"\\\", \\\"orcid\\\": [], \\\"current_organization_id\\\": \\\"\\\", \\\"researcher_id\\\": null, \\\"affiliations\\\": []}, {\\\"first_name\\\": \\\"Dalida\\\", \\\"last_name\\\": \\\"Darazy\\\", \\\"raw_affiliation\\\": [], \\\"first_name_original\\\": \\\"\\\", \\\"last_name_original\\\": \\\"\\\", \\\"raw_affiliation_original\\\": [], \\\"initials\\\": \\\"\\\", \\\"corresponding\\\": \\\"\\\", \\\"orcid\\\": null, \\\"current_organization_id\\\": \\\"grid.411324.1\\\", \\\"researcher_id\\\": \\\"ur.015360130623.35\\\", \\\"affiliations\\\": []}]\", \"author_list\": \"Edouard Tabet, Carole Nachar, Khaled EL Omari, Chadi Hosri, Suzy Rouphael, Dalida Darazy\", \"units_of_assessment\": [\"30012\"], \"researcher_dim_id\": [\"ur.0714724515.67\", \"ur.07664512227.23\", \"ur.010277227277.85\", \"ur.015360130623.35\"], \"issn\": [\"0103-9016\", \"1678-992X\", \"2690-5396\", \"2690-4799\"], \"source_title_id\": \"jour.1035051\", \"journal_title\": \"Scientia Agricola\", \"for_2020_2022\": [\"80025\", \"80001\", \"80027\"], \"language\": \"en\", \"abstract_language\": \"en\", \"linkout_oa\": \"http://dx.doi.org/10.30560/as.v5n2p8\", \"publisher_source\": \"Ideas Spread\", \"publisher_place\": \"New York, NY, United States\", \"publisher\": \"Ideas Spread\", \"pub_class\": \"Article\", \"journal_title_original\": \"Agricultural Science\", \"citation_string_year\": 2024, \"created_in_dimensions\": \"2024-01-11T23:40:44Z\", \"doi\": \"10.30560/as.v5n2p8\", \"id\": \"pub.1167809184\", \"issue\": \"2\", \"online_pub_date\": \"2024-12-31\", \"pages\": \"p8\", \"pub_date\": \"2024-12-31\", \"pub_year\": 2024, \"volume\": \"5\", \"times_cited\": 0, \"score\": 1.0, \"affiliations_details\": [{\"first_name\": \"Edouard\", \"last_name\": \"Tabet\", \"raw_affiliation\": [], \"first_name_original\": \"\", \"last_name_original\": \"\", \"raw_affiliation_original\": [], \"initials\": \"\", \"corresponding\": \"\", \"orcid\": null, \"current_organization_id\": null, \"researcher_id\": \"ur.0714724515.67\", \"affiliations\": []}, {\"first_name\": \"Carole\", \"last_name\": \"Nachar\", \"raw_affiliation\": [], \"first_name_original\": \"\", \"last_name_original\": \"\", \"raw_affiliation_original\": [], \"initials\": \"\", \"corresponding\": \"\", \"orcid\": [], \"current_organization_id\": \"\", \"researcher_id\": null, \"affiliations\": []}, {\"first_name\": \"Khaled EL\", \"last_name\": \"Omari\", \"raw_affiliation\": [], \"first_name_original\": \"\", \"last_name_original\": \"\", \"raw_affiliation_original\": [], \"initials\": \"\", \"corresponding\": \"\", \"orcid\": null, \"current_organization_id\": \"grid.411324.1\", \"researcher_id\": \"ur.07664512227.23\", \"affiliations\": []}, {\"first_name\": \"Chadi\", \"last_name\": \"Hosri\", \"raw_affiliation\": [], \"first_name_original\": \"\", \"last_name_original\": \"\", \"raw_affiliation_original\": [], \"initials\": \"\", \"corresponding\": \"\", \"orcid\": [\"0000-0001-6015-5395\"], \"current_organization_id\": \"grid.411324.1\", \"researcher_id\": \"ur.010277227277.85\", \"affiliations\": []}, {\"first_name\": \"Suzy\", \"last_name\": \"Rouphael\", \"raw_affiliation\": [], \"first_name_original\": \"\", \"last_name_original\": \"\", \"raw_affiliation_original\": [], \"initials\": \"\", \"corresponding\": \"\", \"orcid\": [], \"current_organization_id\": \"\", \"researcher_id\": null, \"affiliations\": []}, {\"first_name\": \"Dalida\", \"last_name\": \"Darazy\", \"raw_affiliation\": [], \"first_name_original\": \"\", \"last_name_original\": \"\", \"raw_affiliation_original\": [], \"initials\": \"\", \"corresponding\": \"\", \"orcid\": null, \"current_organization_id\": \"grid.411324.1\", \"researcher_id\": \"ur.015360130623.35\", \"affiliations\": []}], \"authors_full\": [\"Edouard Tabet\", \"Carole Nachar\", \"Khaled EL Omari\", \"Chadi Hosri\", \"Suzy Rouphael\", \"Dalida Darazy\"], \"source_title\": \"Scientia Agricola\", \"pub_class_id\": \"article\", \"short_abstract\": \"This work aims to study the effect on the productivity and quality variation of alfalfa using the two different fertilization recipes: F1 and F2 along with two different cultivation method in soilless\", \"abstract_is_shortened\": true, \"openurl\": null, \"orcid\": {\"api_add_path\": {\"path\": \"/orcid/api/publication/add.json?id=pub.1167809184\"}}, \"altmetric_badge\": {\"value\": \"10.30560/as.v5n2p8\", \"id_type\": \"doi\", \"template\": \"dimensions\"}, \"readcube\": {\"doi\": \"10.30560/as.v5n2p8\", \"pmid\": null, \"pmc_id\": null, \"arxiv\": null, \"oa-url\": \"http://dx.doi.org/10.30560/as.v5n2p8\", \"libkey\": null, \"entityid\": null}, \"navigation\": {\"path\": \"/details/publication/pub.1167809184\", \"abstract_json\": \"/details/sources/publication/pub.1167809184/abstract.json\"}}, {\"title\": \"The dynamics between soil erosion, nutrient variability, land use, topography, and implications for food security in Southern Ethiopia\", \"affiliations_json\": \"[{\\\"first_name\\\": \\\"Zewde Sufara\\\", \\\"last_name\\\": \\\"Yagaso\\\", \\\"raw_affiliation\\\": [\\\"Department of Geography and Environmental Studies, College of Social Science and Humanities, Arba Minch University, Arba Minch, Ethiopia\\\"], \\\"first_name_original\\\": \\\"\\\", \\\"last_name_original\\\": \\\"\\\", \\\"raw_affiliation_original\\\": [], \\\"initials\\\": \\\"\\\", \\\"corresponding\\\": true, \\\"orcid\\\": [], \\\"current_organization_id\\\": \\\"\\\", \\\"researcher_id\\\": null, \\\"affiliations\\\": [{\\\"id\\\": \\\"grid.442844.a\\\", \\\"name\\\": \\\"Arba Minch University\\\", \\\"city\\\": \\\"Arba Minch\\\", \\\"city_id\\\": 343663, \\\"country\\\": \\\"Ethiopia\\\", \\\"country_code\\\": \\\"ET\\\", \\\"state\\\": null, \\\"state_code\\\": null, \\\"raw_affiliation\\\": \\\"Department of Geography and Environmental Studies, College of Social Science and Humanities, Arba Minch University, Arba Minch, Ethiopia\\\"}]}, {\\\"first_name\\\": \\\"Teshome Yirgu\\\", \\\"last_name\\\": \\\"Bayu\\\", \\\"raw_affiliation\\\": [\\\"Department of Geography and Environmental Studies, College of Social Science and Humanities, Arba Minch University, Arba Minch, Ethiopia\\\"], \\\"first_name_original\\\": \\\"\\\", \\\"last_name_original\\\": \\\"\\\", \\\"raw_affiliation_original\\\": [], \\\"initials\\\": \\\"\\\", \\\"corresponding\\\": \\\"\\\", \\\"orcid\\\": [], \\\"current_organization_id\\\": \\\"\\\", \\\"researcher_id\\\": null, \\\"affiliations\\\": [{\\\"id\\\": \\\"grid.442844.a\\\", \\\"name\\\": \\\"Arba Minch University\\\", \\\"city\\\": \\\"Arba Minch\\\", \\\"city_id\\\": 343663, \\\"country\\\": \\\"Ethiopia\\\", \\\"country_code\\\": \\\"ET\\\", \\\"state\\\": null, \\\"state_code\\\": null, \\\"raw_affiliation\\\": \\\"Department of Geography and Environmental Studies, College of Social Science and Humanities, Arba Minch University, Arba Minch, Ethiopia\\\"}]}, {\\\"first_name\\\": \\\"Mulugeta Debele\\\", \\\"last_name\\\": \\\"Bedane\\\", \\\"raw_affiliation\\\": [\\\"Department of Geography and Environmental Studies, College of Social Science and Humanities, Arba Minch University, Arba Minch, Ethiopia\\\"], \\\"first_name_original\\\": \\\"\\\", \\\"last_name_original\\\": \\\"\\\", \\\"raw_affiliation_original\\\": [], \\\"initials\\\": \\\"\\\", \\\"corresponding\\\": \\\"\\\", \\\"orcid\\\": [], \\\"current_organization_id\\\": \\\"\\\", \\\"researcher_id\\\": null, \\\"affiliations\\\": [{\\\"id\\\": \\\"grid.442844.a\\\", \\\"name\\\": \\\"Arba Minch University\\\", \\\"city\\\": \\\"Arba Minch\\\", \\\"city_id\\\": 343663, \\\"country\\\": \\\"Ethiopia\\\", \\\"country_code\\\": \\\"ET\\\", \\\"state\\\": null, \\\"state_code\\\": null, \\\"raw_affiliation\\\": \\\"Department of Geography and Environmental Studies, College of Social Science and Humanities, Arba Minch University, Arba Minch, Ethiopia\\\"}]}]\", \"author_list\": \"Zewde Sufara Yagaso, Teshome Yirgu Bayu, Mulugeta Debele Bedane\", \"sdg_2021\": [\"40015\", \"40002\"], \"units_of_assessment\": [\"30014\"], \"issn\": [\"2331-1886\"], \"source_title_id\": \"jour.1150849\", \"journal_title\": \"Cogent Social Sciences\", \"for_2020_2022\": [\"80001\", \"80012\", \"80134\"], \"language\": \"en\", \"abstract_language\": \"en\", \"acknowledgements\": \"I am grateful to Wolaita Sodo and Arbaminch Universities for their support in strengthening this work. I owe appreciation to Kindo Koisha and Loma Bosa woreda agricultural officers in the Wolaita and Dawuro zones, respectively, for their help during data collection. I extend my appreciation to the Wolaita Sodo Soil Regional Laboratory for helping us during soil laboratory analysis.\", \"linkout_oa\": \"http://dx.doi.org/10.1080/23311886.2024.2307178\", \"pub_class\": \"Article\", \"cited_dimensions_ids\": [\"pub.1072680236\", \"pub.1051774127\", \"pub.1135588818\", \"pub.1131207170\", \"pub.1135236271\", \"pub.1133063530\", \"pub.1115243691\", \"pub.1029027330\", \"pub.1022561251\", \"pub.1131208680\", \"pub.1151126342\", \"pub.1009182842\", \"pub.1136226731\", \"pub.1156018168\", \"pub.1137248314\", \"pub.1069863542\", \"pub.1149869637\", \"pub.1100907005\", \"pub.1155487333\", \"pub.1142223864\", \"pub.1104195013\", \"pub.1144996258\", \"pub.1160328193\", \"pub.1063383543\", \"pub.1143880202\", \"pub.1072454608\", \"pub.1113886417\", \"pub.1120027963\", \"pub.1010751309\", \"pub.1137456787\", \"pub.1110761508\", \"pub.1141058458\", \"pub.1051288311\", \"pub.1140427427\"], \"aff_city_geonames_ids\": [\"343663\"], \"aff_country_codes\": [\"ET\"], \"aff_org_id\": [\"grid.442844.a\"], \"citation_string_year\": 2024, \"created_in_dimensions\": \"2024-02-04T20:42:05Z\", \"doi\": \"10.1080/23311886.2024.2307178\", \"id\": \"pub.1168541225\", \"issue\": \"1\", \"pages\": \"2307178\", \"print_pub_date\": \"2024-12-31\", \"pub_date\": \"2024-12-31\", \"pub_year\": 2024, \"volume\": \"10\", \"times_cited\": 0, \"score\": 1.0, \"affiliations_details\": [{\"first_name\": \"Zewde Sufara\", \"last_name\": \"Yagaso\", \"raw_affiliation\": [\"Department of Geography and Environmental Studies, College of Social Science and Humanities, Arba Minch University, Arba Minch, Ethiopia\"], \"first_name_original\": \"\", \"last_name_original\": \"\", \"raw_affiliation_original\": [], \"initials\": \"\", \"corresponding\": true, \"orcid\": [], \"current_organization_id\": \"\", \"researcher_id\": null, \"affiliations\": [{\"id\": \"grid.442844.a\", \"name\": \"Arba Minch University\", \"city\": \"Arba Minch\", \"city_id\": 343663, \"country\": \"Ethiopia\", \"country_code\": \"ET\", \"state\": null, \"state_code\": null, \"raw_affiliation\": \"Department of Geography and Environmental Studies, College of Social Science and Humanities, Arba Minch University, Arba Minch, Ethiopia\"}]}, {\"first_name\": \"Teshome Yirgu\", \"last_name\": \"Bayu\", \"raw_affiliation\": [\"Department of Geography and Environmental Studies, College of Social Science and Humanities, Arba Minch University, Arba Minch, Ethiopia\"], \"first_name_original\": \"\", \"last_name_original\": \"\", \"raw_affiliation_original\": [], \"initials\": \"\", \"corresponding\": \"\", \"orcid\": [], \"current_organization_id\": \"\", \"researcher_id\": null, \"affiliations\": [{\"id\": \"grid.442844.a\", \"name\": \"Arba Minch University\", \"city\": \"Arba Minch\", \"city_id\": 343663, \"country\": \"Ethiopia\", \"country_code\": \"ET\", \"state\": null, \"state_code\": null, \"raw_affiliation\": \"Department of Geography and Environmental Studies, College of Social Science and Humanities, Arba Minch University, Arba Minch, Ethiopia\"}]}, {\"first_name\": \"Mulugeta Debele\", \"last_name\": \"Bedane\", \"raw_affiliation\": [\"Department of Geography and Environmental Studies, College of Social Science and Humanities, Arba Minch University, Arba Minch, Ethiopia\"], \"first_name_original\": \"\", \"last_name_original\": \"\", \"raw_affiliation_original\": [], \"initials\": \"\", \"corresponding\": \"\", \"orcid\": [], \"current_organization_id\": \"\", \"researcher_id\": null, \"affiliations\": [{\"id\": \"grid.442844.a\", \"name\": \"Arba Minch University\", \"city\": \"Arba Minch\", \"city_id\": 343663, \"country\": \"Ethiopia\", \"country_code\": \"ET\", \"state\": null, \"state_code\": null, \"raw_affiliation\": \"Department of Geography and Environmental Studies, College of Social Science and Humanities, Arba Minch University, Arba Minch, Ethiopia\"}]}], \"authors_full\": [\"Zewde Sufara Yagaso\", \"Teshome Yirgu Bayu\", \"Mulugeta Debele Bedane\"], \"source_title\": \"Cogent Social Sciences\", \"pub_class_id\": \"article\", \"short_abstract\": \"Understanding the complex interplay between soil erosion, nutrient variability, land use and topography is crucial for sustainable agriculture. However, attempts to link these environmental factors wi\", \"abstract_is_shortened\": true, \"openurl\": null, \"orcid\": {\"api_add_path\": {\"path\": \"/orcid/api/publication/add.json?id=pub.1168541225\"}}, \"altmetric_badge\": {\"value\": \"10.1080/23311886.2024.2307178\", \"id_type\": \"doi\", \"template\": \"dimensions\"}, \"readcube\": {\"doi\": \"10.1080/23311886.2024.2307178\", \"pmid\": null, \"pmc_id\": null, \"arxiv\": null, \"oa-url\": \"http://dx.doi.org/10.1080/23311886.2024.2307178\", \"libkey\": null, \"entityid\": null}, \"navigation\": {\"path\": \"/details/publication/pub.1168541225\", \"abstract_json\": \"/details/sources/publication/pub.1168541225/abstract.json\"}}, {\"title\": \"Taste Disorder and Tongue Numbness After Lithium Overdose.\", \"affiliations_json\": \"[{\\\"first_name\\\": \\\"Si-Yu\\\", \\\"last_name\\\": \\\"Chu\\\", \\\"raw_affiliation\\\": [\\\"School of Medicine, Chung Shan Medical University, Taichung, Taiwan; Chang Gung Memorial Hospital at Linkou, Taoyuan, Taiwan.\\\"], \\\"first_name_original\\\": \\\"\\\", \\\"last_name_original\\\": \\\"\\\", \\\"raw_affiliation_original\\\": [], \\\"initials\\\": \\\"\\\", \\\"corresponding\\\": \\\"\\\", \\\"orcid\\\": [], \\\"current_organization_id\\\": \\\"\\\", \\\"researcher_id\\\": null, \\\"affiliations\\\": [{\\\"id\\\": \\\"grid.411641.7\\\", \\\"name\\\": \\\"Chung Shan Medical University\\\", \\\"city\\\": \\\"Taichung\\\", \\\"city_id\\\": 1668399, \\\"country\\\": \\\"Taiwan\\\", \\\"country_code\\\": \\\"TW\\\", \\\"state\\\": null, \\\"state_code\\\": null, \\\"raw_affiliation\\\": \\\"School of Medicine, Chung Shan Medical University, Taichung, Taiwan; Chang Gung Memorial Hospital at Linkou, Taoyuan, Taiwan.\\\"}, {\\\"id\\\": \\\"grid.454210.6\\\", \\\"name\\\": \\\"Taoyuan Chang Gung Memorial Hospital\\\", \\\"city\\\": \\\"Taoyuan City\\\", \\\"city_id\\\": 6696918, \\\"country\\\": \\\"Taiwan\\\", \\\"country_code\\\": \\\"TW\\\", \\\"state\\\": null, \\\"state_code\\\": null, \\\"raw_affiliation\\\": \\\"School of Medicine, Chung Shan Medical University, Taichung, Taiwan; Chang Gung Memorial Hospital at Linkou, Taoyuan, Taiwan.\\\"}]}, {\\\"first_name\\\": \\\"Huang-Chi\\\", \\\"last_name\\\": \\\"Wang\\\", \\\"raw_affiliation\\\": [\\\"Department of Psychiatry, Chung Shan Medical University Hospital, Taichung, Taiwan.\\\"], \\\"first_name_original\\\": \\\"\\\", \\\"last_name_original\\\": \\\"\\\", \\\"raw_affiliation_original\\\": [], \\\"initials\\\": \\\"\\\", \\\"corresponding\\\": \\\"\\\", \\\"orcid\\\": [], \\\"current_organization_id\\\": \\\"\\\", \\\"researcher_id\\\": null, \\\"affiliations\\\": [{\\\"id\\\": \\\"grid.411645.3\\\", \\\"name\\\": \\\"Chung Shan Medical University Hospital\\\", \\\"city\\\": \\\"Taichung\\\", \\\"city_id\\\": 1668399, \\\"country\\\": \\\"Taiwan\\\", \\\"country_code\\\": \\\"TW\\\", \\\"state\\\": null, \\\"state_code\\\": null, \\\"raw_affiliation\\\": \\\"Department of Psychiatry, Chung Shan Medical University Hospital, Taichung, Taiwan.\\\"}]}, {\\\"first_name\\\": \\\"Ming-Hong\\\", \\\"last_name\\\": \\\"Hsieh\\\", \\\"raw_affiliation\\\": [\\\"School of Medicine, Chung Shan Medical University, Taichung, Taiwan; Department of Psychiatry, Chung Shan Medical University Hospital, Taichung, Taiwan.\\\"], \\\"first_name_original\\\": \\\"\\\", \\\"last_name_original\\\": \\\"\\\", \\\"raw_affiliation_original\\\": [], \\\"initials\\\": \\\"\\\", \\\"corresponding\\\": \\\"\\\", \\\"orcid\\\": [\\\"0000-0002-3128-8110\\\"], \\\"current_organization_id\\\": \\\"grid.411641.7\\\", \\\"researcher_id\\\": \\\"ur.01352672125.44\\\", \\\"affiliations\\\": [{\\\"id\\\": \\\"grid.411641.7\\\", \\\"name\\\": \\\"Chung Shan Medical University\\\", \\\"city\\\": \\\"Taichung\\\", \\\"city_id\\\": 1668399, \\\"country\\\": \\\"Taiwan\\\", \\\"country_code\\\": \\\"TW\\\", \\\"state\\\": null, \\\"state_code\\\": null, \\\"raw_affiliation\\\": \\\"School of Medicine, Chung Shan Medical University, Taichung, Taiwan; Department of Psychiatry, Chung Shan Medical University Hospital, Taichung, Taiwan.\\\"}, {\\\"id\\\": \\\"grid.411645.3\\\", \\\"name\\\": \\\"Chung Shan Medical University Hospital\\\", \\\"city\\\": \\\"Taichung\\\", \\\"city_id\\\": 1668399, \\\"country\\\": \\\"Taiwan\\\", \\\"country_code\\\": \\\"TW\\\", \\\"state\\\": null, \\\"state_code\\\": null, \\\"raw_affiliation\\\": \\\"School of Medicine, Chung Shan Medical University, Taichung, Taiwan; Department of Psychiatry, Chung Shan Medical University Hospital, Taichung, Taiwan.\\\"}]}, {\\\"first_name\\\": \\\"Cheng-Chen\\\", \\\"last_name\\\": \\\"Chang\\\", \\\"raw_affiliation\\\": [\\\"School of Medicine, Chung Shan Medical University, Taichung, Taiwan; Department of Psychiatry, Chung Shan Medical University Hospital, Taichung, Taiwan.\\\"], \\\"first_name_original\\\": \\\"\\\", \\\"last_name_original\\\": \\\"\\\", \\\"raw_affiliation_original\\\": [], \\\"initials\\\": \\\"\\\", \\\"corresponding\\\": \\\"\\\", \\\"orcid\\\": null, \\\"current_organization_id\\\": \\\"grid.411641.7\\\", \\\"researcher_id\\\": \\\"ur.01356641267.10\\\", \\\"affiliations\\\": [{\\\"id\\\": \\\"grid.411641.7\\\", \\\"name\\\": \\\"Chung Shan Medical University\\\", \\\"city\\\": \\\"Taichung\\\", \\\"city_id\\\": 1668399, \\\"country\\\": \\\"Taiwan\\\", \\\"country_code\\\": \\\"TW\\\", \\\"state\\\": null, \\\"state_code\\\": null, \\\"raw_affiliation\\\": \\\"School of Medicine, Chung Shan Medical University, Taichung, Taiwan; Department of Psychiatry, Chung Shan Medical University Hospital, Taichung, Taiwan.\\\"}, {\\\"id\\\": \\\"grid.411645.3\\\", \\\"name\\\": \\\"Chung Shan Medical University Hospital\\\", \\\"city\\\": \\\"Taichung\\\", \\\"city_id\\\": 1668399, \\\"country\\\": \\\"Taiwan\\\", \\\"country_code\\\": \\\"TW\\\", \\\"state\\\": null, \\\"state_code\\\": null, \\\"raw_affiliation\\\": \\\"School of Medicine, Chung Shan Medical University, Taichung, Taiwan; Department of Psychiatry, Chung Shan Medical University Hospital, Taichung, Taiwan.\\\"}]}]\", \"author_list\": \"Si-Yu Chu, Huang-Chi Wang, Ming-Hong Hsieh, Cheng-Chen Chang\", \"bra_2020\": [\"4001\"], \"hrcs_hc_2020\": [\"905\"], \"health_research_areas\": [\"3901\"], \"rcdc\": [\"380\", \"507\", \"388\", \"436\", \"387\"], \"units_of_assessment\": [\"30004\"], \"researcher_dim_id\": [\"ur.01352672125.44\", \"ur.01356641267.10\"], \"issn\": [\"1028-768X\"], \"source_title_id\": \"jour.1119177\", \"journal_title\": \"Acta neurologica Taiwanica\", \"for_2020_2022\": [\"80232\", \"80057\", \"80003\", \"80023\"], \"language\": \"en\", \"abstract_language\": \"en\", \"pub_class\": \"Article\", \"aff_city_geonames_ids\": [\"6696918\", \"1668399\"], \"aff_country_codes\": [\"TW\"], \"aff_org_id\": [\"grid.411641.7\", \"grid.454210.6\", \"grid.411645.3\"], \"citation_string_year\": 2024, \"created_in_dimensions\": \"2023-12-01T22:05:29Z\", \"id\": \"pub.1166492270\", \"mesh_terms\": [\"Humans\", \"Female\", \"Adult\", \"Lithium\", \"Hypesthesia\", \"Quality of Life\", \"Taste Disorders\", \"Dysgeusia\", \"Tongue\"], \"pages\": \"185-187\", \"pmid\": \"38030229\", \"print_pub_date\": \"2024-12-30\", \"pub_date\": \"2024-12-30\", \"pub_year\": 2024, \"volume\": \"33(4)\", \"times_cited\": 0, \"score\": 5.0, \"affiliations_details\": [{\"first_name\": \"Si-Yu\", \"last_name\": \"Chu\", \"raw_affiliation\": [\"School of Medicine, Chung Shan Medical University, Taichung, Taiwan; Chang Gung Memorial Hospital at Linkou, Taoyuan, Taiwan.\"], \"first_name_original\": \"\", \"last_name_original\": \"\", \"raw_affiliation_original\": [], \"initials\": \"\", \"corresponding\": \"\", \"orcid\": [], \"current_organization_id\": \"\", \"researcher_id\": null, \"affiliations\": [{\"id\": \"grid.411641.7\", \"name\": \"Chung Shan Medical University\", \"city\": \"Taichung\", \"city_id\": 1668399, \"country\": \"Taiwan\", \"country_code\": \"TW\", \"state\": null, \"state_code\": null, \"raw_affiliation\": \"School of Medicine, Chung Shan Medical University, Taichung, Taiwan; Chang Gung Memorial Hospital at Linkou, Taoyuan, Taiwan.\"}, {\"id\": \"grid.454210.6\", \"name\": \"Taoyuan Chang Gung Memorial Hospital\", \"city\": \"Taoyuan City\", \"city_id\": 6696918, \"country\": \"Taiwan\", \"country_code\": \"TW\", \"state\": null, \"state_code\": null, \"raw_affiliation\": \"School of Medicine, Chung Shan Medical University, Taichung, Taiwan; Chang Gung Memorial Hospital at Linkou, Taoyuan, Taiwan.\"}]}, {\"first_name\": \"Huang-Chi\", \"last_name\": \"Wang\", \"raw_affiliation\": [\"Department of Psychiatry, Chung Shan Medical University Hospital, Taichung, Taiwan.\"], \"first_name_original\": \"\", \"last_name_original\": \"\", \"raw_affiliation_original\": [], \"initials\": \"\", \"corresponding\": \"\", \"orcid\": [], \"current_organization_id\": \"\", \"researcher_id\": null, \"affiliations\": [{\"id\": \"grid.411645.3\", \"name\": \"Chung Shan Medical University Hospital\", \"city\": \"Taichung\", \"city_id\": 1668399, \"country\": \"Taiwan\", \"country_code\": \"TW\", \"state\": null, \"state_code\": null, \"raw_affiliation\": \"Department of Psychiatry, Chung Shan Medical University Hospital, Taichung, Taiwan.\"}]}, {\"first_name\": \"Ming-Hong\", \"last_name\": \"Hsieh\", \"raw_affiliation\": [\"School of Medicine, Chung Shan Medical University, Taichung, Taiwan; Department of Psychiatry, Chung Shan Medical University Hospital, Taichung, Taiwan.\"], \"first_name_original\": \"\", \"last_name_original\": \"\", \"raw_affiliation_original\": [], \"initials\": \"\", \"corresponding\": \"\", \"orcid\": [\"0000-0002-3128-8110\"], \"current_organization_id\": \"grid.411641.7\", \"researcher_id\": \"ur.01352672125.44\", \"affiliations\": [{\"id\": \"grid.411641.7\", \"name\": \"Chung Shan Medical University\", \"city\": \"Taichung\", \"city_id\": 1668399, \"country\": \"Taiwan\", \"country_code\": \"TW\", \"state\": null, \"state_code\": null, \"raw_affiliation\": \"School of Medicine, Chung Shan Medical University, Taichung, Taiwan; Department of Psychiatry, Chung Shan Medical University Hospital, Taichung, Taiwan.\"}, {\"id\": \"grid.411645.3\", \"name\": \"Chung Shan Medical University Hospital\", \"city\": \"Taichung\", \"city_id\": 1668399, \"country\": \"Taiwan\", \"country_code\": \"TW\", \"state\": null, \"state_code\": null, \"raw_affiliation\": \"School of Medicine, Chung Shan Medical University, Taichung, Taiwan; Department of Psychiatry, Chung Shan Medical University Hospital, Taichung, Taiwan.\"}]}, {\"first_name\": \"Cheng-Chen\", \"last_name\": \"Chang\", \"raw_affiliation\": [\"School of Medicine, Chung Shan Medical University, Taichung, Taiwan; Department of Psychiatry, Chung Shan Medical University Hospital, Taichung, Taiwan.\"], \"first_name_original\": \"\", \"last_name_original\": \"\", \"raw_affiliation_original\": [], \"initials\": \"\", \"corresponding\": \"\", \"orcid\": null, \"current_organization_id\": \"grid.411641.7\", \"researcher_id\": \"ur.01356641267.10\", \"affiliations\": [{\"id\": \"grid.411641.7\", \"name\": \"Chung Shan Medical University\", \"city\": \"Taichung\", \"city_id\": 1668399, \"country\": \"Taiwan\", \"country_code\": \"TW\", \"state\": null, \"state_code\": null, \"raw_affiliation\": \"School of Medicine, Chung Shan Medical University, Taichung, Taiwan; Department of Psychiatry, Chung Shan Medical University Hospital, Taichung, Taiwan.\"}, {\"id\": \"grid.411645.3\", \"name\": \"Chung Shan Medical University Hospital\", \"city\": \"Taichung\", \"city_id\": 1668399, \"country\": \"Taiwan\", \"country_code\": \"TW\", \"state\": null, \"state_code\": null, \"raw_affiliation\": \"School of Medicine, Chung Shan Medical University, Taichung, Taiwan; Department of Psychiatry, Chung Shan Medical University Hospital, Taichung, Taiwan.\"}]}], \"authors_full\": [\"Si-Yu Chu\", \"Huang-Chi Wang\", \"Ming-Hong Hsieh\", \"Cheng-Chen Chang\"], \"source_title\": \"Acta neurologica Taiwanica\", \"pub_class_id\": \"article\", \"short_abstract\": \"PURPOSE: Drug-induced taste disturbances are prevalent in clinical practice, with dysgeusia being a frequent manifestation. This study aims to present a case of taste disorders and tongue numbness ind\", \"abstract_is_shortened\": true, \"openurl\": null, \"orcid\": {\"api_add_path\": {\"path\": \"/orcid/api/publication/add.json?id=pub.1166492270\"}}, \"altmetric_badge\": {\"value\": \"38030229\", \"id_type\": \"pmid\", \"template\": \"dimensions\"}, \"readcube\": {\"doi\": null, \"pmid\": \"38030229\", \"pmc_id\": null, \"arxiv\": null, \"oa-url\": null, \"libkey\": null, \"entityid\": null}, \"navigation\": {\"path\": \"/details/publication/pub.1166492270\", \"abstract_json\": \"/details/sources/publication/pub.1166492270/abstract.json\"}}, {\"title\": \"Clinical characteristics and risk factors for seizures to recur in calcified neurocysticercosis : Prospective cohort Study.\", \"affiliations_json\": \"[{\\\"first_name\\\": \\\"Archana\\\", \\\"last_name\\\": \\\"Verma\\\", \\\"raw_affiliation\\\": [\\\"Professor and Head Department of Neurology, All India Institute of Medical Sciences Raebareli Munshiganj, Dalmau Road, Raebareli, India.\\\"], \\\"first_name_original\\\": \\\"\\\", \\\"last_name_original\\\": \\\"\\\", \\\"raw_affiliation_original\\\": [], \\\"initials\\\": \\\"\\\", \\\"corresponding\\\": \\\"\\\", \\\"orcid\\\": null, \\\"current_organization_id\\\": null, \\\"researcher_id\\\": \\\"ur.011542464454.66\\\", \\\"affiliations\\\": [{\\\"name\\\": \\\"Professor and Head Department of Neurology, All India Institute of Medical Sciences Raebareli Munshiganj, Dalmau Road, Raebareli, India.\\\", \\\"id\\\": null, \\\"city\\\": \\\"Raebareli\\\", \\\"city_id\\\": 1259064, \\\"state\\\": \\\"Uttar Pradesh\\\", \\\"state_code\\\": null, \\\"country\\\": \\\"India\\\", \\\"country_code\\\": \\\"IN\\\", \\\"raw_affiliation\\\": \\\"Professor and Head Department of Neurology, All India Institute of Medical Sciences Raebareli Munshiganj, Dalmau Road, Raebareli, India.\\\"}]}, {\\\"first_name\\\": \\\"Alok\\\", \\\"last_name\\\": \\\"Kumar\\\", \\\"raw_affiliation\\\": [\\\"Professor and Head, Forensic Medicine and Toxicology, UP university of Medical Sciences, Saifai, Etawah, India.\\\"], \\\"first_name_original\\\": \\\"\\\", \\\"last_name_original\\\": \\\"\\\", \\\"raw_affiliation_original\\\": [], \\\"initials\\\": \\\"\\\", \\\"corresponding\\\": \\\"\\\", \\\"orcid\\\": null, \\\"current_organization_id\\\": null, \\\"researcher_id\\\": \\\"ur.012340045054.60\\\", \\\"affiliations\\\": [{\\\"name\\\": \\\"Professor and Head, Forensic Medicine and Toxicology, UP university of Medical Sciences, Saifai, Etawah, India.\\\", \\\"id\\\": null, \\\"city\\\": null, \\\"city_id\\\": null, \\\"state\\\": null, \\\"state_code\\\": null, \\\"country\\\": \\\"India\\\", \\\"country_code\\\": \\\"IN\\\", \\\"raw_affiliation\\\": \\\"Professor and Head, Forensic Medicine and Toxicology, UP university of Medical Sciences, Saifai, Etawah, India.\\\"}]}, {\\\"first_name\\\": \\\"Divyata\\\", \\\"last_name\\\": \\\"Sachan\\\", \\\"raw_affiliation\\\": [\\\"Assistant professor, Department of community medicine SMMH Medical Sciences, Saharanpur, India.\\\"], \\\"first_name_original\\\": \\\"\\\", \\\"last_name_original\\\": \\\"\\\", \\\"raw_affiliation_original\\\": [], \\\"initials\\\": \\\"\\\", \\\"corresponding\\\": \\\"\\\", \\\"orcid\\\": [\\\"0000-0001-9089-9635\\\"], \\\"current_organization_id\\\": null, \\\"researcher_id\\\": \\\"ur.013241273116.15\\\", \\\"affiliations\\\": [{\\\"name\\\": \\\"Assistant professor, Department of community medicine SMMH Medical Sciences, Saharanpur, India.\\\", \\\"id\\\": null, \\\"city\\\": \\\"Saharanpur\\\", \\\"city_id\\\": 1257806, \\\"state\\\": \\\"Uttar Pradesh\\\", \\\"state_code\\\": null, \\\"country\\\": \\\"India\\\", \\\"country_code\\\": \\\"IN\\\", \\\"raw_affiliation\\\": \\\"Assistant professor, Department of community medicine SMMH Medical Sciences, Saharanpur, India.\\\"}]}]\", \"author_list\": \"Archana Verma, Alok Kumar, Divyata Sachan\", \"bra_2020\": [\"4001\"], \"rcdc\": [\"352\", \"387\", \"501\", \"558\", \"542\", \"507\"], \"units_of_assessment\": [\"30001\"], \"researcher_dim_id\": [\"ur.011542464454.66\", \"ur.012340045054.60\", \"ur.013241273116.15\"], \"issn\": [\"1028-768X\"], \"source_title_id\": \"jour.1119177\", \"journal_title\": \"Acta neurologica Taiwanica\", \"for_2020_2022\": [\"80003\", \"80045\"], \"language\": \"en\", \"abstract_language\": \"en\", \"pub_class\": \"Article\", \"aff_city_geonames_ids\": [\"1259064\", \"1257806\"], \"aff_country_codes\": [\"IN\"], \"citation_string_year\": 2024, \"created_in_dimensions\": \"2023-12-01T22:05:29Z\", \"id\": \"pub.1166492268\", \"mesh_terms\": [\"Adult\", \"Humans\", \"Adolescent\", \"Young Adult\", \"Neurocysticercosis\", \"Prospective Studies\", \"Edema\", \"Epilepsy, Generalized\", \"Risk Factors\", \"Epilepsy, Reflex\", \"Brain Damage, Chronic\", \"Seizures\"], \"pages\": \"153-160\", \"pmid\": \"38030224\", \"print_pub_date\": \"2024-12-30\", \"pub_date\": \"2024-12-30\", \"pub_year\": 2024, \"volume\": \"33(4)\", \"times_cited\": 0, \"score\": 5.0, \"affiliations_details\": [{\"first_name\": \"Archana\", \"last_name\": \"Verma\", \"raw_affiliation\": [\"Professor and Head Department of Neurology, All India Institute of Medical Sciences Raebareli Munshiganj, Dalmau Road, Raebareli, India.\"], \"first_name_original\": \"\", \"last_name_original\": \"\", \"raw_affiliation_original\": [], \"initials\": \"\", \"corresponding\": \"\", \"orcid\": null, \"current_organization_id\": null, \"researcher_id\": \"ur.011542464454.66\", \"affiliations\": [{\"name\": \"Professor and Head Department of Neurology, All India Institute of Medical Sciences Raebareli Munshiganj, Dalmau Road, Raebareli, India.\", \"id\": null, \"city\": \"Raebareli\", \"city_id\": 1259064, \"state\": \"Uttar Pradesh\", \"state_code\": null, \"country\": \"India\", \"country_code\": \"IN\", \"raw_affiliation\": \"Professor and Head Department of Neurology, All India Institute of Medical Sciences Raebareli Munshiganj, Dalmau Road, Raebareli, India.\"}]}, {\"first_name\": \"Alok\", \"last_name\": \"Kumar\", \"raw_affiliation\": [\"Professor and Head, Forensic Medicine and Toxicology, UP university of Medical Sciences, Saifai, Etawah, India.\"], \"first_name_original\": \"\", \"last_name_original\": \"\", \"raw_affiliation_original\": [], \"initials\": \"\", \"corresponding\": \"\", \"orcid\": null, \"current_organization_id\": null, \"researcher_id\": \"ur.012340045054.60\", \"affiliations\": [{\"name\": \"Professor and Head, Forensic Medicine and Toxicology, UP university of Medical Sciences, Saifai, Etawah, India.\", \"id\": null, \"city\": null, \"city_id\": null, \"state\": null, \"state_code\": null, \"country\": \"India\", \"country_code\": \"IN\", \"raw_affiliation\": \"Professor and Head, Forensic Medicine and Toxicology, UP university of Medical Sciences, Saifai, Etawah, India.\"}]}, {\"first_name\": \"Divyata\", \"last_name\": \"Sachan\", \"raw_affiliation\": [\"Assistant professor, Department of community medicine SMMH Medical Sciences, Saharanpur, India.\"], \"first_name_original\": \"\", \"last_name_original\": \"\", \"raw_affiliation_original\": [], \"initials\": \"\", \"corresponding\": \"\", \"orcid\": [\"0000-0001-9089-9635\"], \"current_organization_id\": null, \"researcher_id\": \"ur.013241273116.15\", \"affiliations\": [{\"name\": \"Assistant professor, Department of community medicine SMMH Medical Sciences, Saharanpur, India.\", \"id\": null, \"city\": \"Saharanpur\", \"city_id\": 1257806, \"state\": \"Uttar Pradesh\", \"state_code\": null, \"country\": \"India\", \"country_code\": \"IN\", \"raw_affiliation\": \"Assistant professor, Department of community medicine SMMH Medical Sciences, Saharanpur, India.\"}]}], \"authors_full\": [\"Archana Verma\", \"Alok Kumar\", \"Divyata Sachan\"], \"source_title\": \"Acta neurologica Taiwanica\", \"pub_class_id\": \"article\", \"short_abstract\": \"AIM: Calcification of degenerating neurocysticercosis (NCC) is common and likely to occur late in the degenerative process and is important for seizure foci. The present study was aimed at identifying\", \"abstract_is_shortened\": true, \"openurl\": null, \"orcid\": {\"api_add_path\": {\"path\": \"/orcid/api/publication/add.json?id=pub.1166492268\"}}, \"altmetric_badge\": {\"value\": \"38030224\", \"id_type\": \"pmid\", \"template\": \"dimensions\"}, \"readcube\": {\"doi\": null, \"pmid\": \"38030224\", \"pmc_id\": null, \"arxiv\": null, \"oa-url\": null, \"libkey\": null, \"entityid\": null}, \"navigation\": {\"path\": \"/details/publication/pub.1166492268\", \"abstract_json\": \"/details/sources/publication/pub.1166492268/abstract.json\"}}, {\"title\": \"Assessing the quantity of neuropeptide Y in the serum of patients referred to Baqiyatallah Hospital with covid-19 concerning inflammatory factors following steroid therapy.\", \"affiliations_json\": \"[{\\\"first_name\\\": \\\"Navid\\\", \\\"last_name\\\": \\\"Mousavi\\\", \\\"raw_affiliation\\\": [\\\"Neuroscience Research Center, Baqiyatallah University of Medical Sciences, Tehran, Iran.\\\"], \\\"first_name_original\\\": \\\"\\\", \\\"last_name_original\\\": \\\"\\\", \\\"raw_affiliation_original\\\": [], \\\"initials\\\": \\\"\\\", \\\"corresponding\\\": \\\"\\\", \\\"orcid\\\": [], \\\"current_organization_id\\\": \\\"\\\", \\\"researcher_id\\\": null, \\\"affiliations\\\": [{\\\"id\\\": \\\"grid.411521.2\\\", \\\"name\\\": \\\"Baqiyatallah University of Medical Sciences\\\", \\\"city\\\": \\\"Tehran\\\", \\\"city_id\\\": 112931, \\\"country\\\": \\\"Iran\\\", \\\"country_code\\\": \\\"IR\\\", \\\"state\\\": null, \\\"state_code\\\": null, \\\"raw_affiliation\\\": \\\"Neuroscience Research Center, Baqiyatallah University of Medical Sciences, Tehran, Iran.\\\"}]}, {\\\"first_name\\\": \\\"Zeynab\\\", \\\"last_name\\\": \\\"Shankayi\\\", \\\"raw_affiliation\\\": [\\\"Neuroscience Research Center, Baqiyatallah University of Medical Sciences, Tehran, Iran; Department of Physiology and Medical Physics, School of Medicine, Baqiyatallah University of Medical Sciences, Tehran, Iran.\\\"], \\\"first_name_original\\\": \\\"\\\", \\\"last_name_original\\\": \\\"\\\", \\\"raw_affiliation_original\\\": [], \\\"initials\\\": \\\"\\\", \\\"corresponding\\\": \\\"\\\", \\\"orcid\\\": [], \\\"current_organization_id\\\": \\\"\\\", \\\"researcher_id\\\": null, \\\"affiliations\\\": [{\\\"id\\\": \\\"grid.411521.2\\\", \\\"name\\\": \\\"Baqiyatallah University of Medical Sciences\\\", \\\"city\\\": \\\"Tehran\\\", \\\"city_id\\\": 112931, \\\"country\\\": \\\"Iran\\\", \\\"country_code\\\": \\\"IR\\\", \\\"state\\\": null, \\\"state_code\\\": null, \\\"raw_affiliation\\\": \\\"Neuroscience Research Center, Baqiyatallah University of Medical Sciences, Tehran, Iran; Department of Physiology and Medical Physics, School of Medicine, Baqiyatallah University of Medical Sciences, Tehran, Iran.\\\"}]}, {\\\"first_name\\\": \\\"Farideh\\\", \\\"last_name\\\": \\\"Bahrami\\\", \\\"raw_affiliation\\\": [\\\"Neuroscience Research Center, Baqiyatallah University of Medical Sciences, Tehran, Iran; Department of Physiology and Medical Physics, School of Medicine, Baqiyatallah University of Medical Sciences, Tehran, Iran.\\\"], \\\"first_name_original\\\": \\\"\\\", \\\"last_name_original\\\": \\\"\\\", \\\"raw_affiliation_original\\\": [], \\\"initials\\\": \\\"\\\", \\\"corresponding\\\": \\\"\\\", \\\"orcid\\\": null, \\\"current_organization_id\\\": \\\"grid.411521.2\\\", \\\"researcher_id\\\": \\\"ur.01250640634.22\\\", \\\"affiliations\\\": [{\\\"id\\\": \\\"grid.411521.2\\\", \\\"name\\\": \\\"Baqiyatallah University of Medical Sciences\\\", \\\"city\\\": \\\"Tehran\\\", \\\"city_id\\\": 112931, \\\"country\\\": \\\"Iran\\\", \\\"country_code\\\": \\\"IR\\\", \\\"state\\\": null, \\\"state_code\\\": null, \\\"raw_affiliation\\\": \\\"Neuroscience Research Center, Baqiyatallah University of Medical Sciences, Tehran, Iran; Department of Physiology and Medical Physics, School of Medicine, Baqiyatallah University of Medical Sciences, Tehran, Iran.\\\"}]}, {\\\"first_name\\\": \\\"Tahereh\\\", \\\"last_name\\\": \\\"Mohammadzadeh\\\", \\\"raw_affiliation\\\": [\\\"Health Research Center, Lifestyle Institute Baqiyatallah University of Medical Sciences, Tehran, Iran.\\\"], \\\"first_name_original\\\": \\\"\\\", \\\"last_name_original\\\": \\\"\\\", \\\"raw_affiliation_original\\\": [], \\\"initials\\\": \\\"\\\", \\\"corresponding\\\": \\\"\\\", \\\"orcid\\\": null, \\\"current_organization_id\\\": \\\"grid.411521.2\\\", \\\"researcher_id\\\": \\\"ur.01052140505.12\\\", \\\"affiliations\\\": [{\\\"id\\\": \\\"grid.411521.2\\\", \\\"name\\\": \\\"Baqiyatallah University of Medical Sciences\\\", \\\"city\\\": \\\"Tehran\\\", \\\"city_id\\\": 112931, \\\"country\\\": \\\"Iran\\\", \\\"country_code\\\": \\\"IR\\\", \\\"state\\\": null, \\\"state_code\\\": null, \\\"raw_affiliation\\\": \\\"Health Research Center, Lifestyle Institute Baqiyatallah University of Medical Sciences, Tehran, Iran.\\\"}]}, {\\\"first_name\\\": \\\"Gholam Hossein\\\", \\\"last_name\\\": \\\"Alishiri\\\", \\\"raw_affiliation\\\": [\\\"Department of Rheumatology, Faculty of Medicine, Baqiyatallah Hospital Research Development Committee, Baqiyatallah University of Medical Sciences, Tehran, Iran.\\\"], \\\"first_name_original\\\": \\\"\\\", \\\"last_name_original\\\": \\\"\\\", \\\"raw_affiliation_original\\\": [], \\\"initials\\\": \\\"\\\", \\\"corresponding\\\": \\\"\\\", \\\"orcid\\\": [\\\"0000-0002-0545-8462\\\"], \\\"current_organization_id\\\": \\\"grid.411521.2\\\", \\\"researcher_id\\\": \\\"ur.01247210124.28\\\", \\\"affiliations\\\": [{\\\"id\\\": \\\"grid.411521.2\\\", \\\"name\\\": \\\"Baqiyatallah University of Medical Sciences\\\", \\\"city\\\": \\\"Tehran\\\", \\\"city_id\\\": 112931, \\\"country\\\": \\\"Iran\\\", \\\"country_code\\\": \\\"IR\\\", \\\"state\\\": null, \\\"state_code\\\": null, \\\"raw_affiliation\\\": \\\"Department of Rheumatology, Faculty of Medicine, Baqiyatallah Hospital Research Development Committee, Baqiyatallah University of Medical Sciences, Tehran, Iran.\\\"}]}, {\\\"first_name\\\": \\\"Milad Asghardoust\\\", \\\"last_name\\\": \\\"Rezaei\\\", \\\"raw_affiliation\\\": [\\\"Student Research Committee, Baqiyatallah University of Medical Sciences, Tehran, Iran.\\\"], \\\"first_name_original\\\": \\\"\\\", \\\"last_name_original\\\": \\\"\\\", \\\"raw_affiliation_original\\\": [], \\\"initials\\\": \\\"\\\", \\\"corresponding\\\": \\\"\\\", \\\"orcid\\\": null, \\\"current_organization_id\\\": \\\"grid.411521.2\\\", \\\"researcher_id\\\": \\\"ur.010644361402.02\\\", \\\"affiliations\\\": [{\\\"id\\\": \\\"grid.411521.2\\\", \\\"name\\\": \\\"Baqiyatallah University of Medical Sciences\\\", \\\"city\\\": \\\"Tehran\\\", \\\"city_id\\\": 112931, \\\"country\\\": \\\"Iran\\\", \\\"country_code\\\": \\\"IR\\\", \\\"state\\\": null, \\\"state_code\\\": null, \\\"raw_affiliation\\\": \\\"Student Research Committee, Baqiyatallah University of Medical Sciences, Tehran, Iran.\\\"}]}, {\\\"first_name\\\": \\\"Mohsen\\\", \\\"last_name\\\": \\\"Saberi\\\", \\\"raw_affiliation\\\": [\\\"Medicine, Quran and Hadith Research Center and Department of Community Medicine, Faculty of Medicine, Baqiyatallah University of Medical Sciences, Tehran, Iran.\\\"], \\\"first_name_original\\\": \\\"\\\", \\\"last_name_original\\\": \\\"\\\", \\\"raw_affiliation_original\\\": [], \\\"initials\\\": \\\"\\\", \\\"corresponding\\\": \\\"\\\", \\\"orcid\\\": [\\\"0000-0002-3455-7013\\\"], \\\"current_organization_id\\\": \\\"grid.411521.2\\\", \\\"researcher_id\\\": \\\"ur.0646407434.02\\\", \\\"affiliations\\\": [{\\\"id\\\": \\\"grid.411521.2\\\", \\\"name\\\": \\\"Baqiyatallah University of Medical Sciences\\\", \\\"city\\\": \\\"Tehran\\\", \\\"city_id\\\": 112931, \\\"country\\\": \\\"Iran\\\", \\\"country_code\\\": \\\"IR\\\", \\\"state\\\": null, \\\"state_code\\\": null, \\\"raw_affiliation\\\": \\\"Medicine, Quran and Hadith Research Center and Department of Community Medicine, Faculty of Medicine, Baqiyatallah University of Medical Sciences, Tehran, Iran.\\\"}]}]\", \"author_list\": \"Navid Mousavi, Zeynab Shankayi, Farideh Bahrami, Tahereh Mohammadzadeh, Gholam Hossein Alishiri, Milad Asghardoust Rezaei, Mohsen Saberi\", \"bra_2020\": [\"4001\"], \"hrcs_hc_2020\": [\"903\"], \"hrcs_rac_2020\": [\"10601\"], \"health_research_areas\": [\"3901\"], \"rcdc\": [\"387\"], \"units_of_assessment\": [\"30001\"], \"researcher_dim_id\": [\"ur.01250640634.22\", \"ur.01052140505.12\", \"ur.01247210124.28\", \"ur.010644361402.02\", \"ur.0646407434.02\"], \"issn\": [\"1028-768X\"], \"source_title_id\": \"jour.1119177\", \"journal_title\": \"Acta neurologica Taiwanica\", \"for_2020_2022\": [\"80003\", \"80045\"], \"language\": \"en\", \"abstract_language\": \"en\", \"pub_class\": \"Article\", \"aff_city_geonames_ids\": [\"112931\"], \"aff_country_codes\": [\"IR\"], \"aff_org_id\": [\"grid.411521.2\"], \"citation_string_year\": 2024, \"created_in_dimensions\": \"2023-12-20T22:53:28Z\", \"id\": \"pub.1167116201\", \"mesh_terms\": [\"Humans\", \"Neuropeptide Y\", \"Tumor Necrosis Factor-alpha\", \"COVID-19\", \"Hospitals\", \"Steroids\"], \"pages\": \"175-184\", \"pmid\": \"38073167\", \"print_pub_date\": \"2024-12-30\", \"pub_date\": \"2024-12-30\", \"pub_year\": 2024, \"volume\": \"33(4)\", \"altmetric\": 1, \"times_cited\": 0, \"score\": 5.0, \"affiliations_details\": [{\"first_name\": \"Navid\", \"last_name\": \"Mousavi\", \"raw_affiliation\": [\"Neuroscience Research Center, Baqiyatallah University of Medical Sciences, Tehran, Iran.\"], \"first_name_original\": \"\", \"last_name_original\": \"\", \"raw_affiliation_original\": [], \"initials\": \"\", \"corresponding\": \"\", \"orcid\": [], \"current_organization_id\": \"\", \"researcher_id\": null, \"affiliations\": [{\"id\": \"grid.411521.2\", \"name\": \"Baqiyatallah University of Medical Sciences\", \"city\": \"Tehran\", \"city_id\": 112931, \"country\": \"Iran\", \"country_code\": \"IR\", \"state\": null, \"state_code\": null, \"raw_affiliation\": \"Neuroscience Research Center, Baqiyatallah University of Medical Sciences, Tehran, Iran.\"}]}, {\"first_name\": \"Zeynab\", \"last_name\": \"Shankayi\", \"raw_affiliation\": [\"Neuroscience Research Center, Baqiyatallah University of Medical Sciences, Tehran, Iran; Department of Physiology and Medical Physics, School of Medicine, Baqiyatallah University of Medical Sciences, Tehran, Iran.\"], \"first_name_original\": \"\", \"last_name_original\": \"\", \"raw_affiliation_original\": [], \"initials\": \"\", \"corresponding\": \"\", \"orcid\": [], \"current_organization_id\": \"\", \"researcher_id\": null, \"affiliations\": [{\"id\": \"grid.411521.2\", \"name\": \"Baqiyatallah University of Medical Sciences\", \"city\": \"Tehran\", \"city_id\": 112931, \"country\": \"Iran\", \"country_code\": \"IR\", \"state\": null, \"state_code\": null, \"raw_affiliation\": \"Neuroscience Research Center, Baqiyatallah University of Medical Sciences, Tehran, Iran; Department of Physiology and Medical Physics, School of Medicine, Baqiyatallah University of Medical Sciences, Tehran, Iran.\"}]}, {\"first_name\": \"Farideh\", \"last_name\": \"Bahrami\", \"raw_affiliation\": [\"Neuroscience Research Center, Baqiyatallah University of Medical Sciences, Tehran, Iran; Department of Physiology and Medical Physics, School of Medicine, Baqiyatallah University of Medical Sciences, Tehran, Iran.\"], \"first_name_original\": \"\", \"last_name_original\": \"\", \"raw_affiliation_original\": [], \"initials\": \"\", \"corresponding\": \"\", \"orcid\": null, \"current_organization_id\": \"grid.411521.2\", \"researcher_id\": \"ur.01250640634.22\", \"affiliations\": [{\"id\": \"grid.411521.2\", \"name\": \"Baqiyatallah University of Medical Sciences\", \"city\": \"Tehran\", \"city_id\": 112931, \"country\": \"Iran\", \"country_code\": \"IR\", \"state\": null, \"state_code\": null, \"raw_affiliation\": \"Neuroscience Research Center, Baqiyatallah University of Medical Sciences, Tehran, Iran; Department of Physiology and Medical Physics, School of Medicine, Baqiyatallah University of Medical Sciences, Tehran, Iran.\"}]}, {\"first_name\": \"Tahereh\", \"last_name\": \"Mohammadzadeh\", \"raw_affiliation\": [\"Health Research Center, Lifestyle Institute Baqiyatallah University of Medical Sciences, Tehran, Iran.\"], \"first_name_original\": \"\", \"last_name_original\": \"\", \"raw_affiliation_original\": [], \"initials\": \"\", \"corresponding\": \"\", \"orcid\": null, \"current_organization_id\": \"grid.411521.2\", \"researcher_id\": \"ur.01052140505.12\", \"affiliations\": [{\"id\": \"grid.411521.2\", \"name\": \"Baqiyatallah University of Medical Sciences\", \"city\": \"Tehran\", \"city_id\": 112931, \"country\": \"Iran\", \"country_code\": \"IR\", \"state\": null, \"state_code\": null, \"raw_affiliation\": \"Health Research Center, Lifestyle Institute Baqiyatallah University of Medical Sciences, Tehran, Iran.\"}]}, {\"first_name\": \"Gholam Hossein\", \"last_name\": \"Alishiri\", \"raw_affiliation\": [\"Department of Rheumatology, Faculty of Medicine, Baqiyatallah Hospital Research Development Committee, Baqiyatallah University of Medical Sciences, Tehran, Iran.\"], \"first_name_original\": \"\", \"last_name_original\": \"\", \"raw_affiliation_original\": [], \"initials\": \"\", \"corresponding\": \"\", \"orcid\": [\"0000-0002-0545-8462\"], \"current_organization_id\": \"grid.411521.2\", \"researcher_id\": \"ur.01247210124.28\", \"affiliations\": [{\"id\": \"grid.411521.2\", \"name\": \"Baqiyatallah University of Medical Sciences\", \"city\": \"Tehran\", \"city_id\": 112931, \"country\": \"Iran\", \"country_code\": \"IR\", \"state\": null, \"state_code\": null, \"raw_affiliation\": \"Department of Rheumatology, Faculty of Medicine, Baqiyatallah Hospital Research Development Committee, Baqiyatallah University of Medical Sciences, Tehran, Iran.\"}]}, {\"first_name\": \"Milad Asghardoust\", \"last_name\": \"Rezaei\", \"raw_affiliation\": [\"Student Research Committee, Baqiyatallah University of Medical Sciences, Tehran, Iran.\"], \"first_name_original\": \"\", \"last_name_original\": \"\", \"raw_affiliation_original\": [], \"initials\": \"\", \"corresponding\": \"\", \"orcid\": null, \"current_organization_id\": \"grid.411521.2\", \"researcher_id\": \"ur.010644361402.02\", \"affiliations\": [{\"id\": \"grid.411521.2\", \"name\": \"Baqiyatallah University of Medical Sciences\", \"city\": \"Tehran\", \"city_id\": 112931, \"country\": \"Iran\", \"country_code\": \"IR\", \"state\": null, \"state_code\": null, \"raw_affiliation\": \"Student Research Committee, Baqiyatallah University of Medical Sciences, Tehran, Iran.\"}]}, {\"first_name\": \"Mohsen\", \"last_name\": \"Saberi\", \"raw_affiliation\": [\"Medicine, Quran and Hadith Research Center and Department of Community Medicine, Faculty of Medicine, Baqiyatallah University of Medical Sciences, Tehran, Iran.\"], \"first_name_original\": \"\", \"last_name_original\": \"\", \"raw_affiliation_original\": [], \"initials\": \"\", \"corresponding\": \"\", \"orcid\": [\"0000-0002-3455-7013\"], \"current_organization_id\": \"grid.411521.2\", \"researcher_id\": \"ur.0646407434.02\", \"affiliations\": [{\"id\": \"grid.411521.2\", \"name\": \"Baqiyatallah University of Medical Sciences\", \"city\": \"Tehran\", \"city_id\": 112931, \"country\": \"Iran\", \"country_code\": \"IR\", \"state\": null, \"state_code\": null, \"raw_affiliation\": \"Medicine, Quran and Hadith Research Center and Department of Community Medicine, Faculty of Medicine, Baqiyatallah University of Medical Sciences, Tehran, Iran.\"}]}], \"authors_full\": [\"Navid Mousavi\", \"Zeynab Shankayi\", \"Farideh Bahrami\", \"Tahereh Mohammadzadeh\", \"Gholam Hossein Alishiri\", \"Milad Asghardoust Rezaei\", \"Mohsen Saberi\"], \"source_title\": \"Acta neurologica Taiwanica\", \"pub_class_id\": \"article\", \"short_abstract\": \"PURPOSE: With the extensive presence of Covid-19, it is imperative to find compounds that can obstruct the virus&#x27;s inflammatory activity and perhaps even stop the inflammatory phase from occurrin\", \"abstract_is_shortened\": true, \"openurl\": null, \"orcid\": {\"api_add_path\": {\"path\": \"/orcid/api/publication/add.json?id=pub.1167116201\"}}, \"altmetric_badge\": {\"value\": \"38073167\", \"id_type\": \"pmid\", \"template\": \"dimensions\"}, \"readcube\": {\"doi\": null, \"pmid\": \"38073167\", \"pmc_id\": null, \"arxiv\": null, \"oa-url\": null, \"libkey\": null, \"entityid\": null}, \"navigation\": {\"path\": \"/details/publication/pub.1167116201\", \"abstract_json\": \"/details/sources/publication/pub.1167116201/abstract.json\"}}, {\"title\": \"Guillain-Barr\\u00e9 Syndrome as a paraneoplastic neurological disease of pulmonary adenocarcinoma and squamous cell carcinoma: A case report.\", \"affiliations_json\": \"[{\\\"first_name\\\": \\\"Zong-Han\\\", \\\"last_name\\\": \\\"Lin\\\", \\\"raw_affiliation\\\": [\\\"Department of Medical Education and Research, Kaohsiung Veterans General Hospital, Kaohsiung, Taiwan.\\\"], \\\"first_name_original\\\": \\\"\\\", \\\"last_name_original\\\": \\\"\\\", \\\"raw_affiliation_original\\\": [], \\\"initials\\\": \\\"\\\", \\\"corresponding\\\": \\\"\\\", \\\"orcid\\\": null, \\\"current_organization_id\\\": \\\"grid.415011.0\\\", \\\"researcher_id\\\": \\\"ur.011626674170.83\\\", \\\"affiliations\\\": [{\\\"id\\\": \\\"grid.415011.0\\\", \\\"name\\\": \\\"Kaohsiung Veterans General Hospital\\\", \\\"city\\\": \\\"Kaohsiung City\\\", \\\"city_id\\\": 1673820, \\\"country\\\": \\\"Taiwan\\\", \\\"country_code\\\": \\\"TW\\\", \\\"state\\\": null, \\\"state_code\\\": null, \\\"raw_affiliation\\\": \\\"Department of Medical Education and Research, Kaohsiung Veterans General Hospital, Kaohsiung, Taiwan.\\\"}]}, {\\\"first_name\\\": \\\"Zheng-Yu\\\", \\\"last_name\\\": \\\"Hoe\\\", \\\"raw_affiliation\\\": [\\\"Department of Physical Medicine and Rehabilitation, Kaohsiung Veterans General Hospital, Kaohsiung; Institute of Medical Science and Technology, National Sun Yat-sen University, Kaohsiung; Department of Pharmacy and Master Program, Tajen University, Pingtung.\\\"], \\\"first_name_original\\\": \\\"\\\", \\\"last_name_original\\\": \\\"\\\", \\\"raw_affiliation_original\\\": [], \\\"initials\\\": \\\"\\\", \\\"corresponding\\\": \\\"\\\", \\\"orcid\\\": [\\\"0000-0001-5257-1532\\\"], \\\"current_organization_id\\\": \\\"grid.415011.0\\\", \\\"researcher_id\\\": \\\"ur.015574507541.64\\\", \\\"affiliations\\\": [{\\\"id\\\": \\\"grid.415011.0\\\", \\\"name\\\": \\\"Kaohsiung Veterans General Hospital\\\", \\\"city\\\": \\\"Kaohsiung City\\\", \\\"city_id\\\": 1673820, \\\"country\\\": \\\"Taiwan\\\", \\\"country_code\\\": \\\"TW\\\", \\\"state\\\": null, \\\"state_code\\\": null, \\\"raw_affiliation\\\": \\\"Department of Physical Medicine and Rehabilitation, Kaohsiung Veterans General Hospital, Kaohsiung; Institute of Medical Science and Technology, National Sun Yat-sen University, Kaohsiung; Department of Pharmacy and Master Program, Tajen University, Pingtung.\\\"}, {\\\"id\\\": \\\"grid.412036.2\\\", \\\"name\\\": \\\"National Sun Yat-sen University\\\", \\\"city\\\": \\\"Kaohsiung City\\\", \\\"city_id\\\": 1673820, \\\"country\\\": \\\"Taiwan\\\", \\\"country_code\\\": \\\"TW\\\", \\\"state\\\": null, \\\"state_code\\\": null, \\\"raw_affiliation\\\": \\\"Department of Physical Medicine and Rehabilitation, Kaohsiung Veterans General Hospital, Kaohsiung; Institute of Medical Science and Technology, National Sun Yat-sen University, Kaohsiung; Department of Pharmacy and Master Program, Tajen University, Pingtung.\\\"}, {\\\"id\\\": \\\"grid.412902.c\\\", \\\"name\\\": \\\"Tajen University\\\", \\\"city\\\": \\\"Pingtung City\\\", \\\"city_id\\\": 1670481, \\\"country\\\": \\\"Taiwan\\\", \\\"country_code\\\": \\\"TW\\\", \\\"state\\\": null, \\\"state_code\\\": null, \\\"raw_affiliation\\\": \\\"Department of Physical Medicine and Rehabilitation, Kaohsiung Veterans General Hospital, Kaohsiung; Institute of Medical Science and Technology, National Sun Yat-sen University, Kaohsiung; Department of Pharmacy and Master Program, Tajen University, Pingtung.\\\"}]}]\", \"author_list\": \"Zong-Han Lin, Zheng-Yu Hoe\", \"bra_2020\": [\"4001\"], \"icrp_ct_2020\": [\"3809\"], \"hrcs_hc_2020\": [\"897\"], \"rcdc\": [\"559\", \"543\", \"326\", \"503\", \"410\"], \"units_of_assessment\": [\"30003\"], \"researcher_dim_id\": [\"ur.011626674170.83\", \"ur.015574507541.64\"], \"issn\": [\"1028-768X\"], \"source_title_id\": \"jour.1119177\", \"journal_title\": \"Acta neurologica Taiwanica\", \"for_2020_2022\": [\"80003\", \"80054\"], \"language\": \"en\", \"abstract_language\": \"en\", \"pub_class\": \"Article\", \"aff_city_geonames_ids\": [\"1670481\", \"1673820\"], \"aff_country_codes\": [\"TW\"], \"aff_org_id\": [\"grid.412902.c\", \"grid.412036.2\", \"grid.415011.0\"], \"citation_string_year\": 2024, \"created_in_dimensions\": \"2023-12-20T22:53:28Z\", \"id\": \"pub.1167116202\", \"mesh_terms\": [\"Male\", \"Humans\", \"Aged\", \"Guillain-Barre Syndrome\", \"Adenocarcinoma of Lung\", \"Lung Neoplasms\", \"Adenocarcinoma\", \"Paraneoplastic Syndromes\", \"Carcinoma, Squamous Cell\"], \"pages\": \"201-205\", \"pmid\": \"38073172\", \"print_pub_date\": \"2024-12-30\", \"pub_date\": \"2024-12-30\", \"pub_year\": 2024, \"volume\": \"33(4)\", \"times_cited\": 0, \"score\": 5.0, \"affiliations_details\": [{\"first_name\": \"Zong-Han\", \"last_name\": \"Lin\", \"raw_affiliation\": [\"Department of Medical Education and Research, Kaohsiung Veterans General Hospital, Kaohsiung, Taiwan.\"], \"first_name_original\": \"\", \"last_name_original\": \"\", \"raw_affiliation_original\": [], \"initials\": \"\", \"corresponding\": \"\", \"orcid\": null, \"current_organization_id\": \"grid.415011.0\", \"researcher_id\": \"ur.011626674170.83\", \"affiliations\": [{\"id\": \"grid.415011.0\", \"name\": \"Kaohsiung Veterans General Hospital\", \"city\": \"Kaohsiung City\", \"city_id\": 1673820, \"country\": \"Taiwan\", \"country_code\": \"TW\", \"state\": null, \"state_code\": null, \"raw_affiliation\": \"Department of Medical Education and Research, Kaohsiung Veterans General Hospital, Kaohsiung, Taiwan.\"}]}, {\"first_name\": \"Zheng-Yu\", \"last_name\": \"Hoe\", \"raw_affiliation\": [\"Department of Physical Medicine and Rehabilitation, Kaohsiung Veterans General Hospital, Kaohsiung; Institute of Medical Science and Technology, National Sun Yat-sen University, Kaohsiung; Department of Pharmacy and Master Program, Tajen University, Pingtung.\"], \"first_name_original\": \"\", \"last_name_original\": \"\", \"raw_affiliation_original\": [], \"initials\": \"\", \"corresponding\": \"\", \"orcid\": [\"0000-0001-5257-1532\"], \"current_organization_id\": \"grid.415011.0\", \"researcher_id\": \"ur.015574507541.64\", \"affiliations\": [{\"id\": \"grid.415011.0\", \"name\": \"Kaohsiung Veterans General Hospital\", \"city\": \"Kaohsiung City\", \"city_id\": 1673820, \"country\": \"Taiwan\", \"country_code\": \"TW\", \"state\": null, \"state_code\": null, \"raw_affiliation\": \"Department of Physical Medicine and Rehabilitation, Kaohsiung Veterans General Hospital, Kaohsiung; Institute of Medical Science and Technology, National Sun Yat-sen University, Kaohsiung; Department of Pharmacy and Master Program, Tajen University, Pingtung.\"}, {\"id\": \"grid.412036.2\", \"name\": \"National Sun Yat-sen University\", \"city\": \"Kaohsiung City\", \"city_id\": 1673820, \"country\": \"Taiwan\", \"country_code\": \"TW\", \"state\": null, \"state_code\": null, \"raw_affiliation\": \"Department of Physical Medicine and Rehabilitation, Kaohsiung Veterans General Hospital, Kaohsiung; Institute of Medical Science and Technology, National Sun Yat-sen University, Kaohsiung; Department of Pharmacy and Master Program, Tajen University, Pingtung.\"}, {\"id\": \"grid.412902.c\", \"name\": \"Tajen University\", \"city\": \"Pingtung City\", \"city_id\": 1670481, \"country\": \"Taiwan\", \"country_code\": \"TW\", \"state\": null, \"state_code\": null, \"raw_affiliation\": \"Department of Physical Medicine and Rehabilitation, Kaohsiung Veterans General Hospital, Kaohsiung; Institute of Medical Science and Technology, National Sun Yat-sen University, Kaohsiung; Department of Pharmacy and Master Program, Tajen University, Pingtung.\"}]}], \"authors_full\": [\"Zong-Han Lin\", \"Zheng-Yu Hoe\"], \"source_title\": \"Acta neurologica Taiwanica\", \"pub_class_id\": \"article\", \"short_abstract\": \"We present the case of a 69-year-old male who presented with profound weakness in the extremities. Remarkably, he lacked any identifiable precipitating factors preceding the onset of his illness. Howe\", \"abstract_is_shortened\": true, \"openurl\": null, \"orcid\": {\"api_add_path\": {\"path\": \"/orcid/api/publication/add.json?id=pub.1167116202\"}}, \"altmetric_badge\": {\"value\": \"38073172\", \"id_type\": \"pmid\", \"template\": \"dimensions\"}, \"readcube\": {\"doi\": null, \"pmid\": \"38073172\", \"pmc_id\": null, \"arxiv\": null, \"oa-url\": null, \"libkey\": null, \"entityid\": null}, \"navigation\": {\"path\": \"/details/publication/pub.1167116202\", \"abstract_json\": \"/details/sources/publication/pub.1167116202/abstract.json\"}}], \"partial_results\": false, \"source\": {\"key\": \"publication_plus\", \"label\": \"Publication\", \"parent\": null, \"plural\": \"Publications\", \"alias\": \"publication\"}, \"search_limit_options\": [], \"sorting\": {\"key\": \"date\", \"options\": [{\"key\": \"relevance\", \"label\": \"Relevance\", \"expression\": \"score desc\"}, {\"key\": \"date\", \"label\": \"Publication date\", \"expression\": \"pub_date desc\"}, {\"key\": \"rcr\", \"label\": \"RCR\", \"expression\": \"relative_citation_ratio desc\"}, {\"key\": \"fcr\", \"label\": \"FCR\", \"expression\": \"field_citation_ratio_2020 desc\"}, {\"key\": \"times_cited\", \"label\": \"Citations\", \"expression\": \"times_cited desc\"}, {\"key\": \"altmetric\", \"label\": \"Altmetric Attention Score\", \"expression\": \"altmetric desc\"}]}, \"grouping\": {\"available\": false, \"active\": false, \"label\": null}, \"navigation\": {\"results_json\": \"/discover/publication/results.json?np=6oUSN3N3eTDbHy4IgNyTmy-3M4g5qxNIiPtuw07IYnOP6AWpHi2aUa3P\"}, \"all_facets_available\": true, \"altmetric_explorer_visible\": false}\n"
     ]
    }
   ],
   "source": [
    "import requests\n",
    "import json\n",
    "\n",
    "url = \"https://app.dimensions.ai/discover/publication/results.json?np=oYXZLCmebQbacy59fETPDfG1ul_OtW0EbvQquIzlZXwhmVpHIgC3wCRc&or_facet_year=2024&or_facet_publication_type=article\"\n",
    "\n",
    "payload = {}\n",
    "headers = {\n",
    "  'Accept': 'application/json',\n",
    "  'Accept-Language': 'en-US,en;q=0.9',\n",
    "  'Cache-Control': 'no-cache, no-store, must-revalidate',\n",
    "  'Connection': 'keep-alive',\n",
    "  'Content-Type': 'application/json',\n",
    "  'Cookie': 'intercom-device-id-ilx5k1fm=99edab8a-a6ab-47e3-bc44-070b8257d181; _gcl_au=1.1.1416844146.1707413904; _gid=GA1.2.1590107742.1707413905; aws-waf-token=7ac190f2-7850-4639-b888-1b60ef0a6171:EQoArSCGj+gJAAAA:kOk/PyXF4Kv75o/biH8ROPm06R/USaobDdV5LJA/9Nh4QR95hnsm4rTI1WIpTDAjDnNJ5mEH7mF0PERX++UXSop6DT+fZxZlXL64D3VAt+3ndFc2tI0wJVAquDGq0QeJWdzgNBATYuDc3Behxb+PWR1OzGV76ePdCcDeOvd2B/KDnc81/+9x5+gjc0jeg4wEnCoBcrbg7Pgwv7IBB9gpUpQ7RrSV0UOByTPD4PyTyrcUcDwhg267eLqe; _ga=GA1.1.1098850320.1707419421; OptanonAlertBoxClosed=2024-02-08T19:10:23.090Z; intercom-session-ilx5k1fm=OUhFbjNVMk94dE1wTnd1Q1dZZ29kSVYxUEpBbjBlSDFkeFk3V041WER0amZmVjQwRklNQ3JOeTF0Z0diRUYzMS0tMHBiR3lKaHRZRGRDZ0FkR21JVVlMdz09--1b4be3a144fda967ae026d7857995995a689701b; _ga_KH7CX71Y5X=GS1.1.1707419421.1.1.1707419475.0.0.0; uber_auth_tkt=45510374bc8e25a87a0bcb0bce1b9228c5da8d3df1e285d7d5ac930e3e638f2ad7e7c3a80effa80c119898dc8355a22e4a0ea597f7cbc5ddec7df98ab92658e065c605b0bi5tYXNoYXlla2hpNDU2QGdtYWlsLmNvbQ%3D%3D!A79bbb7f2e28ab0fc88639fadcb190a!userid_type:b64unicode; uber_auth_tkt=45510374bc8e25a87a0bcb0bce1b9228c5da8d3df1e285d7d5ac930e3e638f2ad7e7c3a80effa80c119898dc8355a22e4a0ea597f7cbc5ddec7df98ab92658e065c605b0bi5tYXNoYXlla2hpNDU2QGdtYWlsLmNvbQ%3D%3D!A79bbb7f2e28ab0fc88639fadcb190a!userid_type:b64unicode; OptanonConsent=isGpcEnabled=0&datestamp=Fri+Feb+09+2024+14%3A51%3A26+GMT%2B0330+(Iran+Standard+Time)&version=202401.2.0&browserGpcFlag=0&isIABGlobal=false&hosts=&consentId=6140ce0d-5f43-490a-afcc-537d77783362&interactionCount=2&landingPath=NotLandingPage&groups=C0001%3A1%2CC0002%3A0%2CC0003%3A0%2CC0004%3A0&AwaitingReconsent=false&geolocation=NL%3BUT; session=jYPMZGPQsUE_hYfmUGzmif0hnWF5TiCIpvHttXpgQlHXvIUgvzFwfLBu6TK6zQWrku43WCC_ugk19YfEuFGze1sxNzA3NDc3NzA1LCAxNzA3NDczMzk4LjA4NDEwODYsIHsiYXV0aGVudGljYXRpb24iOiBudWxsLCAiX2NzcmZ0XyI6ICJkYzE3N2ZjZTYyMzI3ZWVlMDIzZmIxNWY4MDI5MDkzOWQwMzIwOTg2IiwgImF1dGhfbWV0aG9kIjogImRpbWVuc2lvbnMifV0; session=-pg6d9yPh_ohdVE30ONm_sKpi1AgpWT3p21GVjthCeT0HwaCbtxzfFkzpZQBpllbkRq3P19putpWTXbuuZERX1sxNzA3NDc4NjAwLCAxNzA3NDczMzk4LjA4NDEwODYsIHsiYXV0aGVudGljYXRpb24iOiBudWxsLCAiX2NzcmZ0XyI6ICIwOGNjODMxODVmODU4Yzk2YTdlYTc1ODFiZjBhMDExYjE1MTdiZjBiIiwgImF1dGhfbWV0aG9kIjogImRpbWVuc2lvbnMifV0',\n",
    "  'Expires': '0',\n",
    "  'Operations': 'sticky=rP6jIwDec8LBuNGsdGGOHOIsaJ0r53NmjnNEf7OX',\n",
    "  'Pragma': 'no-cache',\n",
    "  'Referer': 'https://app.dimensions.ai/discover/publication?or_facet_year=2024&or_facet_publication_type=article',\n",
    "  'Sec-Fetch-Dest': 'empty',\n",
    "  'Sec-Fetch-Mode': 'cors',\n",
    "  'Sec-Fetch-Site': 'same-origin',\n",
    "  'User-Agent': 'Mozilla/5.0 (Windows NT 10.0; Win64; x64) AppleWebKit/537.36 (KHTML, like Gecko) Chrome/121.0.0.0 Safari/537.36',\n",
    "  'X-CSRF-Token': 'dc177fce62327eee023fb15f80290939d0320986',\n",
    "  'X-Requested-With': 'XMLHttpRequest',\n",
    "  'sec-ch-ua': '\"Not A(Brand\";v=\"99\", \"Google Chrome\";v=\"121\", \"Chromium\";v=\"121\"',\n",
    "  'sec-ch-ua-mobile': '?0',\n",
    "  'sec-ch-ua-platform': '\"Windows\"'\n",
    "}\n",
    "\n",
    "response = requests.request(\"GET\", url, headers=headers, data=payload)\n",
    "\n",
    "print(response.text)\n"
   ]
  },
  {
   "cell_type": "code",
   "execution_count": 58,
   "metadata": {},
   "outputs": [
    {
     "data": {
      "text/plain": [
       "{'Date': 'Fri, 09 Feb 2024 11:37:17 GMT', 'Content-Type': 'application/json', 'Transfer-Encoding': 'chunked', 'Connection': 'keep-alive', 'Access-Control-Allow-Credentials': 'true', 'Content-Encoding': 'gzip', 'Set-Cookie': 'session=9nYSi0AzFhDA44MMlwpGAglf92340WhUP_HbYpzwlTztlIqLuLsvfYO-Swj6D4mnV39omDHiCXC1Nc7AcHJlulsxNzA3NDc4NjM3LCAxNzA3NDczMzk4LjA4NDEwODYsIHsiYXV0aGVudGljYXRpb24iOiBudWxsLCAiX2NzcmZ0XyI6ICIwOGNjODMxODVmODU4Yzk2YTdlYTc1ODFiZjBhMDExYjE1MTdiZjBiIiwgImF1dGhfbWV0aG9kIjogImRpbWVuc2lvbnMifV0; Path=/; secure; HttpOnly; SameSite=Lax', 'Vary': 'Accept-Encoding', 'X-Content-Type-Options': 'nosniff', 'X-Frame-Options': 'SAMEORIGIN', 'X-Xss-Protection': '1; mode=block'}"
      ]
     },
     "execution_count": 58,
     "metadata": {},
     "output_type": "execute_result"
    }
   ],
   "source": [
    "response.headers"
   ]
  },
  {
   "cell_type": "code",
   "execution_count": 59,
   "metadata": {},
   "outputs": [
    {
     "name": "stdout",
     "output_type": "stream",
     "text": [
      "200\n"
     ]
    }
   ],
   "source": [
    "import requests\n",
    "import json\n",
    "\n",
    "url = \"https://app.dimensions.ai/discover/publication/results.json?np=UMU1mdNYnhekht67guxmOtwG206sbFlevI3B-uutMeKAaa6wN4AWarCj&or_facet_year=2024&or_facet_publication_type=article\"\n",
    "\n",
    "payload = {}\n",
    "headers = {\n",
    "  'Accept': 'application/json',\n",
    "  'Accept-Language': 'en-US,en;q=0.9',\n",
    "  'Cache-Control': 'no-cache, no-store, must-revalidate',\n",
    "  'Connection': 'keep-alive',\n",
    "  'Content-Type': 'application/json',\n",
    "  'Cookie': 'intercom-device-id-ilx5k1fm=99edab8a-a6ab-47e3-bc44-070b8257d181; _gcl_au=1.1.1416844146.1707413904; _gid=GA1.2.1590107742.1707413905; aws-waf-token=7ac190f2-7850-4639-b888-1b60ef0a6171:EQoArSCGj+gJAAAA:kOk/PyXF4Kv75o/biH8ROPm06R/USaobDdV5LJA/9Nh4QR95hnsm4rTI1WIpTDAjDnNJ5mEH7mF0PERX++UXSop6DT+fZxZlXL64D3VAt+3ndFc2tI0wJVAquDGq0QeJWdzgNBATYuDc3Behxb+PWR1OzGV76ePdCcDeOvd2B/KDnc81/+9x5+gjc0jeg4wEnCoBcrbg7Pgwv7IBB9gpUpQ7RrSV0UOByTPD4PyTyrcUcDwhg267eLqe; _ga=GA1.1.1098850320.1707419421; OptanonAlertBoxClosed=2024-02-08T19:10:23.090Z; intercom-session-ilx5k1fm=OUhFbjNVMk94dE1wTnd1Q1dZZ29kSVYxUEpBbjBlSDFkeFk3V041WER0amZmVjQwRklNQ3JOeTF0Z0diRUYzMS0tMHBiR3lKaHRZRGRDZ0FkR21JVVlMdz09--1b4be3a144fda967ae026d7857995995a689701b; _ga_KH7CX71Y5X=GS1.1.1707419421.1.1.1707419475.0.0.0; uber_auth_tkt=45510374bc8e25a87a0bcb0bce1b9228c5da8d3df1e285d7d5ac930e3e638f2ad7e7c3a80effa80c119898dc8355a22e4a0ea597f7cbc5ddec7df98ab92658e065c605b0bi5tYXNoYXlla2hpNDU2QGdtYWlsLmNvbQ%3D%3D!A79bbb7f2e28ab0fc88639fadcb190a!userid_type:b64unicode; uber_auth_tkt=45510374bc8e25a87a0bcb0bce1b9228c5da8d3df1e285d7d5ac930e3e638f2ad7e7c3a80effa80c119898dc8355a22e4a0ea597f7cbc5ddec7df98ab92658e065c605b0bi5tYXNoYXlla2hpNDU2QGdtYWlsLmNvbQ%3D%3D!A79bbb7f2e28ab0fc88639fadcb190a!userid_type:b64unicode; OptanonConsent=isGpcEnabled=0&datestamp=Fri+Feb+09+2024+14%3A51%3A26+GMT%2B0330+(Iran+Standard+Time)&version=202401.2.0&browserGpcFlag=0&isIABGlobal=false&hosts=&consentId=6140ce0d-5f43-490a-afcc-537d77783362&interactionCount=2&landingPath=NotLandingPage&groups=C0001%3A1%2CC0002%3A0%2CC0003%3A0%2CC0004%3A0&AwaitingReconsent=false&geolocation=NL%3BUT; session=3akbKEq-zyoDdCH5dZ4dvGz7CcXjn0fHM2Df3KE0-o3g5SKF0_35WyvkdsHll7BVtBwYTusFWxPRHD4RsGHtS1sxNzA3NDc4ODM2LCAxNzA3NDczMzk4LjA4NDEwODYsIHsiYXV0aGVudGljYXRpb24iOiBudWxsLCAiX2NzcmZ0XyI6ICIwOGNjODMxODVmODU4Yzk2YTdlYTc1ODFiZjBhMDExYjE1MTdiZjBiIiwgImF1dGhfbWV0aG9kIjogImRpbWVuc2lvbnMifV0',\n",
    "  'Expires': '0',\n",
    "  'Operations': 'sticky=rP6jIwDec8LBuNGsdGGOHOIsaJ0r53NmjnNEf7OX',\n",
    "  'Pragma': 'no-cache',\n",
    "  'Referer': 'https://app.dimensions.ai/discover/publication?or_facet_year=2024&or_facet_publication_type=article',\n",
    "  'Sec-Fetch-Dest': 'empty',\n",
    "  'Sec-Fetch-Mode': 'cors',\n",
    "  'Sec-Fetch-Site': 'same-origin',\n",
    "  'User-Agent': 'Mozilla/5.0 (Windows NT 10.0; Win64; x64) AppleWebKit/537.36 (KHTML, like Gecko) Chrome/121.0.0.0 Safari/537.36',\n",
    "  'X-CSRF-Token': 'dc177fce62327eee023fb15f80290939d0320986',\n",
    "  'X-Requested-With': 'XMLHttpRequest',\n",
    "  'sec-ch-ua': '\"Not A(Brand\";v=\"99\", \"Google Chrome\";v=\"121\", \"Chromium\";v=\"121\"',\n",
    "  'sec-ch-ua-mobile': '?0',\n",
    "  'sec-ch-ua-platform': '\"Windows\"'\n",
    "}\n",
    "\n",
    "response = requests.request(\"GET\", url, headers=headers, data=payload)\n",
    "\n",
    "print(response.status_code)\n"
   ]
  },
  {
   "cell_type": "code",
   "execution_count": 61,
   "metadata": {},
   "outputs": [
    {
     "data": {
      "text/plain": [
       "'session=MJSdndCur_gtkJfbpAwOzhnJzISX7RNmmpZUJCM5msiyXtR7tBM3XYMqQwFowvKD9TBTUjc_UPb6tc6o4JhDVFsxNzA3NDc5MTE4LCAxNzA3NDczMzk4LjA4NDEwODYsIHsiYXV0aGVudGljYXRpb24iOiBudWxsLCAiX2NzcmZ0XyI6ICIwOGNjODMxODVmODU4Yzk2YTdlYTc1ODFiZjBhMDExYjE1MTdiZjBiIiwgImF1dGhfbWV0aG9kIjogImRpbWVuc2lvbnMifV0; Path=/; secure; HttpOnly; SameSite=Lax'"
      ]
     },
     "execution_count": 61,
     "metadata": {},
     "output_type": "execute_result"
    }
   ],
   "source": [
    "response.headers.get('Set-Cookie')"
   ]
  },
  {
   "cell_type": "code",
   "execution_count": null,
   "metadata": {},
   "outputs": [],
   "source": [
    "'session=MJSdndCur_gtkJfbpAwOzhnJzISX7RNmmpZUJCM5msiyXtR7tBM3XYMqQwFowvKD9TBTUjc_UPb6tc6o4JhDVFsxNzA3NDc5MTE4LCAxNzA3NDczMzk4LjA4NDEwODYsIHsiYXV0aGVudGljYXRpb24iOiBudWxsLCAiX2NzcmZ0XyI6ICIwOGNjODMxODVmODU4Yzk2YTdlYTc1ODFiZjBhMDExYjE1MTdiZjBiIiwgImF1dGhfbWV0aG9kIjogImRpbWVuc2lvbnMifV0'"
   ]
  },
  {
   "cell_type": "code",
   "execution_count": 62,
   "metadata": {},
   "outputs": [
    {
     "data": {
      "text/plain": [
       "'/discover/publication/results.json?np=MLnA0jTB6HlgwxmQUT-HMahedV_jO1_DmkFCnA7qNlfu0fveTwjLLsRO'"
      ]
     },
     "execution_count": 62,
     "metadata": {},
     "output_type": "execute_result"
    }
   ],
   "source": [
    "data = response.json()\n",
    "data['navigation']['results_json']"
   ]
  },
  {
   "cell_type": "code",
   "execution_count": 70,
   "metadata": {},
   "outputs": [
    {
     "name": "stdout",
     "output_type": "stream",
     "text": [
      "200\n"
     ]
    }
   ],
   "source": [
    "import requests\n",
    "import json\n",
    "\n",
    "url = \"https://app.dimensions.ai/discover/publication/results.json?np=MLnA0jTB6HlgwxmQUT-HMahedV_jO1_DmkFCnA7qNlfu0fveTwjLLsRO&or_facet_year=2024&or_facet_publication_type=article\"\n",
    "\n",
    "payload = {}\n",
    "headers = {\n",
    "  'Accept': 'application/json',\n",
    "  'Accept-Language': 'en-US,en;q=0.9',\n",
    "  'Accept-Encoding': 'gzip, deflate, br',\n",
    "\n",
    "  'Cache-Control': 'no-cache, no-store, must-revalidate',\n",
    "  'Connection': 'keep-alive',\n",
    "  'Content-Type': 'application/json',\n",
    "  'Cookie': 'intercom-device-id-ilx5k1fm=99edab8a-a6ab-47e3-bc44-070b8257d181; _gcl_au=1.1.1416844146.1707413904; _gid=GA1.2.1590107742.1707413905; aws-waf-token=7ac190f2-7850-4639-b888-1b60ef0a6171:EQoArSCGj+gJAAAA:kOk/PyXF4Kv75o/biH8ROPm06R/USaobDdV5LJA/9Nh4QR95hnsm4rTI1WIpTDAjDnNJ5mEH7mF0PERX++UXSop6DT+fZxZlXL64D3VAt+3ndFc2tI0wJVAquDGq0QeJWdzgNBATYuDc3Behxb+PWR1OzGV76ePdCcDeOvd2B/KDnc81/+9x5+gjc0jeg4wEnCoBcrbg7Pgwv7IBB9gpUpQ7RrSV0UOByTPD4PyTyrcUcDwhg267eLqe; _ga=GA1.1.1098850320.1707419421; OptanonAlertBoxClosed=2024-02-08T19:10:23.090Z; intercom-session-ilx5k1fm=OUhFbjNVMk94dE1wTnd1Q1dZZ29kSVYxUEpBbjBlSDFkeFk3V041WER0amZmVjQwRklNQ3JOeTF0Z0diRUYzMS0tMHBiR3lKaHRZRGRDZ0FkR21JVVlMdz09--1b4be3a144fda967ae026d7857995995a689701b; _ga_KH7CX71Y5X=GS1.1.1707419421.1.1.1707419475.0.0.0; uber_auth_tkt=45510374bc8e25a87a0bcb0bce1b9228c5da8d3df1e285d7d5ac930e3e638f2ad7e7c3a80effa80c119898dc8355a22e4a0ea597f7cbc5ddec7df98ab92658e065c605b0bi5tYXNoYXlla2hpNDU2QGdtYWlsLmNvbQ%3D%3D!A79bbb7f2e28ab0fc88639fadcb190a!userid_type:b64unicode; uber_auth_tkt=45510374bc8e25a87a0bcb0bce1b9228c5da8d3df1e285d7d5ac930e3e638f2ad7e7c3a80effa80c119898dc8355a22e4a0ea597f7cbc5ddec7df98ab92658e065c605b0bi5tYXNoYXlla2hpNDU2QGdtYWlsLmNvbQ%3D%3D!A79bbb7f2e28ab0fc88639fadcb190a!userid_type:b64unicode; OptanonConsent=isGpcEnabled=0&datestamp=Fri+Feb+09+2024+14%3A51%3A26+GMT%2B0330+(Iran+Standard+Time)&version=202401.2.0&browserGpcFlag=0&isIABGlobal=false&hosts=&consentId=6140ce0d-5f43-490a-afcc-537d77783362&interactionCount=2&landingPath=NotLandingPage&groups=C0001%3A1%2CC0002%3A0%2CC0003%3A0%2CC0004%3A0&AwaitingReconsent=false&geolocation=NL%3BUT; session=zNdxbvjgMvLrEl5qNywT8EbTqDTmfg_eK5r3D9w5UxmRla2WbAILsD6YIoBVI3YNwh6Zl65KzYQ3HhTW73CuglsxNzA3NDc3NzA5LCAxNzA3NDczMzk4LjA4NDEwODYsIHsiYXV0aGVudGljYXRpb24iOiBudWxsLCAiX2NzcmZ0XyI6ICJkYzE3N2ZjZTYyMzI3ZWVlMDIzZmIxNWY4MDI5MDkzOWQwMzIwOTg2IiwgImF1dGhfbWV0aG9kIjogImRpbWVuc2lvbnMifV0; session=MJSdndCur_gtkJfbpAwOzhnJzISX7RNmmpZUJCM5msiyXtR7tBM3XYMqQwFowvKD9TBTUjc_UPb6tc6o4JhDVFsxNzA3NDc5MTE4LCAxNzA3NDczMzk4LjA4NDEwODYsIHsiYXV0aGVudGljYXRpb24iOiBudWxsLCAiX2NzcmZ0XyI6ICIwOGNjODMxODVmODU4Yzk2YTdlYTc1ODFiZjBhMDExYjE1MTdiZjBiIiwgImF1dGhfbWV0aG9kIjogImRpbWVuc2lvbnMifV0',\n",
    "  'Expires': '0',\n",
    "  'Host': 'app.dimensions.ai',\n",
    "  'Operations': 'sticky=rP6jIwDec8LBuNGsdGGOHOIsaJ0r53NmjnNEf7OX',\n",
    "  'Pragma': 'no-cache',\n",
    "  'Referer': 'https://app.dimensions.ai/discover/publication?or_facet_year=2024&or_facet_publication_type=article',\n",
    "  'Sec-Fetch-Dest': 'empty',\n",
    "  'Sec-Fetch-Mode': 'cors',\n",
    "  'Sec-Fetch-Site': 'same-origin',\n",
    "  'User-Agent': 'Mozilla/5.0 (Windows NT 10.0; Win64; x64) AppleWebKit/537.36 (KHTML, like Gecko) Chrome/121.0.0.0 Safari/537.36',\n",
    "  'X-CSRF-Token': 'dc177fce62327eee023fb15f80290939d0320986',\n",
    "  'X-Requested-With': 'XMLHttpRequest',\n",
    "  'sec-ch-ua': '\"Not A(Brand\";v=\"99\", \"Google Chrome\";v=\"121\", \"Chromium\";v=\"121\"',\n",
    "  'sec-ch-ua-mobile': '?0',\n",
    "  'sec-ch-ua-platform': '\"Windows\"'\n",
    "}\n",
    "\n",
    "response3 = requests.request(\"GET\", url, headers=headers, data=payload)\n",
    "\n",
    "print(response3.status_code)\n"
   ]
  },
  {
   "cell_type": "code",
   "execution_count": null,
   "metadata": {},
   "outputs": [],
   "source": [
    "import requests\n",
    "import json\n",
    "\n",
    "url = \"https://app.dimensions.ai/discover/publication/results.json?np=MLnA0jTB6HlgwxmQUT-HMahedV_jO1_DmkFCnA7qNlfu0fveTwjLLsRO&or_facet_year=2024&or_facet_publication_type=article\"\n",
    "\n",
    "payload = {}\n",
    "headers = {\n",
    "  'Accept': 'application/json',\n",
    "  'Accept-Language': 'en-US,en;q=0.9',\n",
    "  'Cache-Control': 'no-cache, no-store, must-revalidate',\n",
    "  'Connection': 'keep-alive',\n",
    "  'Content-Type': 'application/json',\n",
    "  'Cookie': 'intercom-device-id-ilx5k1fm=99edab8a-a6ab-47e3-bc44-070b8257d181; _gcl_au=1.1.1416844146.1707413904; _gid=GA1.2.1590107742.1707413905; aws-waf-token=7ac190f2-7850-4639-b888-1b60ef0a6171:EQoArSCGj+gJAAAA:kOk/PyXF4Kv75o/biH8ROPm06R/USaobDdV5LJA/9Nh4QR95hnsm4rTI1WIpTDAjDnNJ5mEH7mF0PERX++UXSop6DT+fZxZlXL64D3VAt+3ndFc2tI0wJVAquDGq0QeJWdzgNBATYuDc3Behxb+PWR1OzGV76ePdCcDeOvd2B/KDnc81/+9x5+gjc0jeg4wEnCoBcrbg7Pgwv7IBB9gpUpQ7RrSV0UOByTPD4PyTyrcUcDwhg267eLqe; _ga=GA1.1.1098850320.1707419421; OptanonAlertBoxClosed=2024-02-08T19:10:23.090Z; intercom-session-ilx5k1fm=OUhFbjNVMk94dE1wTnd1Q1dZZ29kSVYxUEpBbjBlSDFkeFk3V041WER0amZmVjQwRklNQ3JOeTF0Z0diRUYzMS0tMHBiR3lKaHRZRGRDZ0FkR21JVVlMdz09--1b4be3a144fda967ae026d7857995995a689701b; _ga_KH7CX71Y5X=GS1.1.1707419421.1.1.1707419475.0.0.0; uber_auth_tkt=45510374bc8e25a87a0bcb0bce1b9228c5da8d3df1e285d7d5ac930e3e638f2ad7e7c3a80effa80c119898dc8355a22e4a0ea597f7cbc5ddec7df98ab92658e065c605b0bi5tYXNoYXlla2hpNDU2QGdtYWlsLmNvbQ%3D%3D!A79bbb7f2e28ab0fc88639fadcb190a!userid_type:b64unicode; uber_auth_tkt=45510374bc8e25a87a0bcb0bce1b9228c5da8d3df1e285d7d5ac930e3e638f2ad7e7c3a80effa80c119898dc8355a22e4a0ea597f7cbc5ddec7df98ab92658e065c605b0bi5tYXNoYXlla2hpNDU2QGdtYWlsLmNvbQ%3D%3D!A79bbb7f2e28ab0fc88639fadcb190a!userid_type:b64unicode; OptanonConsent=isGpcEnabled=0&datestamp=Fri+Feb+09+2024+14%3A51%3A26+GMT%2B0330+(Iran+Standard+Time)&version=202401.2.0&browserGpcFlag=0&isIABGlobal=false&hosts=&consentId=6140ce0d-5f43-490a-afcc-537d77783362&interactionCount=2&landingPath=NotLandingPage&groups=C0001%3A1%2CC0002%3A0%2CC0003%3A0%2CC0004%3A0&AwaitingReconsent=false&geolocation=NL%3BUT; session=zNdxbvjgMvLrEl5qNywT8EbTqDTmfg_eK5r3D9w5UxmRla2WbAILsD6YIoBVI3YNwh6Zl65KzYQ3HhTW73CuglsxNzA3NDc3NzA5LCAxNzA3NDczMzk4LjA4NDEwODYsIHsiYXV0aGVudGljYXRpb24iOiBudWxsLCAiX2NzcmZ0XyI6ICJkYzE3N2ZjZTYyMzI3ZWVlMDIzZmIxNWY4MDI5MDkzOWQwMzIwOTg2IiwgImF1dGhfbWV0aG9kIjogImRpbWVuc2lvbnMifV0; session=AzZE9ZItUvNmDksA0ocnQwYVnKCjw59ka0GS2mvLYZO-fqvMkhrTFBLilTa_TLW-Y6-Sg43fgRg9PB9apsdK6VsxNzA3NDc5NTkyLCAxNzA3NDczMzk4LjA4NDEwODYsIHsiYXV0aGVudGljYXRpb24iOiBudWxsLCAiX2NzcmZ0XyI6ICIwOGNjODMxODVmODU4Yzk2YTdlYTc1ODFiZjBhMDExYjE1MTdiZjBiIiwgImF1dGhfbWV0aG9kIjogImRpbWVuc2lvbnMifV0',\n",
    "  'Expires': '0',\n",
    "  'Operations': 'sticky=rP6jIwDec8LBuNGsdGGOHOIsaJ0r53NmjnNEf7OX',\n",
    "  'Pragma': 'no-cache',\n",
    "  'Referer': 'https://app.dimensions.ai/discover/publication?or_facet_year=2024&or_facet_publication_type=article',\n",
    "  'Sec-Fetch-Dest': 'empty',\n",
    "  'Sec-Fetch-Mode': 'cors',\n",
    "  'Sec-Fetch-Site': 'same-origin',\n",
    "  'User-Agent': 'Mozilla/5.0 (Windows NT 10.0; Win64; x64) AppleWebKit/537.36 (KHTML, like Gecko) Chrome/121.0.0.0 Safari/537.36',\n",
    "  'X-CSRF-Token': 'dc177fce62327eee023fb15f80290939d0320986',\n",
    "  'X-Requested-With': 'XMLHttpRequest',\n",
    "  'sec-ch-ua': '\"Not A(Brand\";v=\"99\", \"Google Chrome\";v=\"121\", \"Chromium\";v=\"121\"',\n",
    "  'sec-ch-ua-mobile': '?0',\n",
    "  'sec-ch-ua-platform': '\"Windows\"'\n",
    "}\n",
    "\n",
    "response = requests.request(\"GET\", url, headers=headers, data=payload)\n",
    "\n",
    "print(response.text)\n"
   ]
  },
  {
   "cell_type": "code",
   "execution_count": null,
   "metadata": {},
   "outputs": [],
   "source": [
    "  'Cookie': 'intercom-device-id-ilx5k1fm=99edab8a-a6ab-47e3-bc44-070b8257d181; _gcl_au=1.1.1416844146.1707413904; _gid=GA1.2.1590107742.1707413905; aws-waf-token=7ac190f2-7850-4639-b888-1b60ef0a6171:EQoArSCGj+gJAAAA:kOk/PyXF4Kv75o/biH8ROPm06R/USaobDdV5LJA/9Nh4QR95hnsm4rTI1WIpTDAjDnNJ5mEH7mF0PERX++UXSop6DT+fZxZlXL64D3VAt+3ndFc2tI0wJVAquDGq0QeJWdzgNBATYuDc3Behxb+PWR1OzGV76ePdCcDeOvd2B/KDnc81/+9x5+gjc0jeg4wEnCoBcrbg7Pgwv7IBB9gpUpQ7RrSV0UOByTPD4PyTyrcUcDwhg267eLqe; _ga=GA1.1.1098850320.1707419421; OptanonAlertBoxClosed=2024-02-08T19:10:23.090Z; intercom-session-ilx5k1fm=OUhFbjNVMk94dE1wTnd1Q1dZZ29kSVYxUEpBbjBlSDFkeFk3V041WER0amZmVjQwRklNQ3JOeTF0Z0diRUYzMS0tMHBiR3lKaHRZRGRDZ0FkR21JVVlMdz09--1b4be3a144fda967ae026d7857995995a689701b; _ga_KH7CX71Y5X=GS1.1.1707419421.1.1.1707419475.0.0.0; uber_auth_tkt=45510374bc8e25a87a0bcb0bce1b9228c5da8d3df1e285d7d5ac930e3e638f2ad7e7c3a80effa80c119898dc8355a22e4a0ea597f7cbc5ddec7df98ab92658e065c605b0bi5tYXNoYXlla2hpNDU2QGdtYWlsLmNvbQ%3D%3D!A79bbb7f2e28ab0fc88639fadcb190a!userid_type:b64unicode; uber_auth_tkt=45510374bc8e25a87a0bcb0bce1b9228c5da8d3df1e285d7d5ac930e3e638f2ad7e7c3a80effa80c119898dc8355a22e4a0ea597f7cbc5ddec7df98ab92658e065c605b0bi5tYXNoYXlla2hpNDU2QGdtYWlsLmNvbQ%3D%3D!A79bbb7f2e28ab0fc88639fadcb190a!userid_type:b64unicode; OptanonConsent=isGpcEnabled=0&datestamp=Fri+Feb+09+2024+14%3A51%3A26+GMT%2B0330+(Iran+Standard+Time)&version=202401.2.0&browserGpcFlag=0&isIABGlobal=false&hosts=&consentId=6140ce0d-5f43-490a-afcc-537d77783362&interactionCount=2&landingPath=NotLandingPage&groups=C0001%3A1%2CC0002%3A0%2CC0003%3A0%2CC0004%3A0&AwaitingReconsent=false&geolocation=NL%3BUT; session=zNdxbvjgMvLrEl5qNywT8EbTqDTmfg_eK5r3D9w5UxmRla2WbAILsD6YIoBVI3YNwh6Zl65KzYQ3HhTW73CuglsxNzA3NDc3NzA5LCAxNzA3NDczMzk4LjA4NDEwODYsIHsiYXV0aGVudGljYXRpb24iOiBudWxsLCAiX2NzcmZ0XyI6ICJkYzE3N2ZjZTYyMzI3ZWVlMDIzZmIxNWY4MDI5MDkzOWQwMzIwOTg2IiwgImF1dGhfbWV0aG9kIjogImRpbWVuc2lvbnMifV0; session=MJSdndCur_gtkJfbpAwOzhnJzISX7RNmmpZUJCM5msiyXtR7tBM3XYMqQwFowvKD9TBTUjc_UPb6tc6o4JhDVFsxNzA3NDc5MTE4LCAxNzA3NDczMzk4LjA4NDEwODYsIHsiYXV0aGVudGljYXRpb24iOiBudWxsLCAiX2NzcmZ0XyI6ICIwOGNjODMxODVmODU4Yzk2YTdlYTc1ODFiZjBhMDExYjE1MTdiZjBiIiwgImF1dGhfbWV0aG9kIjogImRpbWVuc2lvbnMifV0',\n"
   ]
  },
  {
   "cell_type": "code",
   "execution_count": null,
   "metadata": {},
   "outputs": [],
   "source": [
    "session=MJSdndCur_gtkJfbpAwOzhnJzISX7RNmmpZUJCM5msiyXtR7tBM3XYMqQwFowvKD9TBTUjc_UPb6tc6o4JhDVFsxNzA3NDc5MTE4LCAxNzA3NDczMzk4LjA4NDEwODYsIHsiYXV0aGVudGljYXRpb24iOiBudWxsLCAiX2NzcmZ0XyI6ICIwOGNjODMxODVmODU4Yzk2YTdlYTc1ODFiZjBhMDExYjE1MTdiZjBiIiwgImF1dGhfbWV0aG9kIjogImRpbWVuc2lvbnMifV0\n"
   ]
  },
  {
   "cell_type": "code",
   "execution_count": 64,
   "metadata": {},
   "outputs": [
    {
     "ename": "JSONDecodeError",
     "evalue": "Expecting value: line 1 column 1 (char 0)",
     "output_type": "error",
     "traceback": [
      "\u001b[1;31m---------------------------------------------------------------------------\u001b[0m",
      "\u001b[1;31mJSONDecodeError\u001b[0m                           Traceback (most recent call last)",
      "File \u001b[1;32mc:\\Users\\snappshop\\AppData\\Local\\Programs\\Python\\Python312\\Lib\\site-packages\\requests\\models.py:971\u001b[0m, in \u001b[0;36mResponse.json\u001b[1;34m(self, **kwargs)\u001b[0m\n\u001b[0;32m    970\u001b[0m \u001b[38;5;28;01mtry\u001b[39;00m:\n\u001b[1;32m--> 971\u001b[0m     \u001b[38;5;28;01mreturn\u001b[39;00m \u001b[43mcomplexjson\u001b[49m\u001b[38;5;241;43m.\u001b[39;49m\u001b[43mloads\u001b[49m\u001b[43m(\u001b[49m\u001b[38;5;28;43mself\u001b[39;49m\u001b[38;5;241;43m.\u001b[39;49m\u001b[43mtext\u001b[49m\u001b[43m,\u001b[49m\u001b[43m \u001b[49m\u001b[38;5;241;43m*\u001b[39;49m\u001b[38;5;241;43m*\u001b[39;49m\u001b[43mkwargs\u001b[49m\u001b[43m)\u001b[49m\n\u001b[0;32m    972\u001b[0m \u001b[38;5;28;01mexcept\u001b[39;00m JSONDecodeError \u001b[38;5;28;01mas\u001b[39;00m e:\n\u001b[0;32m    973\u001b[0m     \u001b[38;5;66;03m# Catch JSON-related errors and raise as requests.JSONDecodeError\u001b[39;00m\n\u001b[0;32m    974\u001b[0m     \u001b[38;5;66;03m# This aliases json.JSONDecodeError and simplejson.JSONDecodeError\u001b[39;00m\n",
      "File \u001b[1;32mc:\\Users\\snappshop\\AppData\\Local\\Programs\\Python\\Python312\\Lib\\json\\__init__.py:346\u001b[0m, in \u001b[0;36mloads\u001b[1;34m(s, cls, object_hook, parse_float, parse_int, parse_constant, object_pairs_hook, **kw)\u001b[0m\n\u001b[0;32m    343\u001b[0m \u001b[38;5;28;01mif\u001b[39;00m (\u001b[38;5;28mcls\u001b[39m \u001b[38;5;129;01mis\u001b[39;00m \u001b[38;5;28;01mNone\u001b[39;00m \u001b[38;5;129;01mand\u001b[39;00m object_hook \u001b[38;5;129;01mis\u001b[39;00m \u001b[38;5;28;01mNone\u001b[39;00m \u001b[38;5;129;01mand\u001b[39;00m\n\u001b[0;32m    344\u001b[0m         parse_int \u001b[38;5;129;01mis\u001b[39;00m \u001b[38;5;28;01mNone\u001b[39;00m \u001b[38;5;129;01mand\u001b[39;00m parse_float \u001b[38;5;129;01mis\u001b[39;00m \u001b[38;5;28;01mNone\u001b[39;00m \u001b[38;5;129;01mand\u001b[39;00m\n\u001b[0;32m    345\u001b[0m         parse_constant \u001b[38;5;129;01mis\u001b[39;00m \u001b[38;5;28;01mNone\u001b[39;00m \u001b[38;5;129;01mand\u001b[39;00m object_pairs_hook \u001b[38;5;129;01mis\u001b[39;00m \u001b[38;5;28;01mNone\u001b[39;00m \u001b[38;5;129;01mand\u001b[39;00m \u001b[38;5;129;01mnot\u001b[39;00m kw):\n\u001b[1;32m--> 346\u001b[0m     \u001b[38;5;28;01mreturn\u001b[39;00m \u001b[43m_default_decoder\u001b[49m\u001b[38;5;241;43m.\u001b[39;49m\u001b[43mdecode\u001b[49m\u001b[43m(\u001b[49m\u001b[43ms\u001b[49m\u001b[43m)\u001b[49m\n\u001b[0;32m    347\u001b[0m \u001b[38;5;28;01mif\u001b[39;00m \u001b[38;5;28mcls\u001b[39m \u001b[38;5;129;01mis\u001b[39;00m \u001b[38;5;28;01mNone\u001b[39;00m:\n",
      "File \u001b[1;32mc:\\Users\\snappshop\\AppData\\Local\\Programs\\Python\\Python312\\Lib\\json\\decoder.py:337\u001b[0m, in \u001b[0;36mJSONDecoder.decode\u001b[1;34m(self, s, _w)\u001b[0m\n\u001b[0;32m    333\u001b[0m \u001b[38;5;250m\u001b[39m\u001b[38;5;124;03m\"\"\"Return the Python representation of ``s`` (a ``str`` instance\u001b[39;00m\n\u001b[0;32m    334\u001b[0m \u001b[38;5;124;03mcontaining a JSON document).\u001b[39;00m\n\u001b[0;32m    335\u001b[0m \n\u001b[0;32m    336\u001b[0m \u001b[38;5;124;03m\"\"\"\u001b[39;00m\n\u001b[1;32m--> 337\u001b[0m obj, end \u001b[38;5;241m=\u001b[39m \u001b[38;5;28;43mself\u001b[39;49m\u001b[38;5;241;43m.\u001b[39;49m\u001b[43mraw_decode\u001b[49m\u001b[43m(\u001b[49m\u001b[43ms\u001b[49m\u001b[43m,\u001b[49m\u001b[43m \u001b[49m\u001b[43midx\u001b[49m\u001b[38;5;241;43m=\u001b[39;49m\u001b[43m_w\u001b[49m\u001b[43m(\u001b[49m\u001b[43ms\u001b[49m\u001b[43m,\u001b[49m\u001b[43m \u001b[49m\u001b[38;5;241;43m0\u001b[39;49m\u001b[43m)\u001b[49m\u001b[38;5;241;43m.\u001b[39;49m\u001b[43mend\u001b[49m\u001b[43m(\u001b[49m\u001b[43m)\u001b[49m\u001b[43m)\u001b[49m\n\u001b[0;32m    338\u001b[0m end \u001b[38;5;241m=\u001b[39m _w(s, end)\u001b[38;5;241m.\u001b[39mend()\n",
      "File \u001b[1;32mc:\\Users\\snappshop\\AppData\\Local\\Programs\\Python\\Python312\\Lib\\json\\decoder.py:355\u001b[0m, in \u001b[0;36mJSONDecoder.raw_decode\u001b[1;34m(self, s, idx)\u001b[0m\n\u001b[0;32m    354\u001b[0m \u001b[38;5;28;01mexcept\u001b[39;00m \u001b[38;5;167;01mStopIteration\u001b[39;00m \u001b[38;5;28;01mas\u001b[39;00m err:\n\u001b[1;32m--> 355\u001b[0m     \u001b[38;5;28;01mraise\u001b[39;00m JSONDecodeError(\u001b[38;5;124m\"\u001b[39m\u001b[38;5;124mExpecting value\u001b[39m\u001b[38;5;124m\"\u001b[39m, s, err\u001b[38;5;241m.\u001b[39mvalue) \u001b[38;5;28;01mfrom\u001b[39;00m \u001b[38;5;28;01mNone\u001b[39;00m\n\u001b[0;32m    356\u001b[0m \u001b[38;5;28;01mreturn\u001b[39;00m obj, end\n",
      "\u001b[1;31mJSONDecodeError\u001b[0m: Expecting value: line 1 column 1 (char 0)",
      "\nDuring handling of the above exception, another exception occurred:\n",
      "\u001b[1;31mJSONDecodeError\u001b[0m                           Traceback (most recent call last)",
      "Cell \u001b[1;32mIn[64], line 1\u001b[0m\n\u001b[1;32m----> 1\u001b[0m \u001b[43mresponse3\u001b[49m\u001b[38;5;241;43m.\u001b[39;49m\u001b[43mjson\u001b[49m\u001b[43m(\u001b[49m\u001b[43m)\u001b[49m\n",
      "File \u001b[1;32mc:\\Users\\snappshop\\AppData\\Local\\Programs\\Python\\Python312\\Lib\\site-packages\\requests\\models.py:975\u001b[0m, in \u001b[0;36mResponse.json\u001b[1;34m(self, **kwargs)\u001b[0m\n\u001b[0;32m    971\u001b[0m     \u001b[38;5;28;01mreturn\u001b[39;00m complexjson\u001b[38;5;241m.\u001b[39mloads(\u001b[38;5;28mself\u001b[39m\u001b[38;5;241m.\u001b[39mtext, \u001b[38;5;241m*\u001b[39m\u001b[38;5;241m*\u001b[39mkwargs)\n\u001b[0;32m    972\u001b[0m \u001b[38;5;28;01mexcept\u001b[39;00m JSONDecodeError \u001b[38;5;28;01mas\u001b[39;00m e:\n\u001b[0;32m    973\u001b[0m     \u001b[38;5;66;03m# Catch JSON-related errors and raise as requests.JSONDecodeError\u001b[39;00m\n\u001b[0;32m    974\u001b[0m     \u001b[38;5;66;03m# This aliases json.JSONDecodeError and simplejson.JSONDecodeError\u001b[39;00m\n\u001b[1;32m--> 975\u001b[0m     \u001b[38;5;28;01mraise\u001b[39;00m RequestsJSONDecodeError(e\u001b[38;5;241m.\u001b[39mmsg, e\u001b[38;5;241m.\u001b[39mdoc, e\u001b[38;5;241m.\u001b[39mpos)\n",
      "\u001b[1;31mJSONDecodeError\u001b[0m: Expecting value: line 1 column 1 (char 0)"
     ]
    }
   ],
   "source": [
    "response3.json()"
   ]
  },
  {
   "cell_type": "code",
   "execution_count": 66,
   "metadata": {},
   "outputs": [
    {
     "data": {
      "text/plain": [
       "''"
      ]
     },
     "execution_count": 66,
     "metadata": {},
     "output_type": "execute_result"
    }
   ],
   "source": [
    "response3.text"
   ]
  },
  {
   "cell_type": "markdown",
   "metadata": {},
   "source": [
    "last"
   ]
  },
  {
   "cell_type": "markdown",
   "metadata": {},
   "source": [
    "Curl"
   ]
  },
  {
   "cell_type": "code",
   "execution_count": 71,
   "metadata": {},
   "outputs": [
    {
     "name": "stdout",
     "output_type": "stream",
     "text": [
      "200\n"
     ]
    }
   ],
   "source": [
    "import requests\n",
    "import json\n",
    "\n",
    "url = \"https://app.dimensions.ai/discover/publication/results.json?np=MLnA0jTB6HlgwxmQUT-HMahedV_jO1_DmkFCnA7qNlfu0fveTwjLLsRO&or_facet_year=2024&or_facet_publication_type=article\"\n",
    "\n",
    "payload = {}\n",
    "headers = {\n",
    "  'Accept': 'application/json',\n",
    "  'Accept-Language': 'en-US,en;q=0.9',\n",
    "  'Cache-Control': 'no-cache, no-store, must-revalidate',\n",
    "  'Connection': 'keep-alive',\n",
    "  'Content-Type': 'application/json',\n",
    "  'Cookie': 'intercom-device-id-ilx5k1fm=99edab8a-a6ab-47e3-bc44-070b8257d181; _gcl_au=1.1.1416844146.1707413904; _gid=GA1.2.1590107742.1707413905; aws-waf-token=7ac190f2-7850-4639-b888-1b60ef0a6171:EQoArSCGj+gJAAAA:kOk/PyXF4Kv75o/biH8ROPm06R/USaobDdV5LJA/9Nh4QR95hnsm4rTI1WIpTDAjDnNJ5mEH7mF0PERX++UXSop6DT+fZxZlXL64D3VAt+3ndFc2tI0wJVAquDGq0QeJWdzgNBATYuDc3Behxb+PWR1OzGV76ePdCcDeOvd2B/KDnc81/+9x5+gjc0jeg4wEnCoBcrbg7Pgwv7IBB9gpUpQ7RrSV0UOByTPD4PyTyrcUcDwhg267eLqe; _ga=GA1.1.1098850320.1707419421; OptanonAlertBoxClosed=2024-02-08T19:10:23.090Z; intercom-session-ilx5k1fm=OUhFbjNVMk94dE1wTnd1Q1dZZ29kSVYxUEpBbjBlSDFkeFk3V041WER0amZmVjQwRklNQ3JOeTF0Z0diRUYzMS0tMHBiR3lKaHRZRGRDZ0FkR21JVVlMdz09--1b4be3a144fda967ae026d7857995995a689701b; _ga_KH7CX71Y5X=GS1.1.1707419421.1.1.1707419475.0.0.0; uber_auth_tkt=45510374bc8e25a87a0bcb0bce1b9228c5da8d3df1e285d7d5ac930e3e638f2ad7e7c3a80effa80c119898dc8355a22e4a0ea597f7cbc5ddec7df98ab92658e065c605b0bi5tYXNoYXlla2hpNDU2QGdtYWlsLmNvbQ%3D%3D!A79bbb7f2e28ab0fc88639fadcb190a!userid_type:b64unicode; uber_auth_tkt=45510374bc8e25a87a0bcb0bce1b9228c5da8d3df1e285d7d5ac930e3e638f2ad7e7c3a80effa80c119898dc8355a22e4a0ea597f7cbc5ddec7df98ab92658e065c605b0bi5tYXNoYXlla2hpNDU2QGdtYWlsLmNvbQ%3D%3D!A79bbb7f2e28ab0fc88639fadcb190a!userid_type:b64unicode; OptanonConsent=isGpcEnabled=0&datestamp=Fri+Feb+09+2024+14%3A51%3A26+GMT%2B0330+(Iran+Standard+Time)&version=202401.2.0&browserGpcFlag=0&isIABGlobal=false&hosts=&consentId=6140ce0d-5f43-490a-afcc-537d77783362&interactionCount=2&landingPath=NotLandingPage&groups=C0001%3A1%2CC0002%3A0%2CC0003%3A0%2CC0004%3A0&AwaitingReconsent=false&geolocation=NL%3BUT; session=zNdxbvjgMvLrEl5qNywT8EbTqDTmfg_eK5r3D9w5UxmRla2WbAILsD6YIoBVI3YNwh6Zl65KzYQ3HhTW73CuglsxNzA3NDc3NzA5LCAxNzA3NDczMzk4LjA4NDEwODYsIHsiYXV0aGVudGljYXRpb24iOiBudWxsLCAiX2NzcmZ0XyI6ICJkYzE3N2ZjZTYyMzI3ZWVlMDIzZmIxNWY4MDI5MDkzOWQwMzIwOTg2IiwgImF1dGhfbWV0aG9kIjogImRpbWVuc2lvbnMifV0; session=AzZE9ZItUvNmDksA0ocnQwYVnKCjw59ka0GS2mvLYZO-fqvMkhrTFBLilTa_TLW-Y6-Sg43fgRg9PB9apsdK6VsxNzA3NDc5NTkyLCAxNzA3NDczMzk4LjA4NDEwODYsIHsiYXV0aGVudGljYXRpb24iOiBudWxsLCAiX2NzcmZ0XyI6ICIwOGNjODMxODVmODU4Yzk2YTdlYTc1ODFiZjBhMDExYjE1MTdiZjBiIiwgImF1dGhfbWV0aG9kIjogImRpbWVuc2lvbnMifV0',\n",
    "  'Expires': '0',\n",
    "  'Operations': 'sticky=rP6jIwDec8LBuNGsdGGOHOIsaJ0r53NmjnNEf7OX',\n",
    "  'Pragma': 'no-cache',\n",
    "  'Referer': 'https://app.dimensions.ai/discover/publication?or_facet_year=2024&or_facet_publication_type=article',\n",
    "  'Sec-Fetch-Dest': 'empty',\n",
    "  'Sec-Fetch-Mode': 'cors',\n",
    "  'Sec-Fetch-Site': 'same-origin',\n",
    "  'User-Agent': 'Mozilla/5.0 (Windows NT 10.0; Win64; x64) AppleWebKit/537.36 (KHTML, like Gecko) Chrome/121.0.0.0 Safari/537.36',\n",
    "  'X-CSRF-Token': 'dc177fce62327eee023fb15f80290939d0320986',\n",
    "  'X-Requested-With': 'XMLHttpRequest',\n",
    "  'sec-ch-ua': '\"Not A(Brand\";v=\"99\", \"Google Chrome\";v=\"121\", \"Chromium\";v=\"121\"',\n",
    "  'sec-ch-ua-mobile': '?0',\n",
    "  'sec-ch-ua-platform': '\"Windows\"'\n",
    "}\n",
    "\n",
    "response = requests.request(\"GET\", url, headers=headers, data=payload)\n",
    "\n",
    "print(response.status_code)\n"
   ]
  },
  {
   "cell_type": "code",
   "execution_count": 73,
   "metadata": {},
   "outputs": [],
   "source": [
    "response.headers.get('Set-Cookie')\n",
    "original = 'session=cAR7SdNkdX32K4DoCrFzFKyZMQ09Hmevtndv3URLC-etLki3AnwU1U4e7taZucB6MZ5C8nqFAz-deRa4MU4msVsxNzA3NDc5NzkzLCAxNzA3NDczMzk4LjA4NDEwODYsIHsiYXV0aGVudGljYXRpb24iOiBudWxsLCAiX2NzcmZ0XyI6ICIwOGNjODMxODVmODU4Yzk2YTdlYTc1ODFiZjBhMDExYjE1MTdiZjBiIiwgImF1dGhfbWV0aG9kIjogImRpbWVuc2lvbnMifV0; Path=/; secure; HttpOnly; SameSite=Lax'\n",
    "clean = 'session=cAR7SdNkdX32K4DoCrFzFKyZMQ09Hmevtndv3URLC-etLki3AnwU1U4e7taZucB6MZ5C8nqFAz-deRa4MU4msVsxNzA3NDc5NzkzLCAxNzA3NDczMzk4LjA4NDEwODYsIHsiYXV0aGVudGljYXRpb24iOiBudWxsLCAiX2NzcmZ0XyI6ICIwOGNjODMxODVmODU4Yzk2YTdlYTc1ODFiZjBhMDExYjE1MTdiZjBiIiwgImF1dGhfbWV0aG9kIjogImRpbWVuc2lvbnMifV0'"
   ]
  },
  {
   "cell_type": "code",
   "execution_count": 74,
   "metadata": {},
   "outputs": [
    {
     "data": {
      "text/plain": [
       "'/discover/publication/results.json?np=Mv_95jIj2CKEwF1-cNrzIYVhLIVPwVrpJ_2dnw807gG0GHduG86YPGxk'"
      ]
     },
     "execution_count": 74,
     "metadata": {},
     "output_type": "execute_result"
    }
   ],
   "source": [
    "data = response.json()\n",
    "data['navigation']['results_json']"
   ]
  },
  {
   "cell_type": "code",
   "execution_count": 75,
   "metadata": {},
   "outputs": [
    {
     "data": {
      "text/plain": [
       "'https://app.dimensions.ai/discover/publication/results.json?np=Mv_95jIj2CKEwF1-cNrzIYVhLIVPwVrpJ_2dnw807gG0GHduG86YPGxk&or_facet_year=2024&or_facet_publication_type=article'"
      ]
     },
     "execution_count": 75,
     "metadata": {},
     "output_type": "execute_result"
    }
   ],
   "source": [
    "url = f\"https://app.dimensions.ai{data['navigation']['results_json']}&or_facet_year=2024&or_facet_publication_type=article\"\n",
    "url"
   ]
  },
  {
   "cell_type": "code",
   "execution_count": 76,
   "metadata": {},
   "outputs": [
    {
     "data": {
      "text/plain": [
       "'intercom-device-id-ilx5k1fm=99edab8a-a6ab-47e3-bc44-070b8257d181; _gcl_au=1.1.1416844146.1707413904; _gid=GA1.2.1590107742.1707413905; aws-waf-token=7ac190f2-7850-4639-b888-1b60ef0a6171:EQoArSCGj+gJAAAA:kOk/PyXF4Kv75o/biH8ROPm06R/USaobDdV5LJA/9Nh4QR95hnsm4rTI1WIpTDAjDnNJ5mEH7mF0PERX++UXSop6DT+fZxZlXL64D3VAt+3ndFc2tI0wJVAquDGq0QeJWdzgNBATYuDc3Behxb+PWR1OzGV76ePdCcDeOvd2B/KDnc81/+9x5+gjc0jeg4wEnCoBcrbg7Pgwv7IBB9gpUpQ7RrSV0UOByTPD4PyTyrcUcDwhg267eLqe; _ga=GA1.1.1098850320.1707419421; OptanonAlertBoxClosed=2024-02-08T19:10:23.090Z; intercom-session-ilx5k1fm=OUhFbjNVMk94dE1wTnd1Q1dZZ29kSVYxUEpBbjBlSDFkeFk3V041WER0amZmVjQwRklNQ3JOeTF0Z0diRUYzMS0tMHBiR3lKaHRZRGRDZ0FkR21JVVlMdz09--1b4be3a144fda967ae026d7857995995a689701b; _ga_KH7CX71Y5X=GS1.1.1707419421.1.1.1707419475.0.0.0; uber_auth_tkt=45510374bc8e25a87a0bcb0bce1b9228c5da8d3df1e285d7d5ac930e3e638f2ad7e7c3a80effa80c119898dc8355a22e4a0ea597f7cbc5ddec7df98ab92658e065c605b0bi5tYXNoYXlla2hpNDU2QGdtYWlsLmNvbQ%3D%3D!A79bbb7f2e28ab0fc88639fadcb190a!userid_type:b64unicode; uber_auth_tkt=45510374bc8e25a87a0bcb0bce1b9228c5da8d3df1e285d7d5ac930e3e638f2ad7e7c3a80effa80c119898dc8355a22e4a0ea597f7cbc5ddec7df98ab92658e065c605b0bi5tYXNoYXlla2hpNDU2QGdtYWlsLmNvbQ%3D%3D!A79bbb7f2e28ab0fc88639fadcb190a!userid_type:b64unicode; OptanonConsent=isGpcEnabled=0&datestamp=Fri+Feb+09+2024+14%3A51%3A26+GMT%2B0330+(Iran+Standard+Time)&version=202401.2.0&browserGpcFlag=0&isIABGlobal=false&hosts=&consentId=6140ce0d-5f43-490a-afcc-537d77783362&interactionCount=2&landingPath=NotLandingPage&groups=C0001%3A1%2CC0002%3A0%2CC0003%3A0%2CC0004%3A0&AwaitingReconsent=false&geolocation=NL%3BUT; session=cAR7SdNkdX32K4DoCrFzFKyZMQ09Hmevtndv3URLC-etLki3AnwU1U4e7taZucB6MZ5C8nqFAz-deRa4MU4msVsxNzA3NDc5NzkzLCAxNzA3NDczMzk4LjA4NDEwODYsIHsiYXV0aGVudGljYXRpb24iOiBudWxsLCAiX2NzcmZ0XyI6ICIwOGNjODMxODVmODU4Yzk2YTdlYTc1ODFiZjBhMDExYjE1MTdiZjBiIiwgImF1dGhfbWV0aG9kIjogImRpbWVuc2lvbnMifV0'"
      ]
     },
     "execution_count": 76,
     "metadata": {},
     "output_type": "execute_result"
    }
   ],
   "source": [
    "origin_cookie ='intercom-device-id-ilx5k1fm=99edab8a-a6ab-47e3-bc44-070b8257d181; _gcl_au=1.1.1416844146.1707413904; _gid=GA1.2.1590107742.1707413905; aws-waf-token=7ac190f2-7850-4639-b888-1b60ef0a6171:EQoArSCGj+gJAAAA:kOk/PyXF4Kv75o/biH8ROPm06R/USaobDdV5LJA/9Nh4QR95hnsm4rTI1WIpTDAjDnNJ5mEH7mF0PERX++UXSop6DT+fZxZlXL64D3VAt+3ndFc2tI0wJVAquDGq0QeJWdzgNBATYuDc3Behxb+PWR1OzGV76ePdCcDeOvd2B/KDnc81/+9x5+gjc0jeg4wEnCoBcrbg7Pgwv7IBB9gpUpQ7RrSV0UOByTPD4PyTyrcUcDwhg267eLqe; _ga=GA1.1.1098850320.1707419421; OptanonAlertBoxClosed=2024-02-08T19:10:23.090Z; intercom-session-ilx5k1fm=OUhFbjNVMk94dE1wTnd1Q1dZZ29kSVYxUEpBbjBlSDFkeFk3V041WER0amZmVjQwRklNQ3JOeTF0Z0diRUYzMS0tMHBiR3lKaHRZRGRDZ0FkR21JVVlMdz09--1b4be3a144fda967ae026d7857995995a689701b; _ga_KH7CX71Y5X=GS1.1.1707419421.1.1.1707419475.0.0.0; uber_auth_tkt=45510374bc8e25a87a0bcb0bce1b9228c5da8d3df1e285d7d5ac930e3e638f2ad7e7c3a80effa80c119898dc8355a22e4a0ea597f7cbc5ddec7df98ab92658e065c605b0bi5tYXNoYXlla2hpNDU2QGdtYWlsLmNvbQ%3D%3D!A79bbb7f2e28ab0fc88639fadcb190a!userid_type:b64unicode; uber_auth_tkt=45510374bc8e25a87a0bcb0bce1b9228c5da8d3df1e285d7d5ac930e3e638f2ad7e7c3a80effa80c119898dc8355a22e4a0ea597f7cbc5ddec7df98ab92658e065c605b0bi5tYXNoYXlla2hpNDU2QGdtYWlsLmNvbQ%3D%3D!A79bbb7f2e28ab0fc88639fadcb190a!userid_type:b64unicode; OptanonConsent=isGpcEnabled=0&datestamp=Fri+Feb+09+2024+14%3A51%3A26+GMT%2B0330+(Iran+Standard+Time)&version=202401.2.0&browserGpcFlag=0&isIABGlobal=false&hosts=&consentId=6140ce0d-5f43-490a-afcc-537d77783362&interactionCount=2&landingPath=NotLandingPage&groups=C0001%3A1%2CC0002%3A0%2CC0003%3A0%2CC0004%3A0&AwaitingReconsent=false&geolocation=NL%3BUT; session=zNdxbvjgMvLrEl5qNywT8EbTqDTmfg_eK5r3D9w5UxmRla2WbAILsD6YIoBVI3YNwh6Zl65KzYQ3HhTW73CuglsxNzA3NDc3NzA5LCAxNzA3NDczMzk4LjA4NDEwODYsIHsiYXV0aGVudGljYXRpb24iOiBudWxsLCAiX2NzcmZ0XyI6ICJkYzE3N2ZjZTYyMzI3ZWVlMDIzZmIxNWY4MDI5MDkzOWQwMzIwOTg2IiwgImF1dGhfbWV0aG9kIjogImRpbWVuc2lvbnMifV0; session=AzZE9ZItUvNmDksA0ocnQwYVnKCjw59ka0GS2mvLYZO-fqvMkhrTFBLilTa_TLW-Y6-Sg43fgRg9PB9apsdK6VsxNzA3NDc5NTkyLCAxNzA3NDczMzk4LjA4NDEwODYsIHsiYXV0aGVudGljYXRpb24iOiBudWxsLCAiX2NzcmZ0XyI6ICIwOGNjODMxODVmODU4Yzk2YTdlYTc1ODFiZjBhMDExYjE1MTdiZjBiIiwgImF1dGhfbWV0aG9kIjogImRpbWVuc2lvbnMifV0'\n",
    "session_replace_cookie ='intercom-device-id-ilx5k1fm=99edab8a-a6ab-47e3-bc44-070b8257d181; _gcl_au=1.1.1416844146.1707413904; _gid=GA1.2.1590107742.1707413905; aws-waf-token=7ac190f2-7850-4639-b888-1b60ef0a6171:EQoArSCGj+gJAAAA:kOk/PyXF4Kv75o/biH8ROPm06R/USaobDdV5LJA/9Nh4QR95hnsm4rTI1WIpTDAjDnNJ5mEH7mF0PERX++UXSop6DT+fZxZlXL64D3VAt+3ndFc2tI0wJVAquDGq0QeJWdzgNBATYuDc3Behxb+PWR1OzGV76ePdCcDeOvd2B/KDnc81/+9x5+gjc0jeg4wEnCoBcrbg7Pgwv7IBB9gpUpQ7RrSV0UOByTPD4PyTyrcUcDwhg267eLqe; _ga=GA1.1.1098850320.1707419421; OptanonAlertBoxClosed=2024-02-08T19:10:23.090Z; intercom-session-ilx5k1fm=OUhFbjNVMk94dE1wTnd1Q1dZZ29kSVYxUEpBbjBlSDFkeFk3V041WER0amZmVjQwRklNQ3JOeTF0Z0diRUYzMS0tMHBiR3lKaHRZRGRDZ0FkR21JVVlMdz09--1b4be3a144fda967ae026d7857995995a689701b; _ga_KH7CX71Y5X=GS1.1.1707419421.1.1.1707419475.0.0.0; uber_auth_tkt=45510374bc8e25a87a0bcb0bce1b9228c5da8d3df1e285d7d5ac930e3e638f2ad7e7c3a80effa80c119898dc8355a22e4a0ea597f7cbc5ddec7df98ab92658e065c605b0bi5tYXNoYXlla2hpNDU2QGdtYWlsLmNvbQ%3D%3D!A79bbb7f2e28ab0fc88639fadcb190a!userid_type:b64unicode; uber_auth_tkt=45510374bc8e25a87a0bcb0bce1b9228c5da8d3df1e285d7d5ac930e3e638f2ad7e7c3a80effa80c119898dc8355a22e4a0ea597f7cbc5ddec7df98ab92658e065c605b0bi5tYXNoYXlla2hpNDU2QGdtYWlsLmNvbQ%3D%3D!A79bbb7f2e28ab0fc88639fadcb190a!userid_type:b64unicode; OptanonConsent=isGpcEnabled=0&datestamp=Fri+Feb+09+2024+14%3A51%3A26+GMT%2B0330+(Iran+Standard+Time)&version=202401.2.0&browserGpcFlag=0&isIABGlobal=false&hosts=&consentId=6140ce0d-5f43-490a-afcc-537d77783362&interactionCount=2&landingPath=NotLandingPage&groups=C0001%3A1%2CC0002%3A0%2CC0003%3A0%2CC0004%3A0&AwaitingReconsent=false&geolocation=NL%3BUT; '+clean\n",
    "session_replace_cookie"
   ]
  },
  {
   "cell_type": "code",
   "execution_count": 78,
   "metadata": {},
   "outputs": [
    {
     "data": {
      "text/plain": [
       "{'Accept': 'application/json',\n",
       " 'Accept-Language': 'en-US,en;q=0.9',\n",
       " 'Cache-Control': 'no-cache, no-store, must-revalidate',\n",
       " 'Connection': 'keep-alive',\n",
       " 'Content-Type': 'application/json',\n",
       " 'Cookie': 'intercom-device-id-ilx5k1fm=99edab8a-a6ab-47e3-bc44-070b8257d181; _gcl_au=1.1.1416844146.1707413904; _gid=GA1.2.1590107742.1707413905; aws-waf-token=7ac190f2-7850-4639-b888-1b60ef0a6171:EQoArSCGj+gJAAAA:kOk/PyXF4Kv75o/biH8ROPm06R/USaobDdV5LJA/9Nh4QR95hnsm4rTI1WIpTDAjDnNJ5mEH7mF0PERX++UXSop6DT+fZxZlXL64D3VAt+3ndFc2tI0wJVAquDGq0QeJWdzgNBATYuDc3Behxb+PWR1OzGV76ePdCcDeOvd2B/KDnc81/+9x5+gjc0jeg4wEnCoBcrbg7Pgwv7IBB9gpUpQ7RrSV0UOByTPD4PyTyrcUcDwhg267eLqe; _ga=GA1.1.1098850320.1707419421; OptanonAlertBoxClosed=2024-02-08T19:10:23.090Z; intercom-session-ilx5k1fm=OUhFbjNVMk94dE1wTnd1Q1dZZ29kSVYxUEpBbjBlSDFkeFk3V041WER0amZmVjQwRklNQ3JOeTF0Z0diRUYzMS0tMHBiR3lKaHRZRGRDZ0FkR21JVVlMdz09--1b4be3a144fda967ae026d7857995995a689701b; _ga_KH7CX71Y5X=GS1.1.1707419421.1.1.1707419475.0.0.0; uber_auth_tkt=45510374bc8e25a87a0bcb0bce1b9228c5da8d3df1e285d7d5ac930e3e638f2ad7e7c3a80effa80c119898dc8355a22e4a0ea597f7cbc5ddec7df98ab92658e065c605b0bi5tYXNoYXlla2hpNDU2QGdtYWlsLmNvbQ%3D%3D!A79bbb7f2e28ab0fc88639fadcb190a!userid_type:b64unicode; uber_auth_tkt=45510374bc8e25a87a0bcb0bce1b9228c5da8d3df1e285d7d5ac930e3e638f2ad7e7c3a80effa80c119898dc8355a22e4a0ea597f7cbc5ddec7df98ab92658e065c605b0bi5tYXNoYXlla2hpNDU2QGdtYWlsLmNvbQ%3D%3D!A79bbb7f2e28ab0fc88639fadcb190a!userid_type:b64unicode; OptanonConsent=isGpcEnabled=0&datestamp=Fri+Feb+09+2024+14%3A51%3A26+GMT%2B0330+(Iran+Standard+Time)&version=202401.2.0&browserGpcFlag=0&isIABGlobal=false&hosts=&consentId=6140ce0d-5f43-490a-afcc-537d77783362&interactionCount=2&landingPath=NotLandingPage&groups=C0001%3A1%2CC0002%3A0%2CC0003%3A0%2CC0004%3A0&AwaitingReconsent=false&geolocation=NL%3BUT; session=cAR7SdNkdX32K4DoCrFzFKyZMQ09Hmevtndv3URLC-etLki3AnwU1U4e7taZucB6MZ5C8nqFAz-deRa4MU4msVsxNzA3NDc5NzkzLCAxNzA3NDczMzk4LjA4NDEwODYsIHsiYXV0aGVudGljYXRpb24iOiBudWxsLCAiX2NzcmZ0XyI6ICIwOGNjODMxODVmODU4Yzk2YTdlYTc1ODFiZjBhMDExYjE1MTdiZjBiIiwgImF1dGhfbWV0aG9kIjogImRpbWVuc2lvbnMifV0',\n",
       " 'Expires': '0',\n",
       " 'Operations': 'sticky=rP6jIwDec8LBuNGsdGGOHOIsaJ0r53NmjnNEf7OX',\n",
       " 'Pragma': 'no-cache',\n",
       " 'Referer': 'https://app.dimensions.ai/discover/publication?or_facet_year=2024&or_facet_publication_type=article',\n",
       " 'Sec-Fetch-Dest': 'empty',\n",
       " 'Sec-Fetch-Mode': 'cors',\n",
       " 'Sec-Fetch-Site': 'same-origin',\n",
       " 'User-Agent': 'Mozilla/5.0 (Windows NT 10.0; Win64; x64) AppleWebKit/537.36 (KHTML, like Gecko) Chrome/121.0.0.0 Safari/537.36',\n",
       " 'X-CSRF-Token': 'dc177fce62327eee023fb15f80290939d0320986',\n",
       " 'X-Requested-With': 'XMLHttpRequest',\n",
       " 'sec-ch-ua': '\"Not A(Brand\";v=\"99\", \"Google Chrome\";v=\"121\", \"Chromium\";v=\"121\"',\n",
       " 'sec-ch-ua-mobile': '?0',\n",
       " 'sec-ch-ua-platform': '\"Windows\"'}"
      ]
     },
     "execution_count": 78,
     "metadata": {},
     "output_type": "execute_result"
    }
   ],
   "source": [
    "headers['Cookie'] = session_replace_cookie\n",
    "headers"
   ]
  },
  {
   "cell_type": "code",
   "execution_count": 79,
   "metadata": {},
   "outputs": [
    {
     "name": "stdout",
     "output_type": "stream",
     "text": [
      "200\n"
     ]
    }
   ],
   "source": [
    "response5 = requests.request(\"GET\", url, headers=headers, data=payload)\n",
    "\n",
    "print(response5.status_code)\n"
   ]
  },
  {
   "cell_type": "code",
   "execution_count": 80,
   "metadata": {},
   "outputs": [
    {
     "data": {
      "text/plain": [
       "{'Date': 'Fri, 09 Feb 2024 12:04:57 GMT', 'Content-Type': 'application/json', 'Transfer-Encoding': 'chunked', 'Connection': 'keep-alive', 'Access-Control-Allow-Credentials': 'true', 'Content-Encoding': 'gzip', 'Set-Cookie': 'session=UD-8ITjqgydujpPHF6nhTYsi6gz6X4VgH95RFB4vEwVUcN3uaWsauf0Shvo-8_KlsnExMCeDS3JL_B5h0c0Dt1sxNzA3NDgwMjk3LCAxNzA3NDczMzk4LjA4NDEwODYsIHsiYXV0aGVudGljYXRpb24iOiBudWxsLCAiX2NzcmZ0XyI6ICIwOGNjODMxODVmODU4Yzk2YTdlYTc1ODFiZjBhMDExYjE1MTdiZjBiIiwgImF1dGhfbWV0aG9kIjogImRpbWVuc2lvbnMifV0; Path=/; secure; HttpOnly; SameSite=Lax', 'Vary': 'Accept-Encoding', 'X-Content-Type-Options': 'nosniff', 'X-Frame-Options': 'SAMEORIGIN', 'X-Xss-Protection': '1; mode=block'}"
      ]
     },
     "execution_count": 80,
     "metadata": {},
     "output_type": "execute_result"
    }
   ],
   "source": [
    "response5.headers"
   ]
  },
  {
   "cell_type": "markdown",
   "metadata": {},
   "source": [
    "Automate"
   ]
  },
  {
   "cell_type": "markdown",
   "metadata": {},
   "source": [
    "session"
   ]
  },
  {
   "cell_type": "code",
   "execution_count": 93,
   "metadata": {},
   "outputs": [
    {
     "name": "stdout",
     "output_type": "stream",
     "text": [
      "session=cAR7SdNkdX32K4DoCrFzFKyZMQ09Hmevtndv3URLC-etLki3AnwU1U4e7taZucB6MZ5C8nqFAz-deRa4MU4msVsxNzA3NDc5NzkzLCAxNzA3NDczMzk4LjA4NDEwODYsIHsiYXV0aGVudGljYXRpb24iOiBudWxsLCAiX2NzcmZ0XyI6ICIwOGNjODMxODVmODU4Yzk2YTdlYTc1ODFiZjBhMDExYjE1MTdiZjBiIiwgImF1dGhfbWV0aG9kIjogImRpbWVuc2lvbnMifV0\n"
     ]
    }
   ],
   "source": [
    "def clean_session(original):\n",
    "    parts = original.split(';')\n",
    "    clean_parts = [part.strip() for part in parts if not any(attr in part.lower() for attr in ['httponly', 'secure', 'samesite', 'path=/'])]\n",
    "    clean_cookie = '; '.join(clean_parts)\n",
    "    return clean_cookie\n",
    "\n",
    "# Example usage:\n",
    "original = 'session=cAR7SdNkdX32K4DoCrFzFKyZMQ09Hmevtndv3URLC-etLki3AnwU1U4e7taZucB6MZ5C8nqFAz-deRa4MU4msVsxNzA3NDc5NzkzLCAxNzA3NDczMzk4LjA4NDEwODYsIHsiYXV0aGVudGljYXRpb24iOiBudWxsLCAiX2NzcmZ0XyI6ICIwOGNjODMxODVmODU4Yzk2YTdlYTc1ODFiZjBhMDExYjE1MTdiZjBiIiwgImF1dGhfbWV0aG9kIjogImRpbWVuc2lvbnMifV0; Path=/; secure; HttpOnly; SameSite=Lax'\n",
    "#  original = response.headers.get('Set-Cookie')\n",
    "clean = clean_session(original)\n",
    "print(clean)\n"
   ]
  },
  {
   "cell_type": "markdown",
   "metadata": {},
   "source": [
    "cookie"
   ]
  },
  {
   "cell_type": "code",
   "execution_count": 94,
   "metadata": {},
   "outputs": [
    {
     "data": {
      "text/plain": [
       "'intercom-device-id-ilx5k1fm=99edab8a-a6ab-47e3-bc44-070b8257d181; _gcl_au=1.1.1416844146.1707413904; _gid=GA1.2.1590107742.1707413905; aws-waf-token=7ac190f2-7850-4639-b888-1b60ef0a6171:EQoArSCGj+gJAAAA:kOk/PyXF4Kv75o/biH8ROPm06R/USaobDdV5LJA/9Nh4QR95hnsm4rTI1WIpTDAjDnNJ5mEH7mF0PERX++UXSop6DT+fZxZlXL64D3VAt+3ndFc2tI0wJVAquDGq0QeJWdzgNBATYuDc3Behxb+PWR1OzGV76ePdCcDeOvd2B/KDnc81/+9x5+gjc0jeg4wEnCoBcrbg7Pgwv7IBB9gpUpQ7RrSV0UOByTPD4PyTyrcUcDwhg267eLqe; _ga=GA1.1.1098850320.1707419421; OptanonAlertBoxClosed=2024-02-08T19:10:23.090Z; intercom-session-ilx5k1fm=OUhFbjNVMk94dE1wTnd1Q1dZZ29kSVYxUEpBbjBlSDFkeFk3V041WER0amZmVjQwRklNQ3JOeTF0Z0diRUYzMS0tMHBiR3lKaHRZRGRDZ0FkR21JVVlMdz09--1b4be3a144fda967ae026d7857995995a689701b; _ga_KH7CX71Y5X=GS1.1.1707419421.1.1.1707419475.0.0.0; uber_auth_tkt=45510374bc8e25a87a0bcb0bce1b9228c5da8d3df1e285d7d5ac930e3e638f2ad7e7c3a80effa80c119898dc8355a22e4a0ea597f7cbc5ddec7df98ab92658e065c605b0bi5tYXNoYXlla2hpNDU2QGdtYWlsLmNvbQ%3D%3D!A79bbb7f2e28ab0fc88639fadcb190a!userid_type:b64unicode; uber_auth_tkt=45510374bc8e25a87a0bcb0bce1b9228c5da8d3df1e285d7d5ac930e3e638f2ad7e7c3a80effa80c119898dc8355a22e4a0ea597f7cbc5ddec7df98ab92658e065c605b0bi5tYXNoYXlla2hpNDU2QGdtYWlsLmNvbQ%3D%3D!A79bbb7f2e28ab0fc88639fadcb190a!userid_type:b64unicode; OptanonConsent=isGpcEnabled=0&datestamp=Fri+Feb+09+2024+14%3A51%3A26+GMT%2B0330+(Iran+Standard+Time)&version=202401.2.0&browserGpcFlag=0&isIABGlobal=false&hosts=&consentId=6140ce0d-5f43-490a-afcc-537d77783362&interactionCount=2&landingPath=NotLandingPage&groups=C0001%3A1%2CC0002%3A0%2CC0003%3A0%2CC0004%3A0&AwaitingReconsent=false&geolocation=NL%3BUT; '"
      ]
     },
     "execution_count": 94,
     "metadata": {},
     "output_type": "execute_result"
    }
   ],
   "source": [
    "import re\n",
    "\n",
    "def replace_cookie(cookie_string):\n",
    "    session_replace_cookie = re.sub(r'(session=[^;]*);.*', r'\\1', cookie_string)\n",
    "    cookies = session_replace_cookie.split('; ')\n",
    "    filtered_cookies = [cookie for cookie in cookies if 'session=' not in cookie]\n",
    "    return '; '.join(filtered_cookies) + '; '\n",
    "\n",
    "origin_cookie ='intercom-device-id-ilx5k1fm=99edab8a-a6ab-47e3-bc44-070b8257d181; _gcl_au=1.1.1416844146.1707413904; _gid=GA1.2.1590107742.1707413905; aws-waf-token=7ac190f2-7850-4639-b888-1b60ef0a6171:EQoArSCGj+gJAAAA:kOk/PyXF4Kv75o/biH8ROPm06R/USaobDdV5LJA/9Nh4QR95hnsm4rTI1WIpTDAjDnNJ5mEH7mF0PERX++UXSop6DT+fZxZlXL64D3VAt+3ndFc2tI0wJVAquDGq0QeJWdzgNBATYuDc3Behxb+PWR1OzGV76ePdCcDeOvd2B/KDnc81/+9x5+gjc0jeg4wEnCoBcrbg7Pgwv7IBB9gpUpQ7RrSV0UOByTPD4PyTyrcUcDwhg267eLqe; _ga=GA1.1.1098850320.1707419421; OptanonAlertBoxClosed=2024-02-08T19:10:23.090Z; intercom-session-ilx5k1fm=OUhFbjNVMk94dE1wTnd1Q1dZZ29kSVYxUEpBbjBlSDFkeFk3V041WER0amZmVjQwRklNQ3JOeTF0Z0diRUYzMS0tMHBiR3lKaHRZRGRDZ0FkR21JVVlMdz09--1b4be3a144fda967ae026d7857995995a689701b; _ga_KH7CX71Y5X=GS1.1.1707419421.1.1.1707419475.0.0.0; uber_auth_tkt=45510374bc8e25a87a0bcb0bce1b9228c5da8d3df1e285d7d5ac930e3e638f2ad7e7c3a80effa80c119898dc8355a22e4a0ea597f7cbc5ddec7df98ab92658e065c605b0bi5tYXNoYXlla2hpNDU2QGdtYWlsLmNvbQ%3D%3D!A79bbb7f2e28ab0fc88639fadcb190a!userid_type:b64unicode; uber_auth_tkt=45510374bc8e25a87a0bcb0bce1b9228c5da8d3df1e285d7d5ac930e3e638f2ad7e7c3a80effa80c119898dc8355a22e4a0ea597f7cbc5ddec7df98ab92658e065c605b0bi5tYXNoYXlla2hpNDU2QGdtYWlsLmNvbQ%3D%3D!A79bbb7f2e28ab0fc88639fadcb190a!userid_type:b64unicode; OptanonConsent=isGpcEnabled=0&datestamp=Fri+Feb+09+2024+14%3A51%3A26+GMT%2B0330+(Iran+Standard+Time)&version=202401.2.0&browserGpcFlag=0&isIABGlobal=false&hosts=&consentId=6140ce0d-5f43-490a-afcc-537d77783362&interactionCount=2&landingPath=NotLandingPage&groups=C0001%3A1%2CC0002%3A0%2CC0003%3A0%2CC0004%3A0&AwaitingReconsent=false&geolocation=NL%3BUT; session=zNdxbvjgMvLrEl5qNywT8EbTqDTmfg_eK5r3D9w5UxmRla2WbAILsD6YIoBVI3YNwh6Zl65KzYQ3HhTW73CuglsxNzA3NDc3NzA5LCAxNzA3NDczMzk4LjA4NDEwODYsIHsiYXV0aGVudGljYXRpb24iOiBudWxsLCAiX2NzcmZ0XyI6ICJkYzE3N2ZjZTYyMzI3ZWVlMDIzZmIxNWY4MDI5MDkzOWQwMzIwOTg2IiwgImF1dGhfbWV0aG9kIjogImRpbWVuc2lvbnMifV0; session=AzZE9ZItUvNmDksA0ocnQwYVnKCjw59ka0GS2mvLYZO-fqvMkhrTFBLilTa_TLW-Y6-Sg43fgRg9PB9apsdK6VsxNzA3NDc5NTkyLCAxNzA3NDczMzk4LjA4NDEwODYsIHsiYXV0aGVudGljYXRpb24iOiBudWxsLCAiX2NzcmZ0XyI6ICIwOGNjODMxODVmODU4Yzk2YTdlYTc1ODFiZjBhMDExYjE1MTdiZjBiIiwgImF1dGhfbWV0aG9kIjogImRpbWVuc2lvbnMifV0'\n",
    "final = replace_cookie(origin_cookie)\n",
    "final"
   ]
  },
  {
   "cell_type": "code",
   "execution_count": 95,
   "metadata": {},
   "outputs": [
    {
     "name": "stdout",
     "output_type": "stream",
     "text": [
      "intercom-device-id-ilx5k1fm=99edab8a-a6ab-47e3-bc44-070b8257d181; _gcl_au=1.1.1416844146.1707413904; _gid=GA1.2.1590107742.1707413905; aws-waf-token=7ac190f2-7850-4639-b888-1b60ef0a6171:EQoArSCGj+gJAAAA:kOk/PyXF4Kv75o/biH8ROPm06R/USaobDdV5LJA/9Nh4QR95hnsm4rTI1WIpTDAjDnNJ5mEH7mF0PERX++UXSop6DT+fZxZlXL64D3VAt+3ndFc2tI0wJVAquDGq0QeJWdzgNBATYuDc3Behxb+PWR1OzGV76ePdCcDeOvd2B/KDnc81/+9x5+gjc0jeg4wEnCoBcrbg7Pgwv7IBB9gpUpQ7RrSV0UOByTPD4PyTyrcUcDwhg267eLqe; _ga=GA1.1.1098850320.1707419421; OptanonAlertBoxClosed=2024-02-08T19:10:23.090Z; intercom-session-ilx5k1fm=OUhFbjNVMk94dE1wTnd1Q1dZZ29kSVYxUEpBbjBlSDFkeFk3V041WER0amZmVjQwRklNQ3JOeTF0Z0diRUYzMS0tMHBiR3lKaHRZRGRDZ0FkR21JVVlMdz09--1b4be3a144fda967ae026d7857995995a689701b; _ga_KH7CX71Y5X=GS1.1.1707419421.1.1.1707419475.0.0.0; uber_auth_tkt=45510374bc8e25a87a0bcb0bce1b9228c5da8d3df1e285d7d5ac930e3e638f2ad7e7c3a80effa80c119898dc8355a22e4a0ea597f7cbc5ddec7df98ab92658e065c605b0bi5tYXNoYXlla2hpNDU2QGdtYWlsLmNvbQ%3D%3D!A79bbb7f2e28ab0fc88639fadcb190a!userid_type:b64unicode; uber_auth_tkt=45510374bc8e25a87a0bcb0bce1b9228c5da8d3df1e285d7d5ac930e3e638f2ad7e7c3a80effa80c119898dc8355a22e4a0ea597f7cbc5ddec7df98ab92658e065c605b0bi5tYXNoYXlla2hpNDU2QGdtYWlsLmNvbQ%3D%3D!A79bbb7f2e28ab0fc88639fadcb190a!userid_type:b64unicode; OptanonConsent=isGpcEnabled=0&datestamp=Fri+Feb+09+2024+14%3A51%3A26+GMT%2B0330+(Iran+Standard+Time)&version=202401.2.0&browserGpcFlag=0&isIABGlobal=false&hosts=&consentId=6140ce0d-5f43-490a-afcc-537d77783362&interactionCount=2&landingPath=NotLandingPage&groups=C0001%3A1%2CC0002%3A0%2CC0003%3A0%2CC0004%3A0&AwaitingReconsent=false&geolocation=NL%3BUT; session=cAR7SdNkdX32K4DoCrFzFKyZMQ09Hmevtndv3URLC-etLki3AnwU1U4e7taZucB6MZ5C8nqFAz-deRa4MU4msVsxNzA3NDc5NzkzLCAxNzA3NDczMzk4LjA4NDEwODYsIHsiYXV0aGVudGljYXRpb24iOiBudWxsLCAiX2NzcmZ0XyI6ICIwOGNjODMxODVmODU4Yzk2YTdlYTc1ODFiZjBhMDExYjE1MTdiZjBiIiwgImF1dGhfbWV0aG9kIjogImRpbWVuc2lvbnMifV0\n"
     ]
    }
   ],
   "source": [
    "def generate_cookie(req_old_cookie, res_new_setcookie):\n",
    "    clean = clean_session(res_new_setcookie)\n",
    "    new_cookie = replace_cookie(req_old_cookie)\n",
    "    return new_cookie + clean\n",
    "\n",
    "# origin_cookie = request_headers.get('Cookie')\n",
    "req_cookie ='intercom-device-id-ilx5k1fm=99edab8a-a6ab-47e3-bc44-070b8257d181; _gcl_au=1.1.1416844146.1707413904; _gid=GA1.2.1590107742.1707413905; aws-waf-token=7ac190f2-7850-4639-b888-1b60ef0a6171:EQoArSCGj+gJAAAA:kOk/PyXF4Kv75o/biH8ROPm06R/USaobDdV5LJA/9Nh4QR95hnsm4rTI1WIpTDAjDnNJ5mEH7mF0PERX++UXSop6DT+fZxZlXL64D3VAt+3ndFc2tI0wJVAquDGq0QeJWdzgNBATYuDc3Behxb+PWR1OzGV76ePdCcDeOvd2B/KDnc81/+9x5+gjc0jeg4wEnCoBcrbg7Pgwv7IBB9gpUpQ7RrSV0UOByTPD4PyTyrcUcDwhg267eLqe; _ga=GA1.1.1098850320.1707419421; OptanonAlertBoxClosed=2024-02-08T19:10:23.090Z; intercom-session-ilx5k1fm=OUhFbjNVMk94dE1wTnd1Q1dZZ29kSVYxUEpBbjBlSDFkeFk3V041WER0amZmVjQwRklNQ3JOeTF0Z0diRUYzMS0tMHBiR3lKaHRZRGRDZ0FkR21JVVlMdz09--1b4be3a144fda967ae026d7857995995a689701b; _ga_KH7CX71Y5X=GS1.1.1707419421.1.1.1707419475.0.0.0; uber_auth_tkt=45510374bc8e25a87a0bcb0bce1b9228c5da8d3df1e285d7d5ac930e3e638f2ad7e7c3a80effa80c119898dc8355a22e4a0ea597f7cbc5ddec7df98ab92658e065c605b0bi5tYXNoYXlla2hpNDU2QGdtYWlsLmNvbQ%3D%3D!A79bbb7f2e28ab0fc88639fadcb190a!userid_type:b64unicode; uber_auth_tkt=45510374bc8e25a87a0bcb0bce1b9228c5da8d3df1e285d7d5ac930e3e638f2ad7e7c3a80effa80c119898dc8355a22e4a0ea597f7cbc5ddec7df98ab92658e065c605b0bi5tYXNoYXlla2hpNDU2QGdtYWlsLmNvbQ%3D%3D!A79bbb7f2e28ab0fc88639fadcb190a!userid_type:b64unicode; OptanonConsent=isGpcEnabled=0&datestamp=Fri+Feb+09+2024+14%3A51%3A26+GMT%2B0330+(Iran+Standard+Time)&version=202401.2.0&browserGpcFlag=0&isIABGlobal=false&hosts=&consentId=6140ce0d-5f43-490a-afcc-537d77783362&interactionCount=2&landingPath=NotLandingPage&groups=C0001%3A1%2CC0002%3A0%2CC0003%3A0%2CC0004%3A0&AwaitingReconsent=false&geolocation=NL%3BUT; session=zNdxbvjgMvLrEl5qNywT8EbTqDTmfg_eK5r3D9w5UxmRla2WbAILsD6YIoBVI3YNwh6Zl65KzYQ3HhTW73CuglsxNzA3NDc3NzA5LCAxNzA3NDczMzk4LjA4NDEwODYsIHsiYXV0aGVudGljYXRpb24iOiBudWxsLCAiX2NzcmZ0XyI6ICJkYzE3N2ZjZTYyMzI3ZWVlMDIzZmIxNWY4MDI5MDkzOWQwMzIwOTg2IiwgImF1dGhfbWV0aG9kIjogImRpbWVuc2lvbnMifV0; session=AzZE9ZItUvNmDksA0ocnQwYVnKCjw59ka0GS2mvLYZO-fqvMkhrTFBLilTa_TLW-Y6-Sg43fgRg9PB9apsdK6VsxNzA3NDc5NTkyLCAxNzA3NDczMzk4LjA4NDEwODYsIHsiYXV0aGVudGljYXRpb24iOiBudWxsLCAiX2NzcmZ0XyI6ICIwOGNjODMxODVmODU4Yzk2YTdlYTc1ODFiZjBhMDExYjE1MTdiZjBiIiwgImF1dGhfbWV0aG9kIjogImRpbWVuc2lvbnMifV0'\n",
    "#  original = response.headers.get('Set-Cookie')\n",
    "res_session = 'session=cAR7SdNkdX32K4DoCrFzFKyZMQ09Hmevtndv3URLC-etLki3AnwU1U4e7taZucB6MZ5C8nqFAz-deRa4MU4msVsxNzA3NDc5NzkzLCAxNzA3NDczMzk4LjA4NDEwODYsIHsiYXV0aGVudGljYXRpb24iOiBudWxsLCAiX2NzcmZ0XyI6ICIwOGNjODMxODVmODU4Yzk2YTdlYTc1ODFiZjBhMDExYjE1MTdiZjBiIiwgImF1dGhfbWV0aG9kIjogImRpbWVuc2lvbnMifV0; Path=/; secure; HttpOnly; SameSite=Lax'\n",
    "\n",
    "new_cookie = generate_cookie(req_cookie, res_session)\n",
    "print(new_cookie)"
   ]
  },
  {
   "cell_type": "markdown",
   "metadata": {},
   "source": [
    "url"
   ]
  },
  {
   "cell_type": "code",
   "execution_count": null,
   "metadata": {},
   "outputs": [],
   "source": [
    "data = response.json()\n",
    "data['navigation']['results_json']\n",
    "url = f\"https://app.dimensions.ai{data['navigation']['results_json']}&or_facet_year=2024&or_facet_publication_type=article\""
   ]
  },
  {
   "cell_type": "markdown",
   "metadata": {},
   "source": [
    "clean automate"
   ]
  },
  {
   "cell_type": "code",
   "execution_count": 96,
   "metadata": {},
   "outputs": [],
   "source": [
    "# new url\n",
    "data = response.json()\n",
    "data['navigation']['results_json']\n",
    "url = f\"https://app.dimensions.ai{data['navigation']['results_json']}&or_facet_year=2024&or_facet_publication_type=article\"\n",
    "\n",
    "def clean_session(original):\n",
    "    parts = original.split(';')\n",
    "    clean_parts = [part.strip() for part in parts if not any(attr in part.lower() for attr in ['httponly', 'secure', 'samesite', 'path=/'])]\n",
    "    clean_cookie = '; '.join(clean_parts)\n",
    "    return clean_cookie\n",
    "\n",
    "def replace_cookie(cookie_string):\n",
    "    session_replace_cookie = re.sub(r'(session=[^;]*);.*', r'\\1', cookie_string)\n",
    "    cookies = session_replace_cookie.split('; ')\n",
    "    filtered_cookies = [cookie for cookie in cookies if 'session=' not in cookie]\n",
    "    return '; '.join(filtered_cookies) + '; '\n",
    "\n",
    "def generate_cookie(req_old_cookie, res_new_setcookie):\n",
    "    clean = clean_session(res_new_setcookie)\n",
    "    new_cookie = replace_cookie(req_old_cookie)\n",
    "    return new_cookie + clean\n",
    "\n",
    "# # origin_cookie = request_headers.get('Cookie')\n",
    "# req_cookie ='intercom-device-id-ilx5k1fm=99edab8a-a6ab-47e3-bc44-070b8257d181; _gcl_au=1.1.1416844146.1707413904; _gid=GA1.2.1590107742.1707413905; aws-waf-token=7ac190f2-7850-4639-b888-1b60ef0a6171:EQoArSCGj+gJAAAA:kOk/PyXF4Kv75o/biH8ROPm06R/USaobDdV5LJA/9Nh4QR95hnsm4rTI1WIpTDAjDnNJ5mEH7mF0PERX++UXSop6DT+fZxZlXL64D3VAt+3ndFc2tI0wJVAquDGq0QeJWdzgNBATYuDc3Behxb+PWR1OzGV76ePdCcDeOvd2B/KDnc81/+9x5+gjc0jeg4wEnCoBcrbg7Pgwv7IBB9gpUpQ7RrSV0UOByTPD4PyTyrcUcDwhg267eLqe; _ga=GA1.1.1098850320.1707419421; OptanonAlertBoxClosed=2024-02-08T19:10:23.090Z; intercom-session-ilx5k1fm=OUhFbjNVMk94dE1wTnd1Q1dZZ29kSVYxUEpBbjBlSDFkeFk3V041WER0amZmVjQwRklNQ3JOeTF0Z0diRUYzMS0tMHBiR3lKaHRZRGRDZ0FkR21JVVlMdz09--1b4be3a144fda967ae026d7857995995a689701b; _ga_KH7CX71Y5X=GS1.1.1707419421.1.1.1707419475.0.0.0; uber_auth_tkt=45510374bc8e25a87a0bcb0bce1b9228c5da8d3df1e285d7d5ac930e3e638f2ad7e7c3a80effa80c119898dc8355a22e4a0ea597f7cbc5ddec7df98ab92658e065c605b0bi5tYXNoYXlla2hpNDU2QGdtYWlsLmNvbQ%3D%3D!A79bbb7f2e28ab0fc88639fadcb190a!userid_type:b64unicode; uber_auth_tkt=45510374bc8e25a87a0bcb0bce1b9228c5da8d3df1e285d7d5ac930e3e638f2ad7e7c3a80effa80c119898dc8355a22e4a0ea597f7cbc5ddec7df98ab92658e065c605b0bi5tYXNoYXlla2hpNDU2QGdtYWlsLmNvbQ%3D%3D!A79bbb7f2e28ab0fc88639fadcb190a!userid_type:b64unicode; OptanonConsent=isGpcEnabled=0&datestamp=Fri+Feb+09+2024+14%3A51%3A26+GMT%2B0330+(Iran+Standard+Time)&version=202401.2.0&browserGpcFlag=0&isIABGlobal=false&hosts=&consentId=6140ce0d-5f43-490a-afcc-537d77783362&interactionCount=2&landingPath=NotLandingPage&groups=C0001%3A1%2CC0002%3A0%2CC0003%3A0%2CC0004%3A0&AwaitingReconsent=false&geolocation=NL%3BUT; session=zNdxbvjgMvLrEl5qNywT8EbTqDTmfg_eK5r3D9w5UxmRla2WbAILsD6YIoBVI3YNwh6Zl65KzYQ3HhTW73CuglsxNzA3NDc3NzA5LCAxNzA3NDczMzk4LjA4NDEwODYsIHsiYXV0aGVudGljYXRpb24iOiBudWxsLCAiX2NzcmZ0XyI6ICJkYzE3N2ZjZTYyMzI3ZWVlMDIzZmIxNWY4MDI5MDkzOWQwMzIwOTg2IiwgImF1dGhfbWV0aG9kIjogImRpbWVuc2lvbnMifV0; session=AzZE9ZItUvNmDksA0ocnQwYVnKCjw59ka0GS2mvLYZO-fqvMkhrTFBLilTa_TLW-Y6-Sg43fgRg9PB9apsdK6VsxNzA3NDc5NTkyLCAxNzA3NDczMzk4LjA4NDEwODYsIHsiYXV0aGVudGljYXRpb24iOiBudWxsLCAiX2NzcmZ0XyI6ICIwOGNjODMxODVmODU4Yzk2YTdlYTc1ODFiZjBhMDExYjE1MTdiZjBiIiwgImF1dGhfbWV0aG9kIjogImRpbWVuc2lvbnMifV0'\n",
    "# #  original = response.headers.get('Set-Cookie')\n",
    "# res_session = 'session=cAR7SdNkdX32K4DoCrFzFKyZMQ09Hmevtndv3URLC-etLki3AnwU1U4e7taZucB6MZ5C8nqFAz-deRa4MU4msVsxNzA3NDc5NzkzLCAxNzA3NDczMzk4LjA4NDEwODYsIHsiYXV0aGVudGljYXRpb24iOiBudWxsLCAiX2NzcmZ0XyI6ICIwOGNjODMxODVmODU4Yzk2YTdlYTc1ODFiZjBhMDExYjE1MTdiZjBiIiwgImF1dGhfbWV0aG9kIjogImRpbWVuc2lvbnMifV0; Path=/; secure; HttpOnly; SameSite=Lax'\n",
    "\n",
    "# new_cookie = generate_cookie(req_cookie, res_session)\n",
    "# print(new_cookie)"
   ]
  },
  {
   "cell_type": "markdown",
   "metadata": {},
   "source": [
    "test automate"
   ]
  },
  {
   "cell_type": "code",
   "execution_count": 97,
   "metadata": {},
   "outputs": [
    {
     "name": "stdout",
     "output_type": "stream",
     "text": [
      "200\n"
     ]
    }
   ],
   "source": [
    "import requests\n",
    "import json\n",
    "\n",
    "url = \"https://app.dimensions.ai/discover/publication/results.json?np=1i-9nOmwgJDtexeyyZ6WqErx4n8icVnFdN4J4ge_9bFdvBfA7dt2QEyr&or_facet_year=2024&or_facet_publication_type=article\"\n",
    "\n",
    "payload = {}\n",
    "headers = {\n",
    "  'Accept': 'application/json',\n",
    "  'Accept-Language': 'en-US,en;q=0.9',\n",
    "  'Cache-Control': 'no-cache, no-store, must-revalidate',\n",
    "  'Connection': 'keep-alive',\n",
    "  'Content-Type': 'application/json',\n",
    "  'Cookie': 'intercom-device-id-ilx5k1fm=99edab8a-a6ab-47e3-bc44-070b8257d181; _gcl_au=1.1.1416844146.1707413904; _gid=GA1.2.1590107742.1707413905; aws-waf-token=7ac190f2-7850-4639-b888-1b60ef0a6171:EQoArSCGj+gJAAAA:kOk/PyXF4Kv75o/biH8ROPm06R/USaobDdV5LJA/9Nh4QR95hnsm4rTI1WIpTDAjDnNJ5mEH7mF0PERX++UXSop6DT+fZxZlXL64D3VAt+3ndFc2tI0wJVAquDGq0QeJWdzgNBATYuDc3Behxb+PWR1OzGV76ePdCcDeOvd2B/KDnc81/+9x5+gjc0jeg4wEnCoBcrbg7Pgwv7IBB9gpUpQ7RrSV0UOByTPD4PyTyrcUcDwhg267eLqe; _ga=GA1.1.1098850320.1707419421; OptanonAlertBoxClosed=2024-02-08T19:10:23.090Z; intercom-session-ilx5k1fm=OUhFbjNVMk94dE1wTnd1Q1dZZ29kSVYxUEpBbjBlSDFkeFk3V041WER0amZmVjQwRklNQ3JOeTF0Z0diRUYzMS0tMHBiR3lKaHRZRGRDZ0FkR21JVVlMdz09--1b4be3a144fda967ae026d7857995995a689701b; _ga_KH7CX71Y5X=GS1.1.1707419421.1.1.1707419475.0.0.0; uber_auth_tkt=45510374bc8e25a87a0bcb0bce1b9228c5da8d3df1e285d7d5ac930e3e638f2ad7e7c3a80effa80c119898dc8355a22e4a0ea597f7cbc5ddec7df98ab92658e065c605b0bi5tYXNoYXlla2hpNDU2QGdtYWlsLmNvbQ%3D%3D!A79bbb7f2e28ab0fc88639fadcb190a!userid_type:b64unicode; uber_auth_tkt=45510374bc8e25a87a0bcb0bce1b9228c5da8d3df1e285d7d5ac930e3e638f2ad7e7c3a80effa80c119898dc8355a22e4a0ea597f7cbc5ddec7df98ab92658e065c605b0bi5tYXNoYXlla2hpNDU2QGdtYWlsLmNvbQ%3D%3D!A79bbb7f2e28ab0fc88639fadcb190a!userid_type:b64unicode; OptanonConsent=isGpcEnabled=0&datestamp=Fri+Feb+09+2024+14%3A51%3A26+GMT%2B0330+(Iran+Standard+Time)&version=202401.2.0&browserGpcFlag=0&isIABGlobal=false&hosts=&consentId=6140ce0d-5f43-490a-afcc-537d77783362&interactionCount=2&landingPath=NotLandingPage&groups=C0001%3A1%2CC0002%3A0%2CC0003%3A0%2CC0004%3A0&AwaitingReconsent=false&geolocation=NL%3BUT; session=nzWYBFOW0xjXTc3Gjxx3alao68GAxDYvuEEwjNLDvhML0RJBqDJO2Y3UgTfFchx27HSEy7s0bzEI_CgPmvA03FsxNzA3NDgyODgwLCAxNzA3NDczMzk4LjA4NDEwODYsIHsiYXV0aGVudGljYXRpb24iOiBudWxsLCAiX2NzcmZ0XyI6ICJkYzE3N2ZjZTYyMzI3ZWVlMDIzZmIxNWY4MDI5MDkzOWQwMzIwOTg2IiwgImF1dGhfbWV0aG9kIjogImRpbWVuc2lvbnMifV0; session=eCUPLrHcqVqQG-rNBMF0NN5F0o4xaZW_H3Nuee5rSGEAnxDrkl1eWvSJLGr-WJ9d6uZcj97nH4AMpV8stjkpiVsxNzA3NDgyOTEzLCAxNzA3NDczMzk4LjA4NDEwODYsIHsiYXV0aGVudGljYXRpb24iOiBudWxsLCAiX2NzcmZ0XyI6ICIwOGNjODMxODVmODU4Yzk2YTdlYTc1ODFiZjBhMDExYjE1MTdiZjBiIiwgImF1dGhfbWV0aG9kIjogImRpbWVuc2lvbnMifV0',\n",
    "  'Expires': '0',\n",
    "  'Operations': 'sticky=rP6jIwDec8LBuNGsdGGOHOIsaJ0r53NmjnNEf7OX',\n",
    "  'Pragma': 'no-cache',\n",
    "  'Referer': 'https://app.dimensions.ai/discover/publication?or_facet_year=2024&or_facet_publication_type=article',\n",
    "  'Sec-Fetch-Dest': 'empty',\n",
    "  'Sec-Fetch-Mode': 'cors',\n",
    "  'Sec-Fetch-Site': 'same-origin',\n",
    "  'User-Agent': 'Mozilla/5.0 (Windows NT 10.0; Win64; x64) AppleWebKit/537.36 (KHTML, like Gecko) Chrome/121.0.0.0 Safari/537.36',\n",
    "  'X-CSRF-Token': 'dc177fce62327eee023fb15f80290939d0320986',\n",
    "  'X-Requested-With': 'XMLHttpRequest',\n",
    "  'sec-ch-ua': '\"Not A(Brand\";v=\"99\", \"Google Chrome\";v=\"121\", \"Chromium\";v=\"121\"',\n",
    "  'sec-ch-ua-mobile': '?0',\n",
    "  'sec-ch-ua-platform': '\"Windows\"'\n",
    "}\n",
    "\n",
    "response = requests.request(\"GET\", url, headers=headers, data=payload)\n",
    "\n",
    "print(response.status_code)\n"
   ]
  },
  {
   "cell_type": "code",
   "execution_count": 98,
   "metadata": {},
   "outputs": [
    {
     "name": "stdout",
     "output_type": "stream",
     "text": [
      "https://app.dimensions.ai/discover/publication/results.json?np=PtS88OZBUy5X4eau5GbNmygJxG3VjHpM9QPf1-SQ0vC3cYe8gp2GJ0Gy&or_facet_year=2024&or_facet_publication_type=article\n",
      "intercom-device-id-ilx5k1fm=99edab8a-a6ab-47e3-bc44-070b8257d181; _gcl_au=1.1.1416844146.1707413904; _gid=GA1.2.1590107742.1707413905; aws-waf-token=7ac190f2-7850-4639-b888-1b60ef0a6171:EQoArSCGj+gJAAAA:kOk/PyXF4Kv75o/biH8ROPm06R/USaobDdV5LJA/9Nh4QR95hnsm4rTI1WIpTDAjDnNJ5mEH7mF0PERX++UXSop6DT+fZxZlXL64D3VAt+3ndFc2tI0wJVAquDGq0QeJWdzgNBATYuDc3Behxb+PWR1OzGV76ePdCcDeOvd2B/KDnc81/+9x5+gjc0jeg4wEnCoBcrbg7Pgwv7IBB9gpUpQ7RrSV0UOByTPD4PyTyrcUcDwhg267eLqe; _ga=GA1.1.1098850320.1707419421; OptanonAlertBoxClosed=2024-02-08T19:10:23.090Z; intercom-session-ilx5k1fm=OUhFbjNVMk94dE1wTnd1Q1dZZ29kSVYxUEpBbjBlSDFkeFk3V041WER0amZmVjQwRklNQ3JOeTF0Z0diRUYzMS0tMHBiR3lKaHRZRGRDZ0FkR21JVVlMdz09--1b4be3a144fda967ae026d7857995995a689701b; _ga_KH7CX71Y5X=GS1.1.1707419421.1.1.1707419475.0.0.0; uber_auth_tkt=45510374bc8e25a87a0bcb0bce1b9228c5da8d3df1e285d7d5ac930e3e638f2ad7e7c3a80effa80c119898dc8355a22e4a0ea597f7cbc5ddec7df98ab92658e065c605b0bi5tYXNoYXlla2hpNDU2QGdtYWlsLmNvbQ%3D%3D!A79bbb7f2e28ab0fc88639fadcb190a!userid_type:b64unicode; uber_auth_tkt=45510374bc8e25a87a0bcb0bce1b9228c5da8d3df1e285d7d5ac930e3e638f2ad7e7c3a80effa80c119898dc8355a22e4a0ea597f7cbc5ddec7df98ab92658e065c605b0bi5tYXNoYXlla2hpNDU2QGdtYWlsLmNvbQ%3D%3D!A79bbb7f2e28ab0fc88639fadcb190a!userid_type:b64unicode; OptanonConsent=isGpcEnabled=0&datestamp=Fri+Feb+09+2024+14%3A51%3A26+GMT%2B0330+(Iran+Standard+Time)&version=202401.2.0&browserGpcFlag=0&isIABGlobal=false&hosts=&consentId=6140ce0d-5f43-490a-afcc-537d77783362&interactionCount=2&landingPath=NotLandingPage&groups=C0001%3A1%2CC0002%3A0%2CC0003%3A0%2CC0004%3A0&AwaitingReconsent=false&geolocation=NL%3BUT; session=d-0g3OGiZG0K-xnzQmppBxn92SqjrMBzLa1DMLZX2tSNjjzJK_W98Vt8RqhY6brpKw58L3XKBQWFmbmk3esAq1sxNzA3NDgyOTYyLCAxNzA3NDczMzk4LjA4NDEwODYsIHsiYXV0aGVudGljYXRpb24iOiBudWxsLCAiX2NzcmZ0XyI6ICIwOGNjODMxODVmODU4Yzk2YTdlYTc1ODFiZjBhMDExYjE1MTdiZjBiIiwgImF1dGhfbWV0aG9kIjogImRpbWVuc2lvbnMifV0\n"
     ]
    }
   ],
   "source": [
    "data = response.json()\n",
    "data['navigation']['results_json']\n",
    "url = f\"https://app.dimensions.ai{data['navigation']['results_json']}&or_facet_year=2024&or_facet_publication_type=article\"\n",
    "\n",
    "req_cookie = headers.get('Cookie')\n",
    "res_session = response.headers.get('Set-Cookie')\n",
    "new_cookie = generate_cookie(req_cookie, res_session)\n",
    "headers['Cookie'] = new_cookie"
   ]
  },
  {
   "cell_type": "code",
   "execution_count": 100,
   "metadata": {},
   "outputs": [
    {
     "data": {
      "text/plain": [
       "{'Accept': 'application/json',\n",
       " 'Accept-Language': 'en-US,en;q=0.9',\n",
       " 'Cache-Control': 'no-cache, no-store, must-revalidate',\n",
       " 'Connection': 'keep-alive',\n",
       " 'Content-Type': 'application/json',\n",
       " 'Cookie': 'intercom-device-id-ilx5k1fm=99edab8a-a6ab-47e3-bc44-070b8257d181; _gcl_au=1.1.1416844146.1707413904; _gid=GA1.2.1590107742.1707413905; aws-waf-token=7ac190f2-7850-4639-b888-1b60ef0a6171:EQoArSCGj+gJAAAA:kOk/PyXF4Kv75o/biH8ROPm06R/USaobDdV5LJA/9Nh4QR95hnsm4rTI1WIpTDAjDnNJ5mEH7mF0PERX++UXSop6DT+fZxZlXL64D3VAt+3ndFc2tI0wJVAquDGq0QeJWdzgNBATYuDc3Behxb+PWR1OzGV76ePdCcDeOvd2B/KDnc81/+9x5+gjc0jeg4wEnCoBcrbg7Pgwv7IBB9gpUpQ7RrSV0UOByTPD4PyTyrcUcDwhg267eLqe; _ga=GA1.1.1098850320.1707419421; OptanonAlertBoxClosed=2024-02-08T19:10:23.090Z; intercom-session-ilx5k1fm=OUhFbjNVMk94dE1wTnd1Q1dZZ29kSVYxUEpBbjBlSDFkeFk3V041WER0amZmVjQwRklNQ3JOeTF0Z0diRUYzMS0tMHBiR3lKaHRZRGRDZ0FkR21JVVlMdz09--1b4be3a144fda967ae026d7857995995a689701b; _ga_KH7CX71Y5X=GS1.1.1707419421.1.1.1707419475.0.0.0; uber_auth_tkt=45510374bc8e25a87a0bcb0bce1b9228c5da8d3df1e285d7d5ac930e3e638f2ad7e7c3a80effa80c119898dc8355a22e4a0ea597f7cbc5ddec7df98ab92658e065c605b0bi5tYXNoYXlla2hpNDU2QGdtYWlsLmNvbQ%3D%3D!A79bbb7f2e28ab0fc88639fadcb190a!userid_type:b64unicode; uber_auth_tkt=45510374bc8e25a87a0bcb0bce1b9228c5da8d3df1e285d7d5ac930e3e638f2ad7e7c3a80effa80c119898dc8355a22e4a0ea597f7cbc5ddec7df98ab92658e065c605b0bi5tYXNoYXlla2hpNDU2QGdtYWlsLmNvbQ%3D%3D!A79bbb7f2e28ab0fc88639fadcb190a!userid_type:b64unicode; OptanonConsent=isGpcEnabled=0&datestamp=Fri+Feb+09+2024+14%3A51%3A26+GMT%2B0330+(Iran+Standard+Time)&version=202401.2.0&browserGpcFlag=0&isIABGlobal=false&hosts=&consentId=6140ce0d-5f43-490a-afcc-537d77783362&interactionCount=2&landingPath=NotLandingPage&groups=C0001%3A1%2CC0002%3A0%2CC0003%3A0%2CC0004%3A0&AwaitingReconsent=false&geolocation=NL%3BUT; session=d-0g3OGiZG0K-xnzQmppBxn92SqjrMBzLa1DMLZX2tSNjjzJK_W98Vt8RqhY6brpKw58L3XKBQWFmbmk3esAq1sxNzA3NDgyOTYyLCAxNzA3NDczMzk4LjA4NDEwODYsIHsiYXV0aGVudGljYXRpb24iOiBudWxsLCAiX2NzcmZ0XyI6ICIwOGNjODMxODVmODU4Yzk2YTdlYTc1ODFiZjBhMDExYjE1MTdiZjBiIiwgImF1dGhfbWV0aG9kIjogImRpbWVuc2lvbnMifV0',\n",
       " 'Expires': '0',\n",
       " 'Operations': 'sticky=rP6jIwDec8LBuNGsdGGOHOIsaJ0r53NmjnNEf7OX',\n",
       " 'Pragma': 'no-cache',\n",
       " 'Referer': 'https://app.dimensions.ai/discover/publication?or_facet_year=2024&or_facet_publication_type=article',\n",
       " 'Sec-Fetch-Dest': 'empty',\n",
       " 'Sec-Fetch-Mode': 'cors',\n",
       " 'Sec-Fetch-Site': 'same-origin',\n",
       " 'User-Agent': 'Mozilla/5.0 (Windows NT 10.0; Win64; x64) AppleWebKit/537.36 (KHTML, like Gecko) Chrome/121.0.0.0 Safari/537.36',\n",
       " 'X-CSRF-Token': 'dc177fce62327eee023fb15f80290939d0320986',\n",
       " 'X-Requested-With': 'XMLHttpRequest',\n",
       " 'sec-ch-ua': '\"Not A(Brand\";v=\"99\", \"Google Chrome\";v=\"121\", \"Chromium\";v=\"121\"',\n",
       " 'sec-ch-ua-mobile': '?0',\n",
       " 'sec-ch-ua-platform': '\"Windows\"'}"
      ]
     },
     "execution_count": 100,
     "metadata": {},
     "output_type": "execute_result"
    }
   ],
   "source": [
    "headers['Cookie'] = new_cookie\n",
    "headers"
   ]
  },
  {
   "cell_type": "code",
   "execution_count": 101,
   "metadata": {},
   "outputs": [
    {
     "name": "stdout",
     "output_type": "stream",
     "text": [
      "200\n"
     ]
    }
   ],
   "source": [
    "response = requests.request(\"GET\", url, headers=headers, data=payload)\n",
    "\n",
    "print(response.status_code)"
   ]
  },
  {
   "cell_type": "code",
   "execution_count": null,
   "metadata": {},
   "outputs": [],
   "source": []
  }
 ],
 "metadata": {
  "kernelspec": {
   "display_name": "Python 3",
   "language": "python",
   "name": "python3"
  },
  "language_info": {
   "codemirror_mode": {
    "name": "ipython",
    "version": 3
   },
   "file_extension": ".py",
   "mimetype": "text/x-python",
   "name": "python",
   "nbconvert_exporter": "python",
   "pygments_lexer": "ipython3",
   "version": "3.12.2"
  }
 },
 "nbformat": 4,
 "nbformat_minor": 2
}
