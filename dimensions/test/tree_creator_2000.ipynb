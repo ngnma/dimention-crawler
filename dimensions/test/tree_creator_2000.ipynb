{
 "cells": [
  {
   "cell_type": "code",
   "execution_count": 1,
   "metadata": {},
   "outputs": [
    {
     "name": "stdout",
     "output_type": "stream",
     "text": [
      "{\"facet_bags\": [{\"key\": \"year\", \"label\": \"Publication Year\", \"is_literal\": true, \"values\": [{\"id\": \"1846\", \"count\": 9043, \"details\": {\"label\": \"1846\"}, \"tags\": []}], \"disabled\": false, \"navigation\": {\"browse\": null}, \"with_operation_and\": true}, {\"key\": \"publication_type\", \"label\": \"Publication Type\", \"is_literal\": false, \"values\": [{\"id\": \"article\", \"count\": 9043, \"details\": {\"label\": \"Article\", \"pub_class_id\": \"article\", \"name\": \"Article\"}, \"tags\": []}], \"disabled\": false, \"navigation\": {\"browse\": null}, \"with_operation_and\": true}], \"selected_facets\": {\"year\": [{\"operator\": \"or\", \"values\": [\"1846\"]}], \"publication_type\": [{\"operator\": \"or\", \"values\": [\"article\"]}]}, \"limit\": 10, \"navigation\": {\"json\": \"/facets/publication/filters.json\"}, \"filters_exclude\": false, \"facet_filter_groups_enabled\": false, \"facet_filter_groups_meta\": {}}\n"
     ]
    }
   ],
   "source": [
    "import requests\n",
    "import json\n",
    "\n",
    "url = \"https://app.dimensions.ai/facets/publication/filters.json?or_facet_publication_type=article&or_facet_year=1846&filters=year&filters=publication_type\"\n",
    "\n",
    "payload = {}\n",
    "headers = {\n",
    "  'Accept': 'application/json',\n",
    "  'Accept-Language': 'en-US,en;q=0.9',\n",
    "  'Cache-Control': 'no-cache, no-store, must-revalidate',\n",
    "  'Connection': 'keep-alive',\n",
    "  'Content-Type': 'application/json',\n",
    "  'Cookie': 'intercom-device-id-ilx5k1fm=99edab8a-a6ab-47e3-bc44-070b8257d181; _gcl_au=1.1.1416844146.1707413904; _ga=GA1.1.1098850320.1707419421; OptanonAlertBoxClosed=2024-02-08T19:10:23.090Z; _ga_Y26MGCNDNL=GS1.1.1707497562.1.1.1707498194.0.0.0; intercom-session-ilx5k1fm=RGZER09rMmpFMjlna0RjcWlJcmNmaXI0QnA4Qk9XcVAzOGFZbFRFZ1EwdndvSzR6bkFDM0lxUHdOeEFOVkVGdC0tQ1lRL1UyeVVvRW1mQmtVSnp4RW9oZz09--fa79964d35b160856576c10869311a1071c30b1b; aws-waf-token=fe37ef2f-f227-47e9-b02c-28e13cfdd591:EQoAdtiTsf4CAAAA:qwMeE8QyXyH4ZL8ea0MQeGFNfeM1TDJBq6Uujhm85rjRxqm2HebsPexjRt6kx+MZujWtsSRu7FPLhldC1BVtt3bS2ZODu8xZIsHdwJsm4EDth6XVMxpBruDfTAxKk7yl+USZndF8ivMEPTG0F0Xr/JaklrCIxJzEVpgcLwjMMGarTQIQ7tWD3Vnnwh4ns9koFki3tIeZxTaO1vUafFk6ZjcE7DNuZJV/kbv450OL07bOREiW9AIa9YU5; _ga_KH7CX71Y5X=GS1.1.1707512432.3.0.1707512647.0.0.0; uber_auth_tkt=4f02281fb77889dd70827446e72c53b409535afe6f04a2465267263447b2fe12d841fa13c11165ce7294d6aabfcf642f18761b9f934e52972c3712446984a29665c69356YWFjYzk4MThAZ21haWwuY29t!A7f47b3516942805735b71d30590c7a!userid_type:b64unicode; uber_auth_tkt=4f02281fb77889dd70827446e72c53b409535afe6f04a2465267263447b2fe12d841fa13c11165ce7294d6aabfcf642f18761b9f934e52972c3712446984a29665c69356YWFjYzk4MThAZ21haWwuY29t!A7f47b3516942805735b71d30590c7a!userid_type:b64unicode; OptanonConsent=isGpcEnabled=0&datestamp=Sat+Feb+10+2024+01%3A19%3A24+GMT%2B0330+(Iran+Standard+Time)&version=202401.2.0&browserGpcFlag=0&isIABGlobal=false&hosts=&consentId=6140ce0d-5f43-490a-afcc-537d77783362&interactionCount=2&landingPath=NotLandingPage&groups=C0001%3A1%2CC0002%3A0%2CC0003%3A0%2CC0004%3A0&AwaitingReconsent=false&geolocation=NL%3BUT; session=AwpV_62z9UsXwThZTQp7m3c-IFp6mrWrElf_RqMVA2xytEAMqfi5EvvYVmsj9_IzDpp6NY-SgWBIDdnr0AQbKlsxNzA3NTE2MDIzLCAxNzA3NDk5MzIxLjI4Mjc2NjgsIHsiYXV0aGVudGljYXRpb24iOiBudWxsLCAiX2NzcmZ0XyI6ICJlZTU5NTZiODIyMDJmNzljYWY0MTMwZjQwZWMyNWE3MzRlODM3MzIwIiwgImF1dGhfbWV0aG9kIjogImRpbWVuc2lvbnMifV0; session=8wUqBVqrgFVYbZWAaWyt7I0r9gId1HbOOGRVm4FhC6aaKVjoUDdefzM1kCM6PKqmTjQi4QpkVKiFFWEDbOYWT1sxNzA3NTE2MDY4LCAxNzA3NDczMzk4LjA4NDEwODYsIHsiYXV0aGVudGljYXRpb24iOiBudWxsLCAiX2NzcmZ0XyI6ICIwMjZkZTJmNzY3MWNiOWJmZjg5MWZlMWI4OGE0NWFmOWZhNzI0OTEwIiwgImF1dGhfbWV0aG9kIjogImRpbWVuc2lvbnMifV0',\n",
    "  'Expires': '0',\n",
    "  'Operations': 'sticky=LSsE9GWMB0DkAIhHEv7DMuJeVQNxppSj9IIII3xY',\n",
    "  'Pragma': 'no-cache',\n",
    "  'Referer': 'https://app.dimensions.ai/discover/publication?or_facet_publication_type=article&or_facet_year=1846',\n",
    "  'Sec-Fetch-Dest': 'empty',\n",
    "  'Sec-Fetch-Mode': 'cors',\n",
    "  'Sec-Fetch-Site': 'same-origin',\n",
    "  'User-Agent': 'Mozilla/5.0 (Windows NT 10.0; Win64; x64) AppleWebKit/537.36 (KHTML, like Gecko) Chrome/121.0.0.0 Safari/537.36',\n",
    "  'X-CSRF-Token': 'ee5956b82202f79caf4130f40ec25a734e837320',\n",
    "  'X-Requested-With': 'XMLHttpRequest',\n",
    "  'sec-ch-ua': '\"Not A(Brand\";v=\"99\", \"Google Chrome\";v=\"121\", \"Chromium\";v=\"121\"',\n",
    "  'sec-ch-ua-mobile': '?0',\n",
    "  'sec-ch-ua-platform': '\"Windows\"'\n",
    "}\n",
    "\n",
    "response = requests.request(\"GET\", url, headers=headers, data=payload)\n",
    "\n",
    "print(response.text)\n"
   ]
  },
  {
   "cell_type": "code",
   "execution_count": 5,
   "metadata": {},
   "outputs": [
    {
     "data": {
      "text/plain": [
       "9043"
      ]
     },
     "execution_count": 5,
     "metadata": {},
     "output_type": "execute_result"
    }
   ],
   "source": [
    "data = response.json()\n",
    "return_counts = data.get('facet_bags')[0].get('values')[0].get('count')"
   ]
  },
  {
   "cell_type": "code",
   "execution_count": null,
   "metadata": {},
   "outputs": [],
   "source": [
    "url = \"https://app.dimensions.ai/facets/publication/filters.json?\"\n",
    "or_facet_publication_type=article&or_facet_year=1846&filters=year&filters=publication_type\"\n",
    "filter_dict = list([{'or_facet_publication_type':'article'},{'or_facet_year':1846}])\n"
   ]
  }
 ],
 "metadata": {
  "kernelspec": {
   "display_name": "Python 3",
   "language": "python",
   "name": "python3"
  },
  "language_info": {
   "codemirror_mode": {
    "name": "ipython",
    "version": 3
   },
   "file_extension": ".py",
   "mimetype": "text/x-python",
   "name": "python",
   "nbconvert_exporter": "python",
   "pygments_lexer": "ipython3",
   "version": "3.12.2"
  }
 },
 "nbformat": 4,
 "nbformat_minor": 2
}
